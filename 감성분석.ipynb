{
 "cells": [
  {
   "cell_type": "markdown",
   "metadata": {
    "colab": {
     "base_uri": "https://localhost:8080/",
     "height": 1000
    },
    "id": "ytHz6gH_1LZC",
    "outputId": "1a99654e-0f86-4feb-9035-d6cba985eaca"
   },
   "source": [
    "!pip install git+https://github.com/ssut/py-hanspell.git\n",
    "!pip install git+https://github.com/haven-jeon/PyKoSpacing.git\n",
    "!pip install konlpy\n",
    "!pip install wordcloud\n",
    "!pip install gensim"
   ]
  },
  {
   "cell_type": "code",
   "execution_count": 1,
   "metadata": {
    "id": "yUsyjoOh0QzB"
   },
   "outputs": [],
   "source": [
    "import pandas as pd \n",
    "import numpy as np\n",
    "import matplotlib.pyplot as plt\n",
    "%matplotlib inline \n",
    "import sys\n",
    "from konlpy.tag import Okt\n",
    "from collections import Counter\n",
    "from wordcloud import WordCloud\n",
    "from sklearn.model_selection import train_test_split"
   ]
  },
  {
   "cell_type": "code",
   "execution_count": 2,
   "metadata": {},
   "outputs": [],
   "source": [
    "df= pd.read_csv(\"최종합친호텔리뷰.csv\")"
   ]
  },
  {
   "cell_type": "code",
   "execution_count": 3,
   "metadata": {},
   "outputs": [
    {
     "name": "stdout",
     "output_type": "stream",
     "text": [
      "<class 'pandas.core.frame.DataFrame'>\n",
      "RangeIndex: 237450 entries, 0 to 237449\n",
      "Data columns (total 8 columns):\n",
      " #   Column              Non-Null Count   Dtype \n",
      "---  ------              --------------   ----- \n",
      " 0   hotel               237450 non-null  object\n",
      " 1   star                237450 non-null  int64 \n",
      " 2   review              237450 non-null  object\n",
      " 3   date                237450 non-null  object\n",
      " 4   real_date           237450 non-null  object\n",
      " 5   length              237450 non-null  int64 \n",
      " 6   review_spell_check  237450 non-null  object\n",
      " 7   site                237450 non-null  int64 \n",
      "dtypes: int64(3), object(5)\n",
      "memory usage: 14.5+ MB\n"
     ]
    }
   ],
   "source": [
    "df.info()"
   ]
  },
  {
   "cell_type": "code",
   "execution_count": 4,
   "metadata": {},
   "outputs": [
    {
     "data": {
      "text/html": [
       "<div>\n",
       "<style scoped>\n",
       "    .dataframe tbody tr th:only-of-type {\n",
       "        vertical-align: middle;\n",
       "    }\n",
       "\n",
       "    .dataframe tbody tr th {\n",
       "        vertical-align: top;\n",
       "    }\n",
       "\n",
       "    .dataframe thead th {\n",
       "        text-align: right;\n",
       "    }\n",
       "</style>\n",
       "<table border=\"1\" class=\"dataframe\">\n",
       "  <thead>\n",
       "    <tr style=\"text-align: right;\">\n",
       "      <th></th>\n",
       "      <th>star</th>\n",
       "      <th>length</th>\n",
       "      <th>site</th>\n",
       "    </tr>\n",
       "  </thead>\n",
       "  <tbody>\n",
       "    <tr>\n",
       "      <th>count</th>\n",
       "      <td>237450.000000</td>\n",
       "      <td>237450.000000</td>\n",
       "      <td>237450.000000</td>\n",
       "    </tr>\n",
       "    <tr>\n",
       "      <th>mean</th>\n",
       "      <td>4.635641</td>\n",
       "      <td>57.506161</td>\n",
       "      <td>0.483799</td>\n",
       "    </tr>\n",
       "    <tr>\n",
       "      <th>std</th>\n",
       "      <td>0.744728</td>\n",
       "      <td>76.847789</td>\n",
       "      <td>0.499739</td>\n",
       "    </tr>\n",
       "    <tr>\n",
       "      <th>min</th>\n",
       "      <td>1.000000</td>\n",
       "      <td>1.000000</td>\n",
       "      <td>0.000000</td>\n",
       "    </tr>\n",
       "    <tr>\n",
       "      <th>25%</th>\n",
       "      <td>4.000000</td>\n",
       "      <td>11.000000</td>\n",
       "      <td>0.000000</td>\n",
       "    </tr>\n",
       "    <tr>\n",
       "      <th>50%</th>\n",
       "      <td>5.000000</td>\n",
       "      <td>23.000000</td>\n",
       "      <td>0.000000</td>\n",
       "    </tr>\n",
       "    <tr>\n",
       "      <th>75%</th>\n",
       "      <td>5.000000</td>\n",
       "      <td>66.000000</td>\n",
       "      <td>1.000000</td>\n",
       "    </tr>\n",
       "    <tr>\n",
       "      <th>max</th>\n",
       "      <td>5.000000</td>\n",
       "      <td>500.000000</td>\n",
       "      <td>1.000000</td>\n",
       "    </tr>\n",
       "  </tbody>\n",
       "</table>\n",
       "</div>"
      ],
      "text/plain": [
       "                star         length           site\n",
       "count  237450.000000  237450.000000  237450.000000\n",
       "mean        4.635641      57.506161       0.483799\n",
       "std         0.744728      76.847789       0.499739\n",
       "min         1.000000       1.000000       0.000000\n",
       "25%         4.000000      11.000000       0.000000\n",
       "50%         5.000000      23.000000       0.000000\n",
       "75%         5.000000      66.000000       1.000000\n",
       "max         5.000000     500.000000       1.000000"
      ]
     },
     "execution_count": 4,
     "metadata": {},
     "output_type": "execute_result"
    }
   ],
   "source": [
    "df.describe()"
   ]
  },
  {
   "cell_type": "code",
   "execution_count": 5,
   "metadata": {},
   "outputs": [
    {
     "data": {
      "text/plain": [
       "count       237450\n",
       "unique         303\n",
       "top       신라스테이 구로\n",
       "freq          9261\n",
       "Name: hotel, dtype: object"
      ]
     },
     "execution_count": 5,
     "metadata": {},
     "output_type": "execute_result"
    }
   ],
   "source": [
    "df.hotel.describe()"
   ]
  },
  {
   "cell_type": "code",
   "execution_count": 6,
   "metadata": {},
   "outputs": [
    {
     "data": {
      "text/plain": [
       "신라스테이 구로          9261\n",
       "글래드 마포            7245\n",
       "신라스테이 마포          6651\n",
       "노보텔 앰배서더 서울 용산    5513\n",
       "롯데시티호텔 명동         5138\n",
       "                  ... \n",
       "메이원호텔                4\n",
       "사월 호텔                3\n",
       "마리호텔                 2\n",
       "종로 호텔팝 리즈 프리미어       1\n",
       "유에이치 스위트 더 서울        1\n",
       "Name: hotel, Length: 303, dtype: int64"
      ]
     },
     "execution_count": 6,
     "metadata": {},
     "output_type": "execute_result"
    }
   ],
   "source": [
    "df.hotel.value_counts()"
   ]
  },
  {
   "cell_type": "code",
   "execution_count": 7,
   "metadata": {
    "colab": {
     "base_uri": "https://localhost:8080/"
    },
    "id": "j0GsXqmb9Q2P",
    "outputId": "af0567a5-6d10-4ede-a3ab-13711abd28d8",
    "scrolled": true
   },
   "outputs": [
    {
     "name": "stdout",
     "output_type": "stream",
     "text": [
      "결측치가 존재하지 않습니다\n"
     ]
    }
   ],
   "source": [
    "# 결측치 존재 여부를 확인해주는 함수\n",
    "def check_missing_col(dataframe):\n",
    "    missing_col = []\n",
    "    counted_missing_col = 0\n",
    "    for i, col in enumerate(dataframe.columns):\n",
    "        missing_values = sum(dataframe[col].isna())\n",
    "        is_missing = True if missing_values >= 1 else False\n",
    "        if is_missing:\n",
    "            counted_missing_col += 1\n",
    "            print(f'결측치가 있는 컬럼은: {col}입니다')\n",
    "            print(f'해당 컬럼에 총 {missing_values}개의 결측치가 존재합니다.')\n",
    "            missing_col.append([col, dataframe[col].dtype])\n",
    "    if counted_missing_col == 0:\n",
    "        print('결측치가 존재하지 않습니다')\n",
    "    return missing_col\n",
    "\n",
    "missing_col = check_missing_col(df)"
   ]
  },
  {
   "cell_type": "code",
   "execution_count": 8,
   "metadata": {
    "id": "lEIZbJleAz0C"
   },
   "outputs": [],
   "source": [
    "df = df.dropna()"
   ]
  },
  {
   "cell_type": "code",
   "execution_count": 8,
   "metadata": {
    "colab": {
     "base_uri": "https://localhost:8080/"
    },
    "id": "_Q-ltLK79oVp",
    "outputId": "51fd7779-8037-4346-ccfd-dc5dfedc8e0e"
   },
   "outputs": [
    {
     "data": {
      "text/plain": [
       "5    177447\n",
       "4     42599\n",
       "3     11020\n",
       "2      3658\n",
       "1      2726\n",
       "Name: star, dtype: int64"
      ]
     },
     "execution_count": 8,
     "metadata": {},
     "output_type": "execute_result"
    }
   ],
   "source": [
    "val_count = df['star'].value_counts() # 유니크값의 개수를 확인합니다.\n",
    "val_count"
   ]
  },
  {
   "cell_type": "code",
   "execution_count": 9,
   "metadata": {
    "id": "tmp1Qc-3yYXS"
   },
   "outputs": [],
   "source": [
    "import matplotlib.pyplot as plt # 그래프 그리기 위한 패키지\n",
    "%matplotlib inline\n",
    "plt.style.use(\"ggplot\")"
   ]
  },
  {
   "cell_type": "code",
   "execution_count": 10,
   "metadata": {
    "colab": {
     "base_uri": "https://localhost:8080/",
     "height": 533
    },
    "id": "7SnKNPm1ycss",
    "outputId": "e24e0aa8-d5e9-496c-dedd-4d13454a4d41"
   },
   "outputs": [
    {
     "data": {
      "image/png": "[encoded data removed]",
      "text/plain": [
       "<Figure size 720x540 with 1 Axes>"
      ]
     },
     "metadata": {},
     "output_type": "display_data"
    }
   ],
   "source": [
    "# 히스토그램 을 사용해서 데이터의 분포를 살펴봅니다.\n",
    "feature = df['star']\n",
    "\n",
    "plt.figure(figsize=(10,7.5)) # 그래프 이미지 크기 설정\n",
    "plt.suptitle(\"Hotel review\", fontsize=30) # 부제목과 폰트 크기 설정\n",
    "\n",
    "plt.title('star', fontsize=20) # 제목과 폰트 크기 설정\n",
    "temp = feature.value_counts() # feature 변수의 변수별 개수 계산\n",
    "plt.bar(temp.keys(), temp.values, width=0.5, color='b', alpha=0.5) # 막대그래프 생성\n",
    "plt.xticks(temp.keys(), fontsize=12) # x축 값, 폰트 크기 설정\n",
    "plt.tight_layout(rect=[0, 0.03, 1, 0.95]) # 레이아웃 설정\n",
    "plt.show() # 그래프 나타내기"
   ]
  },
  {
   "cell_type": "code",
   "execution_count": null,
   "metadata": {},
   "outputs": [],
   "source": [
    "bad = df.loc[df.star<=3]\n",
    "good = df.loc[df.star==5]\n",
    "bad['label'] = 0\n",
    "good['label']= 1"
   ]
  },
  {
   "cell_type": "code",
   "execution_count": 13,
   "metadata": {},
   "outputs": [
    {
     "data": {
      "text/html": [
       "<div>\n",
       "<style scoped>\n",
       "    .dataframe tbody tr th:only-of-type {\n",
       "        vertical-align: middle;\n",
       "    }\n",
       "\n",
       "    .dataframe tbody tr th {\n",
       "        vertical-align: top;\n",
       "    }\n",
       "\n",
       "    .dataframe thead th {\n",
       "        text-align: right;\n",
       "    }\n",
       "</style>\n",
       "<table border=\"1\" class=\"dataframe\">\n",
       "  <thead>\n",
       "    <tr style=\"text-align: right;\">\n",
       "      <th></th>\n",
       "      <th>hotel</th>\n",
       "      <th>star</th>\n",
       "      <th>review</th>\n",
       "      <th>date</th>\n",
       "      <th>real_date</th>\n",
       "      <th>length</th>\n",
       "      <th>review_spell_check</th>\n",
       "      <th>site</th>\n",
       "      <th>label</th>\n",
       "    </tr>\n",
       "  </thead>\n",
       "  <tbody>\n",
       "    <tr>\n",
       "      <th>2</th>\n",
       "      <td>AC 호텔 바이 메리어트 서울 강남</td>\n",
       "      <td>3</td>\n",
       "      <td>생각보다 방이 좁아서 놀랐어요 아무래도 안마의자나 고급 블루투스 스피커처럼 주변기기...</td>\n",
       "      <td>6일 전</td>\n",
       "      <td>2022. 04. 01</td>\n",
       "      <td>84</td>\n",
       "      <td>생각보다 방이 좁아서 놀랐어요 아무래도 안마의자나 고급 블루투스 스피커처럼 주변기기...</td>\n",
       "      <td>0</td>\n",
       "      <td>0</td>\n",
       "    </tr>\n",
       "    <tr>\n",
       "      <th>61</th>\n",
       "      <td>몬드리안 서울 이태원(Mondrian Seoul Itaewon)</td>\n",
       "      <td>3</td>\n",
       "      <td>구냥 구렇네요</td>\n",
       "      <td>2022. 02. 28</td>\n",
       "      <td>2022. 02. 28</td>\n",
       "      <td>7</td>\n",
       "      <td>구냥 고렇네요</td>\n",
       "      <td>0</td>\n",
       "      <td>0</td>\n",
       "    </tr>\n",
       "    <tr>\n",
       "      <th>90</th>\n",
       "      <td>몬드리안 서울 이태원(Mondrian Seoul Itaewon)</td>\n",
       "      <td>3</td>\n",
       "      <td>옆방이랑 같이 자는 느낌 양 옆방이랑 방음 진짜 아예 안되고 객실 내에서는 화장실 ...</td>\n",
       "      <td>2022. 01. 23</td>\n",
       "      <td>2022. 01. 23</td>\n",
       "      <td>57</td>\n",
       "      <td>옆방이랑 같이 자는 느낌 양 옆방이랑 방음 진짜 아예 안되고 객실 내에서는 화장실 ...</td>\n",
       "      <td>0</td>\n",
       "      <td>0</td>\n",
       "    </tr>\n",
       "    <tr>\n",
       "      <th>103</th>\n",
       "      <td>몬드리안 서울 이태원(Mondrian Seoul Itaewon)</td>\n",
       "      <td>1</td>\n",
       "      <td>정말 가격 5성급에 비해 방도 너무 비좁습니다그리고 방음도 안되서 윗층의 발걸음 소...</td>\n",
       "      <td>2022. 01. 09</td>\n",
       "      <td>2022. 01. 09</td>\n",
       "      <td>125</td>\n",
       "      <td>정말 가격 5성급에 비해 방도 너무 비좁습니다 그리고 방음도 안돼서 위층의 발걸음 ...</td>\n",
       "      <td>0</td>\n",
       "      <td>0</td>\n",
       "    </tr>\n",
       "    <tr>\n",
       "      <th>120</th>\n",
       "      <td>몬드리안 서울 이태원(Mondrian Seoul Itaewon)</td>\n",
       "      <td>1</td>\n",
       "      <td>비싼돈 내고 미리 예약했더니 당일 예약이 가격이 더 저렴함스페리어룸9층 부터 객실 ...</td>\n",
       "      <td>2021. 12. 28</td>\n",
       "      <td>2021. 12. 28</td>\n",
       "      <td>213</td>\n",
       "      <td>비싼 돈 내고 미리 예약했더니 당일 예약이 가격이 더 저렴함 스페리 어름 9층부터 ...</td>\n",
       "      <td>0</td>\n",
       "      <td>0</td>\n",
       "    </tr>\n",
       "    <tr>\n",
       "      <th>...</th>\n",
       "      <td>...</td>\n",
       "      <td>...</td>\n",
       "      <td>...</td>\n",
       "      <td>...</td>\n",
       "      <td>...</td>\n",
       "      <td>...</td>\n",
       "      <td>...</td>\n",
       "      <td>...</td>\n",
       "      <td>...</td>\n",
       "    </tr>\n",
       "    <tr>\n",
       "      <th>237284</th>\n",
       "      <td>뜨랑블루 호텔</td>\n",
       "      <td>3</td>\n",
       "      <td>1 외관상 청결함은 문제없음2 suv차량까지는 주차되는데 전화하니 안된다 된다 정확...</td>\n",
       "      <td>3년 전</td>\n",
       "      <td>3년 전</td>\n",
       "      <td>198</td>\n",
       "      <td>1 외관상 청결함은 문제없음 2 suv 차량까지는 주차되는데 전화하니 안된다 된다 ...</td>\n",
       "      <td>1</td>\n",
       "      <td>0</td>\n",
       "    </tr>\n",
       "    <tr>\n",
       "      <th>237309</th>\n",
       "      <td>뜨랑블루 호텔</td>\n",
       "      <td>3</td>\n",
       "      <td>창문에서 웃풍이  불어 춥고 새벽 사람들 소리때문에 시끄러웠습니다</td>\n",
       "      <td>3년 전</td>\n",
       "      <td>3년 전</td>\n",
       "      <td>36</td>\n",
       "      <td>창문에서 웃풍이  불어 춥고 새벽 사람들 소리 때문에 시끄러웠습니다</td>\n",
       "      <td>1</td>\n",
       "      <td>0</td>\n",
       "    </tr>\n",
       "    <tr>\n",
       "      <th>237315</th>\n",
       "      <td>뜨랑블루 호텔</td>\n",
       "      <td>3</td>\n",
       "      <td>가격대비 괜찮은거 같네요</td>\n",
       "      <td>3년 전</td>\n",
       "      <td>3년 전</td>\n",
       "      <td>13</td>\n",
       "      <td>가격 대비 괜찮은 거 같네요</td>\n",
       "      <td>1</td>\n",
       "      <td>0</td>\n",
       "    </tr>\n",
       "    <tr>\n",
       "      <th>237345</th>\n",
       "      <td>뜨랑블루 호텔</td>\n",
       "      <td>3</td>\n",
       "      <td>이번이 두번째 방문인데 손가락만한 바퀴벌레가 나왔어요전화하니까 방 변경해주셔서 옮겼...</td>\n",
       "      <td>3년 전</td>\n",
       "      <td>3년 전</td>\n",
       "      <td>118</td>\n",
       "      <td>이번이 두 번째 방문인데 손가락만 한 바퀴벌레가 나왔어요 전화하니까 방 변경해주셔서...</td>\n",
       "      <td>1</td>\n",
       "      <td>0</td>\n",
       "    </tr>\n",
       "    <tr>\n",
       "      <th>237445</th>\n",
       "      <td>뜨랑블루 호텔</td>\n",
       "      <td>2</td>\n",
       "      <td>시설 깨끗하고 다 좋은데퇴실도 안햇는데 청소하시는분인지 입구문을 맘대로 여시더라구요...</td>\n",
       "      <td>5년 전</td>\n",
       "      <td>5년 전</td>\n",
       "      <td>60</td>\n",
       "      <td>시설 깨끗하고 다 좋은데 퇴실도 안 했는데 청소하시는 분인지 입구물을 맘대로 여시더...</td>\n",
       "      <td>1</td>\n",
       "      <td>0</td>\n",
       "    </tr>\n",
       "  </tbody>\n",
       "</table>\n",
       "<p>17404 rows × 9 columns</p>\n",
       "</div>"
      ],
      "text/plain": [
       "                                      hotel  star  \\\n",
       "2                       AC 호텔 바이 메리어트 서울 강남     3   \n",
       "61      몬드리안 서울 이태원(Mondrian Seoul Itaewon)     3   \n",
       "90      몬드리안 서울 이태원(Mondrian Seoul Itaewon)     3   \n",
       "103     몬드리안 서울 이태원(Mondrian Seoul Itaewon)     1   \n",
       "120     몬드리안 서울 이태원(Mondrian Seoul Itaewon)     1   \n",
       "...                                     ...   ...   \n",
       "237284                              뜨랑블루 호텔     3   \n",
       "237309                              뜨랑블루 호텔     3   \n",
       "237315                              뜨랑블루 호텔     3   \n",
       "237345                              뜨랑블루 호텔     3   \n",
       "237445                              뜨랑블루 호텔     2   \n",
       "\n",
       "                                                   review          date  \\\n",
       "2       생각보다 방이 좁아서 놀랐어요 아무래도 안마의자나 고급 블루투스 스피커처럼 주변기기...          6일 전   \n",
       "61                                                구냥 구렇네요  2022. 02. 28   \n",
       "90      옆방이랑 같이 자는 느낌 양 옆방이랑 방음 진짜 아예 안되고 객실 내에서는 화장실 ...  2022. 01. 23   \n",
       "103     정말 가격 5성급에 비해 방도 너무 비좁습니다그리고 방음도 안되서 윗층의 발걸음 소...  2022. 01. 09   \n",
       "120     비싼돈 내고 미리 예약했더니 당일 예약이 가격이 더 저렴함스페리어룸9층 부터 객실 ...  2021. 12. 28   \n",
       "...                                                   ...           ...   \n",
       "237284  1 외관상 청결함은 문제없음2 suv차량까지는 주차되는데 전화하니 안된다 된다 정확...          3년 전   \n",
       "237309               창문에서 웃풍이  불어 춥고 새벽 사람들 소리때문에 시끄러웠습니다          3년 전   \n",
       "237315                                      가격대비 괜찮은거 같네요          3년 전   \n",
       "237345  이번이 두번째 방문인데 손가락만한 바퀴벌레가 나왔어요전화하니까 방 변경해주셔서 옮겼...          3년 전   \n",
       "237445  시설 깨끗하고 다 좋은데퇴실도 안햇는데 청소하시는분인지 입구문을 맘대로 여시더라구요...          5년 전   \n",
       "\n",
       "           real_date  length  \\\n",
       "2       2022. 04. 01      84   \n",
       "61      2022. 02. 28       7   \n",
       "90      2022. 01. 23      57   \n",
       "103     2022. 01. 09     125   \n",
       "120     2021. 12. 28     213   \n",
       "...              ...     ...   \n",
       "237284          3년 전     198   \n",
       "237309          3년 전      36   \n",
       "237315          3년 전      13   \n",
       "237345          3년 전     118   \n",
       "237445          5년 전      60   \n",
       "\n",
       "                                       review_spell_check  site  label  \n",
       "2       생각보다 방이 좁아서 놀랐어요 아무래도 안마의자나 고급 블루투스 스피커처럼 주변기기...     0      0  \n",
       "61                                                구냥 고렇네요     0      0  \n",
       "90      옆방이랑 같이 자는 느낌 양 옆방이랑 방음 진짜 아예 안되고 객실 내에서는 화장실 ...     0      0  \n",
       "103     정말 가격 5성급에 비해 방도 너무 비좁습니다 그리고 방음도 안돼서 위층의 발걸음 ...     0      0  \n",
       "120     비싼 돈 내고 미리 예약했더니 당일 예약이 가격이 더 저렴함 스페리 어름 9층부터 ...     0      0  \n",
       "...                                                   ...   ...    ...  \n",
       "237284  1 외관상 청결함은 문제없음 2 suv 차량까지는 주차되는데 전화하니 안된다 된다 ...     1      0  \n",
       "237309              창문에서 웃풍이  불어 춥고 새벽 사람들 소리 때문에 시끄러웠습니다     1      0  \n",
       "237315                                    가격 대비 괜찮은 거 같네요     1      0  \n",
       "237345  이번이 두 번째 방문인데 손가락만 한 바퀴벌레가 나왔어요 전화하니까 방 변경해주셔서...     1      0  \n",
       "237445  시설 깨끗하고 다 좋은데 퇴실도 안 했는데 청소하시는 분인지 입구물을 맘대로 여시더...     1      0  \n",
       "\n",
       "[17404 rows x 9 columns]"
      ]
     },
     "execution_count": 13,
     "metadata": {},
     "output_type": "execute_result"
    }
   ],
   "source": [
    "bad"
   ]
  },
  {
   "cell_type": "code",
   "execution_count": 16,
   "metadata": {},
   "outputs": [
    {
     "data": {
      "text/html": [
       "<div>\n",
       "<style scoped>\n",
       "    .dataframe tbody tr th:only-of-type {\n",
       "        vertical-align: middle;\n",
       "    }\n",
       "\n",
       "    .dataframe tbody tr th {\n",
       "        vertical-align: top;\n",
       "    }\n",
       "\n",
       "    .dataframe thead th {\n",
       "        text-align: right;\n",
       "    }\n",
       "</style>\n",
       "<table border=\"1\" class=\"dataframe\">\n",
       "  <thead>\n",
       "    <tr style=\"text-align: right;\">\n",
       "      <th></th>\n",
       "      <th>hotel</th>\n",
       "      <th>star</th>\n",
       "      <th>review</th>\n",
       "      <th>date</th>\n",
       "      <th>real_date</th>\n",
       "      <th>length</th>\n",
       "      <th>review_spell_check</th>\n",
       "      <th>site</th>\n",
       "      <th>label</th>\n",
       "    </tr>\n",
       "  </thead>\n",
       "  <tbody>\n",
       "    <tr>\n",
       "      <th>1</th>\n",
       "      <td>AC 호텔 바이 메리어트 서울 강남</td>\n",
       "      <td>5</td>\n",
       "      <td>굳굳굳굳굳</td>\n",
       "      <td>6일 전</td>\n",
       "      <td>2022. 04. 01</td>\n",
       "      <td>5</td>\n",
       "      <td>굳굳굳굳굳</td>\n",
       "      <td>0</td>\n",
       "      <td>1</td>\n",
       "    </tr>\n",
       "    <tr>\n",
       "      <th>3</th>\n",
       "      <td>AC 호텔 바이 메리어트 서울 강남</td>\n",
       "      <td>5</td>\n",
       "      <td>오픈하고 얼마안되서 갔었는데 깔끔하고 좋은 호텔이였습니다 오픈초기에 사소한 부분에서...</td>\n",
       "      <td>2022. 03. 27</td>\n",
       "      <td>2022. 03. 27</td>\n",
       "      <td>99</td>\n",
       "      <td>오픈하고 얼마 안 돼서 갔었는데 깔끔하고 좋은 호텔이었습니다 오픈 초기에 사소한 부...</td>\n",
       "      <td>0</td>\n",
       "      <td>1</td>\n",
       "    </tr>\n",
       "    <tr>\n",
       "      <th>4</th>\n",
       "      <td>몬드리안 서울 이태원(Mondrian Seoul Itaewon)</td>\n",
       "      <td>5</td>\n",
       "      <td>객실이 깨끗하고 너무 예뻣어요</td>\n",
       "      <td>3일 전</td>\n",
       "      <td>2022. 04. 01</td>\n",
       "      <td>16</td>\n",
       "      <td>객실이 깨끗하고 너무 예뻤어요</td>\n",
       "      <td>0</td>\n",
       "      <td>1</td>\n",
       "    </tr>\n",
       "    <tr>\n",
       "      <th>6</th>\n",
       "      <td>몬드리안 서울 이태원(Mondrian Seoul Itaewon)</td>\n",
       "      <td>5</td>\n",
       "      <td>행복하고 즐거운시간이었습니다</td>\n",
       "      <td>4일 전</td>\n",
       "      <td>2022. 04. 01</td>\n",
       "      <td>15</td>\n",
       "      <td>행복하고 즐거운 시간이었습니다</td>\n",
       "      <td>0</td>\n",
       "      <td>1</td>\n",
       "    </tr>\n",
       "    <tr>\n",
       "      <th>7</th>\n",
       "      <td>몬드리안 서울 이태원(Mondrian Seoul Itaewon)</td>\n",
       "      <td>5</td>\n",
       "      <td>너무 좋았어요 깨끗하고 좋은숙소였어요</td>\n",
       "      <td>4일 전</td>\n",
       "      <td>2022. 04. 01</td>\n",
       "      <td>20</td>\n",
       "      <td>너무 좋았어요 깨끗하고 좋은 숙소였어요</td>\n",
       "      <td>0</td>\n",
       "      <td>1</td>\n",
       "    </tr>\n",
       "    <tr>\n",
       "      <th>...</th>\n",
       "      <td>...</td>\n",
       "      <td>...</td>\n",
       "      <td>...</td>\n",
       "      <td>...</td>\n",
       "      <td>...</td>\n",
       "      <td>...</td>\n",
       "      <td>...</td>\n",
       "      <td>...</td>\n",
       "      <td>...</td>\n",
       "    </tr>\n",
       "    <tr>\n",
       "      <th>237443</th>\n",
       "      <td>뜨랑블루 호텔</td>\n",
       "      <td>5</td>\n",
       "      <td>방이 깨끗하고 넓고무엇보다 침구가 너무 편안해서숙박하기에 너무 좋은 호텔입니다분위도...</td>\n",
       "      <td>5년 전</td>\n",
       "      <td>5년 전</td>\n",
       "      <td>79</td>\n",
       "      <td>방이 깨끗하고 넓고 무엇보다 침구가 너무 편안해서 숙박하기에 너무 좋은 호텔입니다분...</td>\n",
       "      <td>1</td>\n",
       "      <td>1</td>\n",
       "    </tr>\n",
       "    <tr>\n",
       "      <th>237444</th>\n",
       "      <td>뜨랑블루 호텔</td>\n",
       "      <td>5</td>\n",
       "      <td>좋앗음</td>\n",
       "      <td>5년 전</td>\n",
       "      <td>5년 전</td>\n",
       "      <td>3</td>\n",
       "      <td>좋았음</td>\n",
       "      <td>1</td>\n",
       "      <td>1</td>\n",
       "    </tr>\n",
       "    <tr>\n",
       "      <th>237446</th>\n",
       "      <td>뜨랑블루 호텔</td>\n",
       "      <td>5</td>\n",
       "      <td>깔끔하고 친철하고 모두 만족해요꼭 한번더 오고 싶은 숙박업소입니다</td>\n",
       "      <td>5년 전</td>\n",
       "      <td>5년 전</td>\n",
       "      <td>36</td>\n",
       "      <td>깔끔하고 친절하고 모두 만족해요 꼭 한 번 더 오고 싶은 숙박업소입니다</td>\n",
       "      <td>1</td>\n",
       "      <td>1</td>\n",
       "    </tr>\n",
       "    <tr>\n",
       "      <th>237447</th>\n",
       "      <td>뜨랑블루 호텔</td>\n",
       "      <td>5</td>\n",
       "      <td>괜찮았어요 좋더라구요 마음에 들었어요냄새도 안나드러구요</td>\n",
       "      <td>5년 전</td>\n",
       "      <td>5년 전</td>\n",
       "      <td>30</td>\n",
       "      <td>괜찮았어요 좋더라고요 마음에 들었어요 냄새도 안나드러구요</td>\n",
       "      <td>1</td>\n",
       "      <td>1</td>\n",
       "    </tr>\n",
       "    <tr>\n",
       "      <th>237448</th>\n",
       "      <td>뜨랑블루 호텔</td>\n",
       "      <td>5</td>\n",
       "      <td>시설 신림권에서 최고청결하고 수건에서 냄새도 안나고흠이라면 1000원받는 일회용품이...</td>\n",
       "      <td>5년 전</td>\n",
       "      <td>5년 전</td>\n",
       "      <td>51</td>\n",
       "      <td>시설 신림권에서 최고 청결하고 수건에서 냄새도 안 나고 흠이라면 1000원 받는 일...</td>\n",
       "      <td>1</td>\n",
       "      <td>1</td>\n",
       "    </tr>\n",
       "  </tbody>\n",
       "</table>\n",
       "<p>177447 rows × 9 columns</p>\n",
       "</div>"
      ],
      "text/plain": [
       "                                      hotel  star  \\\n",
       "1                       AC 호텔 바이 메리어트 서울 강남     5   \n",
       "3                       AC 호텔 바이 메리어트 서울 강남     5   \n",
       "4       몬드리안 서울 이태원(Mondrian Seoul Itaewon)     5   \n",
       "6       몬드리안 서울 이태원(Mondrian Seoul Itaewon)     5   \n",
       "7       몬드리안 서울 이태원(Mondrian Seoul Itaewon)     5   \n",
       "...                                     ...   ...   \n",
       "237443                              뜨랑블루 호텔     5   \n",
       "237444                              뜨랑블루 호텔     5   \n",
       "237446                              뜨랑블루 호텔     5   \n",
       "237447                              뜨랑블루 호텔     5   \n",
       "237448                              뜨랑블루 호텔     5   \n",
       "\n",
       "                                                   review          date  \\\n",
       "1                                                   굳굳굳굳굳          6일 전   \n",
       "3       오픈하고 얼마안되서 갔었는데 깔끔하고 좋은 호텔이였습니다 오픈초기에 사소한 부분에서...  2022. 03. 27   \n",
       "4                                        객실이 깨끗하고 너무 예뻣어요          3일 전   \n",
       "6                                         행복하고 즐거운시간이었습니다          4일 전   \n",
       "7                                    너무 좋았어요 깨끗하고 좋은숙소였어요          4일 전   \n",
       "...                                                   ...           ...   \n",
       "237443  방이 깨끗하고 넓고무엇보다 침구가 너무 편안해서숙박하기에 너무 좋은 호텔입니다분위도...          5년 전   \n",
       "237444                                                좋앗음          5년 전   \n",
       "237446               깔끔하고 친철하고 모두 만족해요꼭 한번더 오고 싶은 숙박업소입니다          5년 전   \n",
       "237447                     괜찮았어요 좋더라구요 마음에 들었어요냄새도 안나드러구요          5년 전   \n",
       "237448  시설 신림권에서 최고청결하고 수건에서 냄새도 안나고흠이라면 1000원받는 일회용품이...          5년 전   \n",
       "\n",
       "           real_date  length  \\\n",
       "1       2022. 04. 01       5   \n",
       "3       2022. 03. 27      99   \n",
       "4       2022. 04. 01      16   \n",
       "6       2022. 04. 01      15   \n",
       "7       2022. 04. 01      20   \n",
       "...              ...     ...   \n",
       "237443          5년 전      79   \n",
       "237444          5년 전       3   \n",
       "237446          5년 전      36   \n",
       "237447          5년 전      30   \n",
       "237448          5년 전      51   \n",
       "\n",
       "                                       review_spell_check  site  label  \n",
       "1                                                   굳굳굳굳굳     0      1  \n",
       "3       오픈하고 얼마 안 돼서 갔었는데 깔끔하고 좋은 호텔이었습니다 오픈 초기에 사소한 부...     0      1  \n",
       "4                                        객실이 깨끗하고 너무 예뻤어요     0      1  \n",
       "6                                        행복하고 즐거운 시간이었습니다     0      1  \n",
       "7                                   너무 좋았어요 깨끗하고 좋은 숙소였어요     0      1  \n",
       "...                                                   ...   ...    ...  \n",
       "237443  방이 깨끗하고 넓고 무엇보다 침구가 너무 편안해서 숙박하기에 너무 좋은 호텔입니다분...     1      1  \n",
       "237444                                                좋았음     1      1  \n",
       "237446            깔끔하고 친절하고 모두 만족해요 꼭 한 번 더 오고 싶은 숙박업소입니다     1      1  \n",
       "237447                    괜찮았어요 좋더라고요 마음에 들었어요 냄새도 안나드러구요     1      1  \n",
       "237448  시설 신림권에서 최고 청결하고 수건에서 냄새도 안 나고 흠이라면 1000원 받는 일...     1      1  \n",
       "\n",
       "[177447 rows x 9 columns]"
      ]
     },
     "execution_count": 16,
     "metadata": {},
     "output_type": "execute_result"
    }
   ],
   "source": [
    "good"
   ]
  },
  {
   "cell_type": "code",
   "execution_count": 19,
   "metadata": {},
   "outputs": [],
   "source": [
    "postive = good.sample(18000, random_state = 7)"
   ]
  },
  {
   "cell_type": "code",
   "execution_count": 20,
   "metadata": {},
   "outputs": [],
   "source": [
    "data= pd.concat([postive, bad])"
   ]
  },
  {
   "cell_type": "code",
   "execution_count": 24,
   "metadata": {},
   "outputs": [
    {
     "data": {
      "image/png": "[encoded data removed]",
      "text/plain": [
       "<Figure size 720x540 with 1 Axes>"
      ]
     },
     "metadata": {},
     "output_type": "display_data"
    }
   ],
   "source": [
    "import matplotlib.pyplot as plt # 그래프 그리기 위한 패키지\n",
    "%matplotlib inline\n",
    "plt.style.use(\"ggplot\")\n",
    "\n",
    "# 히스토그램 을 사용해서 데이터의 분포를 살펴봅니다.\n",
    "feature = data['label']\n",
    "\n",
    "plt.figure(figsize=(10,7.5)) # 그래프 이미지 크기 설정\n",
    "plt.title('label', fontsize=20) # 제목과 폰트 크기 설정\n",
    "temp = feature.value_counts() # feature 변수의 변수별 개수 계산\n",
    "plt.bar(temp.keys(), temp.values, width=0.5, color='b', alpha=0.5) # 막대그래프 생성\n",
    "plt.xticks(temp.keys(), fontsize=12) # x축 값, 폰트 크기 설정\n",
    "plt.tight_layout(rect=[0, 0.03, 1, 0.95]) # 레이아웃 설정\n",
    "plt.show() # 그래프 나타내기"
   ]
  },
  {
   "cell_type": "code",
   "execution_count": 25,
   "metadata": {},
   "outputs": [],
   "source": [
    "target = data.label\n",
    "data = data.review_spell_check"
   ]
  },
  {
   "cell_type": "code",
   "execution_count": 26,
   "metadata": {},
   "outputs": [],
   "source": [
    "# train_test_split\n",
    "x_train, x_test, y_train, y_test = train_test_split(data, target, test_size=0.2, shuffle=True, stratify=target, random_state=777)"
   ]
  },
  {
   "cell_type": "code",
   "execution_count": 27,
   "metadata": {
    "id": "ytW16KsA-o_L"
   },
   "outputs": [],
   "source": [
    "df_train = df.review_spell_check.copy()"
   ]
  },
  {
   "cell_type": "code",
   "execution_count": 32,
   "metadata": {
    "id": "oCl98qooGoG2"
   },
   "outputs": [],
   "source": [
    "from sklearn.feature_extraction.text import CountVectorizer #sklearn 패키지의 CountVectorizer import\n",
    "\n",
    "vectorizer = CountVectorizer() #countvectorizer 생성\n",
    "vectorizer.fit(x_train) # countvectorizer 학습\n",
    "X = vectorizer.transform(x_train) # transform"
   ]
  },
  {
   "cell_type": "code",
   "execution_count": 34,
   "metadata": {
    "id": "0Yh1ri1nvIUf"
   },
   "outputs": [],
   "source": [
    "from sklearn.linear_model import LogisticRegression"
   ]
  },
  {
   "cell_type": "code",
   "execution_count": 36,
   "metadata": {
    "id": "DjUS6p0c1_zx"
   },
   "outputs": [
    {
     "name": "stderr",
     "output_type": "stream",
     "text": [
      "C:\\Users\\User\\anaconda3\\lib\\site-packages\\sklearn\\linear_model\\_logistic.py:762: ConvergenceWarning: lbfgs failed to converge (status=1):\n",
      "STOP: TOTAL NO. of ITERATIONS REACHED LIMIT.\n",
      "\n",
      "Increase the number of iterations (max_iter) or scale the data as shown in:\n",
      "    https://scikit-learn.org/stable/modules/preprocessing.html\n",
      "Please also refer to the documentation for alternative solver options:\n",
      "    https://scikit-learn.org/stable/modules/linear_model.html#logistic-regression\n",
      "  n_iter_i = _check_optimize_result(\n"
     ]
    },
    {
     "data": {
      "text/plain": [
       "LogisticRegression()"
      ]
     },
     "execution_count": 36,
     "metadata": {},
     "output_type": "execute_result"
    }
   ],
   "source": [
    "model = LogisticRegression()\n",
    "model.fit(X,y_train)"
   ]
  },
  {
   "cell_type": "code",
   "execution_count": 41,
   "metadata": {
    "colab": {
     "base_uri": "https://localhost:8080/",
     "height": 251
    },
    "id": "Oxa4JOavJGAT",
    "outputId": "76eb279d-b895-4d40-ff71-e3ca95a89b45"
   },
   "outputs": [
    {
     "name": "stdout",
     "output_type": "stream",
     "text": [
      "직원이 불친절해요\n",
      "[0]\n"
     ]
    }
   ],
   "source": [
    "#입력해서 확인하는 용도\n",
    "#run model\n",
    "X_pred = vectorizer.transform([input()]) \n",
    "y_pred = model.predict(X_pred)\n",
    "print(y_pred)"
   ]
  },
  {
   "cell_type": "code",
   "execution_count": 38,
   "metadata": {},
   "outputs": [
    {
     "data": {
      "text/plain": [
       "103888    1\n",
       "113351    1\n",
       "242749    1\n",
       "126743    0\n",
       "153323    1\n",
       "         ..\n",
       "164832    1\n",
       "52651     1\n",
       "156726    0\n",
       "214532    0\n",
       "100775    1\n",
       "Name: label, Length: 7909, dtype: category\n",
       "Categories (2, int64): [0, 1]"
      ]
     },
     "execution_count": 38,
     "metadata": {},
     "output_type": "execute_result"
    }
   ],
   "source": [
    "y_test.astype('category')"
   ]
  },
  {
   "cell_type": "code",
   "execution_count": 42,
   "metadata": {},
   "outputs": [],
   "source": [
    "#run model\n",
    "X_pred = vectorizer.transform(x_test) \n",
    "y_pred = model.predict(X_pred)"
   ]
  },
  {
   "cell_type": "code",
   "execution_count": 43,
   "metadata": {},
   "outputs": [
    {
     "data": {
      "text/plain": [
       "0.9335522366980898"
      ]
     },
     "execution_count": 43,
     "metadata": {},
     "output_type": "execute_result"
    }
   ],
   "source": [
    "model.score(X, y_train)"
   ]
  },
  {
   "cell_type": "code",
   "execution_count": 51,
   "metadata": {},
   "outputs": [
    {
     "data": {
      "text/plain": [
       "0.8532693122440334"
      ]
     },
     "execution_count": 51,
     "metadata": {},
     "output_type": "execute_result"
    }
   ],
   "source": [
    "model.score(X_pred, y_test)"
   ]
  },
  {
   "cell_type": "code",
   "execution_count": 84,
   "metadata": {},
   "outputs": [
    {
     "data": {
      "image/png": "[encoded data removed]",
      "text/plain": [
       "<Figure size 432x288 with 2 Axes>"
      ]
     },
     "metadata": {},
     "output_type": "display_data"
    }
   ],
   "source": [
    "# confusion matrix\n",
    "from sklearn.metrics import classification_report, confusion_matrix, precision_score, recall_score, f1_score\n",
    "import seaborn as sns\n",
    "cm = confusion_matrix(y_test,y_pred)\n",
    "sns.heatmap(cm, annot = True, fmt = 'd',cmap = 'Blues')\n",
    "plt.xticks([0.5,1.5],['0(N)', '1(P)'])\n",
    "plt.yticks([0.5,1.5],['0(N)', '1(P)'])\n",
    "plt.show()"
   ]
  },
  {
   "cell_type": "code",
   "execution_count": 72,
   "metadata": {},
   "outputs": [
    {
     "data": {
      "text/plain": [
       "'              precision    recall  f1-score   support\\n\\n           0       0.88      0.82      0.85      3481\\n           1       0.83      0.89      0.86      3600\\n\\n    accuracy                           0.85      7081\\n   macro avg       0.85      0.85      0.85      7081\\nweighted avg       0.85      0.85      0.85      7081\\n'"
      ]
     },
     "execution_count": 72,
     "metadata": {},
     "output_type": "execute_result"
    }
   ],
   "source": [
    "classification_report(y_test,y_pred)"
   ]
  },
  {
   "cell_type": "code",
   "execution_count": 81,
   "metadata": {
    "scrolled": true
   },
   "outputs": [
    {
     "name": "stdout",
     "output_type": "stream",
     "text": [
      "accuracy: 0.8532693122440334\n",
      "precision: 0.8347712418300653\n",
      "recall: 0.8869444444444444\n",
      "f1_score: 0.8600673400673401\n"
     ]
    }
   ],
   "source": [
    "print(\"accuracy:\", model.score(X_pred, y_test))\n",
    "print(\"precision:\", precision_score(y_test,y_pred))\n",
    "print(\"recall:\", recall_score(y_test,y_pred))\n",
    "print(\"f1_score:\", f1_score(y_test,y_pred))"
   ]
  },
  {
   "cell_type": "code",
   "execution_count": 87,
   "metadata": {},
   "outputs": [],
   "source": [
    "four = df.loc[df.star==4]"
   ]
  },
  {
   "cell_type": "code",
   "execution_count": 88,
   "metadata": {},
   "outputs": [],
   "source": [
    "fxtest = four.review_spell_check"
   ]
  },
  {
   "cell_type": "code",
   "execution_count": 89,
   "metadata": {},
   "outputs": [],
   "source": [
    "f_pred = vectorizer.transform(fxtest) \n",
    "fy_pred = model.predict(f_pred)"
   ]
  },
  {
   "cell_type": "code",
   "execution_count": 92,
   "metadata": {},
   "outputs": [
    {
     "name": "stderr",
     "output_type": "stream",
     "text": [
      "<ipython-input-92-84ef34678ce1>:1: SettingWithCopyWarning: \n",
      "A value is trying to be set on a copy of a slice from a DataFrame.\n",
      "Try using .loc[row_indexer,col_indexer] = value instead\n",
      "\n",
      "See the caveats in the documentation: https://pandas.pydata.org/pandas-docs/stable/user_guide/indexing.html#returning-a-view-versus-a-copy\n",
      "  four['pred_label'] = fy_pred\n"
     ]
    }
   ],
   "source": [
    "four['pred_label'] = fy_pred"
   ]
  },
  {
   "cell_type": "code",
   "execution_count": 96,
   "metadata": {},
   "outputs": [
    {
     "data": {
      "text/html": [
       "<div>\n",
       "<style scoped>\n",
       "    .dataframe tbody tr th:only-of-type {\n",
       "        vertical-align: middle;\n",
       "    }\n",
       "\n",
       "    .dataframe tbody tr th {\n",
       "        vertical-align: top;\n",
       "    }\n",
       "\n",
       "    .dataframe thead th {\n",
       "        text-align: right;\n",
       "    }\n",
       "</style>\n",
       "<table border=\"1\" class=\"dataframe\">\n",
       "  <thead>\n",
       "    <tr style=\"text-align: right;\">\n",
       "      <th></th>\n",
       "      <th>hotel</th>\n",
       "      <th>star</th>\n",
       "      <th>review</th>\n",
       "      <th>date</th>\n",
       "      <th>real_date</th>\n",
       "      <th>length</th>\n",
       "      <th>review_spell_check</th>\n",
       "      <th>site</th>\n",
       "      <th>pred_label</th>\n",
       "    </tr>\n",
       "  </thead>\n",
       "  <tbody>\n",
       "    <tr>\n",
       "      <th>0</th>\n",
       "      <td>AC 호텔 바이 메리어트 서울 강남</td>\n",
       "      <td>4</td>\n",
       "      <td>발렛파킹 비용이 있긴 했지만 방도 나름 괜찮고 조식도 맛있었어요</td>\n",
       "      <td>10시간 전</td>\n",
       "      <td>2022. 04. 03</td>\n",
       "      <td>35</td>\n",
       "      <td>발레파킹 비용이 있긴 했지만 방도 나름 괜찮고 조식도 맛있었어요</td>\n",
       "      <td>0</td>\n",
       "      <td>0</td>\n",
       "    </tr>\n",
       "    <tr>\n",
       "      <th>24</th>\n",
       "      <td>몬드리안 서울 이태원(Mondrian Seoul Itaewon)</td>\n",
       "      <td>4</td>\n",
       "      <td>방이 꽤 작음 화장실이 따로 없음</td>\n",
       "      <td>2022. 03. 22</td>\n",
       "      <td>2022. 03. 22</td>\n",
       "      <td>18</td>\n",
       "      <td>방이 꽤 작음 화장실이 따로 없음</td>\n",
       "      <td>0</td>\n",
       "      <td>0</td>\n",
       "    </tr>\n",
       "    <tr>\n",
       "      <th>66</th>\n",
       "      <td>몬드리안 서울 이태원(Mondrian Seoul Itaewon)</td>\n",
       "      <td>4</td>\n",
       "      <td>체크인 오래 기다렸어요</td>\n",
       "      <td>2022. 02. 23</td>\n",
       "      <td>2022. 02. 23</td>\n",
       "      <td>12</td>\n",
       "      <td>체크인 오래 기다렸어요</td>\n",
       "      <td>0</td>\n",
       "      <td>0</td>\n",
       "    </tr>\n",
       "    <tr>\n",
       "      <th>83</th>\n",
       "      <td>몬드리안 서울 이태원(Mondrian Seoul Itaewon)</td>\n",
       "      <td>4</td>\n",
       "      <td>체크인 30 분 넘게 걸림   데스크 직원 너무 적음 객실 은 절대 5성급 아님  ...</td>\n",
       "      <td>2022. 01. 31</td>\n",
       "      <td>2022. 01. 31</td>\n",
       "      <td>67</td>\n",
       "      <td>체크인 30 분 넘게 걸림   데스크 직원 너무 적음 객실 은 절대 5성급 아님  ...</td>\n",
       "      <td>0</td>\n",
       "      <td>0</td>\n",
       "    </tr>\n",
       "    <tr>\n",
       "      <th>108</th>\n",
       "      <td>몬드리안 서울 이태원(Mondrian Seoul Itaewon)</td>\n",
       "      <td>4</td>\n",
       "      <td>방음이 조금 아쉬움 편의시설잘되어있음</td>\n",
       "      <td>2022. 01. 04</td>\n",
       "      <td>2022. 01. 04</td>\n",
       "      <td>20</td>\n",
       "      <td>방음이 조금 아쉬움 편의시설 잘 되어있음</td>\n",
       "      <td>0</td>\n",
       "      <td>0</td>\n",
       "    </tr>\n",
       "    <tr>\n",
       "      <th>...</th>\n",
       "      <td>...</td>\n",
       "      <td>...</td>\n",
       "      <td>...</td>\n",
       "      <td>...</td>\n",
       "      <td>...</td>\n",
       "      <td>...</td>\n",
       "      <td>...</td>\n",
       "      <td>...</td>\n",
       "      <td>...</td>\n",
       "    </tr>\n",
       "    <tr>\n",
       "      <th>237400</th>\n",
       "      <td>뜨랑블루 호텔</td>\n",
       "      <td>4</td>\n",
       "      <td>디럭스더블룸을 혼자 이용했습니다방 사이즈도 큰편이었고 침대는 부드럽고 폭신폭신전반적...</td>\n",
       "      <td>4년 전</td>\n",
       "      <td>4년 전</td>\n",
       "      <td>295</td>\n",
       "      <td>디럭스 더블룸을 혼자 이용했습니다 방 사이즈도 큰 편이었고 침대는 부드럽고 폭신폭신...</td>\n",
       "      <td>1</td>\n",
       "      <td>0</td>\n",
       "    </tr>\n",
       "    <tr>\n",
       "      <th>237402</th>\n",
       "      <td>뜨랑블루 호텔</td>\n",
       "      <td>4</td>\n",
       "      <td>욕조있다고 적혀있는데 없는 방도 있네요</td>\n",
       "      <td>4년 전</td>\n",
       "      <td>4년 전</td>\n",
       "      <td>21</td>\n",
       "      <td>욕조 있다고 적혀있는데 없는 방도 있네요</td>\n",
       "      <td>1</td>\n",
       "      <td>0</td>\n",
       "    </tr>\n",
       "    <tr>\n",
       "      <th>237424</th>\n",
       "      <td>뜨랑블루 호텔</td>\n",
       "      <td>4</td>\n",
       "      <td>직원분들은 매우 친절했습니다조식은 무료라 그럭저럭 잘 먹었어요세면대가 잘 안내려가요</td>\n",
       "      <td>4년 전</td>\n",
       "      <td>4년 전</td>\n",
       "      <td>46</td>\n",
       "      <td>직원분들은 매우 친절했습니다 조식은 무료라 그럭저럭 잘 먹었어요 세면대가 잘 안 내려가요</td>\n",
       "      <td>1</td>\n",
       "      <td>0</td>\n",
       "    </tr>\n",
       "    <tr>\n",
       "      <th>237427</th>\n",
       "      <td>뜨랑블루 호텔</td>\n",
       "      <td>4</td>\n",
       "      <td>가격에 비해 시설이 굉장히 좋아요 놔두고 온 물건이 있는데 바로 다 버리셔서 그게 ...</td>\n",
       "      <td>5년 전</td>\n",
       "      <td>5년 전</td>\n",
       "      <td>53</td>\n",
       "      <td>가격에 비해 시설이 굉장히 좋아요 놔두고 온 물건이 있는데 바로 다 버리셔서 그게 ...</td>\n",
       "      <td>1</td>\n",
       "      <td>0</td>\n",
       "    </tr>\n",
       "    <tr>\n",
       "      <th>237432</th>\n",
       "      <td>뜨랑블루 호텔</td>\n",
       "      <td>4</td>\n",
       "      <td>시설은 괜찮네요조식도 포함이었지만 가보진 못했네요</td>\n",
       "      <td>5년 전</td>\n",
       "      <td>5년 전</td>\n",
       "      <td>27</td>\n",
       "      <td>시설은 괜찮네요 조식도 포함이었지만 가보진 못했네요</td>\n",
       "      <td>1</td>\n",
       "      <td>0</td>\n",
       "    </tr>\n",
       "  </tbody>\n",
       "</table>\n",
       "<p>17145 rows × 9 columns</p>\n",
       "</div>"
      ],
      "text/plain": [
       "                                      hotel  star  \\\n",
       "0                       AC 호텔 바이 메리어트 서울 강남     4   \n",
       "24      몬드리안 서울 이태원(Mondrian Seoul Itaewon)     4   \n",
       "66      몬드리안 서울 이태원(Mondrian Seoul Itaewon)     4   \n",
       "83      몬드리안 서울 이태원(Mondrian Seoul Itaewon)     4   \n",
       "108     몬드리안 서울 이태원(Mondrian Seoul Itaewon)     4   \n",
       "...                                     ...   ...   \n",
       "237400                              뜨랑블루 호텔     4   \n",
       "237402                              뜨랑블루 호텔     4   \n",
       "237424                              뜨랑블루 호텔     4   \n",
       "237427                              뜨랑블루 호텔     4   \n",
       "237432                              뜨랑블루 호텔     4   \n",
       "\n",
       "                                                   review          date  \\\n",
       "0                     발렛파킹 비용이 있긴 했지만 방도 나름 괜찮고 조식도 맛있었어요        10시간 전   \n",
       "24                                     방이 꽤 작음 화장실이 따로 없음  2022. 03. 22   \n",
       "66                                           체크인 오래 기다렸어요  2022. 02. 23   \n",
       "83      체크인 30 분 넘게 걸림   데스크 직원 너무 적음 객실 은 절대 5성급 아님  ...  2022. 01. 31   \n",
       "108                                  방음이 조금 아쉬움 편의시설잘되어있음  2022. 01. 04   \n",
       "...                                                   ...           ...   \n",
       "237400  디럭스더블룸을 혼자 이용했습니다방 사이즈도 큰편이었고 침대는 부드럽고 폭신폭신전반적...          4년 전   \n",
       "237402                              욕조있다고 적혀있는데 없는 방도 있네요          4년 전   \n",
       "237424     직원분들은 매우 친절했습니다조식은 무료라 그럭저럭 잘 먹었어요세면대가 잘 안내려가요          4년 전   \n",
       "237427  가격에 비해 시설이 굉장히 좋아요 놔두고 온 물건이 있는데 바로 다 버리셔서 그게 ...          5년 전   \n",
       "237432                        시설은 괜찮네요조식도 포함이었지만 가보진 못했네요          5년 전   \n",
       "\n",
       "           real_date  length  \\\n",
       "0       2022. 04. 03      35   \n",
       "24      2022. 03. 22      18   \n",
       "66      2022. 02. 23      12   \n",
       "83      2022. 01. 31      67   \n",
       "108     2022. 01. 04      20   \n",
       "...              ...     ...   \n",
       "237400          4년 전     295   \n",
       "237402          4년 전      21   \n",
       "237424          4년 전      46   \n",
       "237427          5년 전      53   \n",
       "237432          5년 전      27   \n",
       "\n",
       "                                       review_spell_check  site  pred_label  \n",
       "0                     발레파킹 비용이 있긴 했지만 방도 나름 괜찮고 조식도 맛있었어요     0           0  \n",
       "24                                     방이 꽤 작음 화장실이 따로 없음     0           0  \n",
       "66                                           체크인 오래 기다렸어요     0           0  \n",
       "83      체크인 30 분 넘게 걸림   데스크 직원 너무 적음 객실 은 절대 5성급 아님  ...     0           0  \n",
       "108                                방음이 조금 아쉬움 편의시설 잘 되어있음     0           0  \n",
       "...                                                   ...   ...         ...  \n",
       "237400  디럭스 더블룸을 혼자 이용했습니다 방 사이즈도 큰 편이었고 침대는 부드럽고 폭신폭신...     1           0  \n",
       "237402                             욕조 있다고 적혀있는데 없는 방도 있네요     1           0  \n",
       "237424  직원분들은 매우 친절했습니다 조식은 무료라 그럭저럭 잘 먹었어요 세면대가 잘 안 내려가요     1           0  \n",
       "237427  가격에 비해 시설이 굉장히 좋아요 놔두고 온 물건이 있는데 바로 다 버리셔서 그게 ...     1           0  \n",
       "237432                       시설은 괜찮네요 조식도 포함이었지만 가보진 못했네요     1           0  \n",
       "\n",
       "[17145 rows x 9 columns]"
      ]
     },
     "execution_count": 96,
     "metadata": {},
     "output_type": "execute_result"
    }
   ],
   "source": [
    "four.loc[four.pred_label == 0]"
   ]
  },
  {
   "cell_type": "code",
   "execution_count": 99,
   "metadata": {},
   "outputs": [
    {
     "data": {
      "text/html": [
       "<div>\n",
       "<style scoped>\n",
       "    .dataframe tbody tr th:only-of-type {\n",
       "        vertical-align: middle;\n",
       "    }\n",
       "\n",
       "    .dataframe tbody tr th {\n",
       "        vertical-align: top;\n",
       "    }\n",
       "\n",
       "    .dataframe thead th {\n",
       "        text-align: right;\n",
       "    }\n",
       "</style>\n",
       "<table border=\"1\" class=\"dataframe\">\n",
       "  <thead>\n",
       "    <tr style=\"text-align: right;\">\n",
       "      <th></th>\n",
       "      <th>hotel</th>\n",
       "      <th>star</th>\n",
       "      <th>review</th>\n",
       "      <th>date</th>\n",
       "      <th>real_date</th>\n",
       "      <th>length</th>\n",
       "      <th>review_spell_check</th>\n",
       "      <th>site</th>\n",
       "      <th>pred_label</th>\n",
       "    </tr>\n",
       "  </thead>\n",
       "  <tbody>\n",
       "    <tr>\n",
       "      <th>5</th>\n",
       "      <td>몬드리안 서울 이태원(Mondrian Seoul Itaewon)</td>\n",
       "      <td>4</td>\n",
       "      <td>청결 위치 다 좋습니다 제가 목욕을 너무 좋아해 알고는 있었지만 욕조가 없는게 살짝...</td>\n",
       "      <td>4일 전</td>\n",
       "      <td>2022. 04. 01</td>\n",
       "      <td>65</td>\n",
       "      <td>청결 위치 다 좋습니다 제가 목욕을 너무 좋아해 알고는 있었지만 욕조가 없는 게 살...</td>\n",
       "      <td>0</td>\n",
       "      <td>1</td>\n",
       "    </tr>\n",
       "    <tr>\n",
       "      <th>10</th>\n",
       "      <td>몬드리안 서울 이태원(Mondrian Seoul Itaewon)</td>\n",
       "      <td>4</td>\n",
       "      <td>편히 쉬다갔습니다</td>\n",
       "      <td>6일 전</td>\n",
       "      <td>2022. 04. 01</td>\n",
       "      <td>9</td>\n",
       "      <td>편히 쉬다 갔습니다</td>\n",
       "      <td>0</td>\n",
       "      <td>1</td>\n",
       "    </tr>\n",
       "    <tr>\n",
       "      <th>26</th>\n",
       "      <td>몬드리안 서울 이태원(Mondrian Seoul Itaewon)</td>\n",
       "      <td>4</td>\n",
       "      <td>겁나 감각적인 호텔불타오르는 2030대 커플들이 즐비하지만 가뭄에 콩나듯 아이동반가...</td>\n",
       "      <td>2022. 03. 21</td>\n",
       "      <td>2022. 03. 21</td>\n",
       "      <td>65</td>\n",
       "      <td>겁나 감각적인 호텔 불타오르는 2030대 커플들이 즐비하지만 가뭄에 콩 나듯 아이 ...</td>\n",
       "      <td>0</td>\n",
       "      <td>1</td>\n",
       "    </tr>\n",
       "    <tr>\n",
       "      <th>31</th>\n",
       "      <td>몬드리안 서울 이태원(Mondrian Seoul Itaewon)</td>\n",
       "      <td>4</td>\n",
       "      <td>호캉스 잘 보내다 갔습니다</td>\n",
       "      <td>2022. 03. 20</td>\n",
       "      <td>2022. 03. 20</td>\n",
       "      <td>14</td>\n",
       "      <td>호캉스 잘 보내다 갔습니다</td>\n",
       "      <td>0</td>\n",
       "      <td>1</td>\n",
       "    </tr>\n",
       "    <tr>\n",
       "      <th>44</th>\n",
       "      <td>몬드리안 서울 이태원(Mondrian Seoul Itaewon)</td>\n",
       "      <td>4</td>\n",
       "      <td>시티뷰가 좋아요</td>\n",
       "      <td>2022. 03. 07</td>\n",
       "      <td>2022. 03. 07</td>\n",
       "      <td>8</td>\n",
       "      <td>시티 부가 좋아요</td>\n",
       "      <td>0</td>\n",
       "      <td>1</td>\n",
       "    </tr>\n",
       "    <tr>\n",
       "      <th>...</th>\n",
       "      <td>...</td>\n",
       "      <td>...</td>\n",
       "      <td>...</td>\n",
       "      <td>...</td>\n",
       "      <td>...</td>\n",
       "      <td>...</td>\n",
       "      <td>...</td>\n",
       "      <td>...</td>\n",
       "      <td>...</td>\n",
       "    </tr>\n",
       "    <tr>\n",
       "      <th>237413</th>\n",
       "      <td>뜨랑블루 호텔</td>\n",
       "      <td>4</td>\n",
       "      <td>추천합니다가성비 좋아요</td>\n",
       "      <td>4년 전</td>\n",
       "      <td>4년 전</td>\n",
       "      <td>12</td>\n",
       "      <td>추천합니다가 성비 좋아요</td>\n",
       "      <td>1</td>\n",
       "      <td>1</td>\n",
       "    </tr>\n",
       "    <tr>\n",
       "      <th>237418</th>\n",
       "      <td>뜨랑블루 호텔</td>\n",
       "      <td>4</td>\n",
       "      <td>자주 애용하는 곳이예요 아침에 조식도 제공해 주고 가격 대비 괜찮은 곳입니다</td>\n",
       "      <td>4년 전</td>\n",
       "      <td>4년 전</td>\n",
       "      <td>42</td>\n",
       "      <td>자주 애용하는 곳이에요 아침에 조식도 제공해 주고 가격 대비 괜찮은 곳입니다</td>\n",
       "      <td>1</td>\n",
       "      <td>1</td>\n",
       "    </tr>\n",
       "    <tr>\n",
       "      <th>237421</th>\n",
       "      <td>뜨랑블루 호텔</td>\n",
       "      <td>4</td>\n",
       "      <td>방 크고 깔끔다만 조명이 조금 어두움물을 4병이나 줘서 따로 안사도 괜찮음IPTV ...</td>\n",
       "      <td>4년 전</td>\n",
       "      <td>4년 전</td>\n",
       "      <td>69</td>\n",
       "      <td>방 크고 깔끔 다만 조명이 조금 어두움물을 4병이나 줘서 따로 안 사도 괜찮음 IP...</td>\n",
       "      <td>1</td>\n",
       "      <td>1</td>\n",
       "    </tr>\n",
       "    <tr>\n",
       "      <th>237436</th>\n",
       "      <td>뜨랑블루 호텔</td>\n",
       "      <td>4</td>\n",
       "      <td>객실 내에 욕조도 있고 도시에서 잠시 쉬어가기 좋은곳입니다</td>\n",
       "      <td>5년 전</td>\n",
       "      <td>5년 전</td>\n",
       "      <td>32</td>\n",
       "      <td>객실 내에 욕조도 있고 도시에서 잠시 쉬어가기 좋은 곳입니다</td>\n",
       "      <td>1</td>\n",
       "      <td>1</td>\n",
       "    </tr>\n",
       "    <tr>\n",
       "      <th>237449</th>\n",
       "      <td>뜨랑블루 호텔</td>\n",
       "      <td>4</td>\n",
       "      <td>일단 조식이 포함되어있어서 좋았구요 방도 깨끗하고하루정도 지내기엔 좋은거 같네요야경...</td>\n",
       "      <td>5년 전</td>\n",
       "      <td>5년 전</td>\n",
       "      <td>77</td>\n",
       "      <td>일단 조식이 포함되어있어서 좋았고요 방도 깨끗하고 하루 정도 지내기엔 좋은 거 같네...</td>\n",
       "      <td>1</td>\n",
       "      <td>1</td>\n",
       "    </tr>\n",
       "  </tbody>\n",
       "</table>\n",
       "<p>25454 rows × 9 columns</p>\n",
       "</div>"
      ],
      "text/plain": [
       "                                      hotel  star  \\\n",
       "5       몬드리안 서울 이태원(Mondrian Seoul Itaewon)     4   \n",
       "10      몬드리안 서울 이태원(Mondrian Seoul Itaewon)     4   \n",
       "26      몬드리안 서울 이태원(Mondrian Seoul Itaewon)     4   \n",
       "31      몬드리안 서울 이태원(Mondrian Seoul Itaewon)     4   \n",
       "44      몬드리안 서울 이태원(Mondrian Seoul Itaewon)     4   \n",
       "...                                     ...   ...   \n",
       "237413                              뜨랑블루 호텔     4   \n",
       "237418                              뜨랑블루 호텔     4   \n",
       "237421                              뜨랑블루 호텔     4   \n",
       "237436                              뜨랑블루 호텔     4   \n",
       "237449                              뜨랑블루 호텔     4   \n",
       "\n",
       "                                                   review          date  \\\n",
       "5       청결 위치 다 좋습니다 제가 목욕을 너무 좋아해 알고는 있었지만 욕조가 없는게 살짝...          4일 전   \n",
       "10                                              편히 쉬다갔습니다          6일 전   \n",
       "26      겁나 감각적인 호텔불타오르는 2030대 커플들이 즐비하지만 가뭄에 콩나듯 아이동반가...  2022. 03. 21   \n",
       "31                                         호캉스 잘 보내다 갔습니다  2022. 03. 20   \n",
       "44                                               시티뷰가 좋아요  2022. 03. 07   \n",
       "...                                                   ...           ...   \n",
       "237413                                       추천합니다가성비 좋아요          4년 전   \n",
       "237418         자주 애용하는 곳이예요 아침에 조식도 제공해 주고 가격 대비 괜찮은 곳입니다          4년 전   \n",
       "237421  방 크고 깔끔다만 조명이 조금 어두움물을 4병이나 줘서 따로 안사도 괜찮음IPTV ...          4년 전   \n",
       "237436                   객실 내에 욕조도 있고 도시에서 잠시 쉬어가기 좋은곳입니다          5년 전   \n",
       "237449  일단 조식이 포함되어있어서 좋았구요 방도 깨끗하고하루정도 지내기엔 좋은거 같네요야경...          5년 전   \n",
       "\n",
       "           real_date  length  \\\n",
       "5       2022. 04. 01      65   \n",
       "10      2022. 04. 01       9   \n",
       "26      2022. 03. 21      65   \n",
       "31      2022. 03. 20      14   \n",
       "44      2022. 03. 07       8   \n",
       "...              ...     ...   \n",
       "237413          4년 전      12   \n",
       "237418          4년 전      42   \n",
       "237421          4년 전      69   \n",
       "237436          5년 전      32   \n",
       "237449          5년 전      77   \n",
       "\n",
       "                                       review_spell_check  site  pred_label  \n",
       "5       청결 위치 다 좋습니다 제가 목욕을 너무 좋아해 알고는 있었지만 욕조가 없는 게 살...     0           1  \n",
       "10                                             편히 쉬다 갔습니다     0           1  \n",
       "26      겁나 감각적인 호텔 불타오르는 2030대 커플들이 즐비하지만 가뭄에 콩 나듯 아이 ...     0           1  \n",
       "31                                         호캉스 잘 보내다 갔습니다     0           1  \n",
       "44                                              시티 부가 좋아요     0           1  \n",
       "...                                                   ...   ...         ...  \n",
       "237413                                      추천합니다가 성비 좋아요     1           1  \n",
       "237418         자주 애용하는 곳이에요 아침에 조식도 제공해 주고 가격 대비 괜찮은 곳입니다     1           1  \n",
       "237421  방 크고 깔끔 다만 조명이 조금 어두움물을 4병이나 줘서 따로 안 사도 괜찮음 IP...     1           1  \n",
       "237436                  객실 내에 욕조도 있고 도시에서 잠시 쉬어가기 좋은 곳입니다     1           1  \n",
       "237449  일단 조식이 포함되어있어서 좋았고요 방도 깨끗하고 하루 정도 지내기엔 좋은 거 같네...     1           1  \n",
       "\n",
       "[25454 rows x 9 columns]"
      ]
     },
     "execution_count": 99,
     "metadata": {},
     "output_type": "execute_result"
    }
   ],
   "source": [
    "four.loc[four.pred_label == 1]"
   ]
  },
  {
   "cell_type": "code",
   "execution_count": 98,
   "metadata": {},
   "outputs": [
    {
     "data": {
      "text/plain": [
       "1    25454\n",
       "0    17145\n",
       "Name: pred_label, dtype: int64"
      ]
     },
     "execution_count": 98,
     "metadata": {},
     "output_type": "execute_result"
    }
   ],
   "source": [
    "four.pred_label.value_counts()"
   ]
  },
  {
   "cell_type": "code",
   "execution_count": 29,
   "metadata": {},
   "outputs": [],
   "source": [
    "from sklearn.feature_extraction.text import TfidfVectorizer\n",
    "\n",
    "vect = TfidfVectorizer()\n",
    "vect.fit(x_train) \n",
    "xtf = vectorizer.transform(x_train) # transform\n",
    "\n",
    "model = LogisticRegression()\n",
    "model.fit(xtf,y_train)"
   ]
  },
  {
   "cell_type": "code",
   "execution_count": 48,
   "metadata": {},
   "outputs": [
    {
     "data": {
      "text/plain": [
       "0.9335522366980898"
      ]
     },
     "execution_count": 48,
     "metadata": {},
     "output_type": "execute_result"
    }
   ],
   "source": [
    "model.score(xtf, y_train)"
   ]
  },
  {
   "cell_type": "code",
   "execution_count": 49,
   "metadata": {},
   "outputs": [],
   "source": [
    "#run model\n",
    "xtf_pred = vect.transform(x_test) \n",
    "y_tfp = model.predict(xtf_pred)"
   ]
  },
  {
   "cell_type": "code",
   "execution_count": 68,
   "metadata": {},
   "outputs": [
    {
     "data": {
      "image/png": "[encoded data removed]",
      "text/plain": [
       "<Figure size 432x288 with 2 Axes>"
      ]
     },
     "metadata": {},
     "output_type": "display_data"
    }
   ],
   "source": [
    "# confusion matrix\n",
    "from sklearn.metrics import confusion_matrix, precision_score, recall_score, f1_score\n",
    "import seaborn as sns\n",
    "cm = confusion_matrix(y_test, y_tfp)\n",
    "sns.heatmap(cm, annot = True, fmt = 'd',cmap = 'Reds')\n",
    "plt.xticks([0.5,1.5],['0(N)', '1(P)'])\n",
    "plt.yticks([0.5,1.5],['0(N)', '1(P)'])\n",
    "plt.show()"
   ]
  },
  {
   "cell_type": "code",
   "execution_count": 101,
   "metadata": {},
   "outputs": [
    {
     "data": {
      "text/plain": [
       "0                       발레파킹 비용이 있긴 했지만 방도 나름 괜찮고 조식도 맛있었어요\n",
       "1                                                     굳굳굳굳굳\n",
       "2         생각보다 방이 좁아서 놀랐어요 아무래도 안마의자나 고급 블루투스 스피커처럼 주변기기...\n",
       "3         오픈하고 얼마 안 돼서 갔었는데 깔끔하고 좋은 호텔이었습니다 오픈 초기에 사소한 부...\n",
       "4                                          객실이 깨끗하고 너무 예뻤어요\n",
       "                                ...                        \n",
       "237445    시설 깨끗하고 다 좋은데 퇴실도 안 했는데 청소하시는 분인지 입구물을 맘대로 여시더...\n",
       "237446              깔끔하고 친절하고 모두 만족해요 꼭 한 번 더 오고 싶은 숙박업소입니다\n",
       "237447                      괜찮았어요 좋더라고요 마음에 들었어요 냄새도 안나드러구요\n",
       "237448    시설 신림권에서 최고 청결하고 수건에서 냄새도 안 나고 흠이라면 1000원 받는 일...\n",
       "237449    일단 조식이 포함되어있어서 좋았고요 방도 깨끗하고 하루 정도 지내기엔 좋은 거 같네...\n",
       "Name: review_spell_check, Length: 237450, dtype: object"
      ]
     },
     "execution_count": 101,
     "metadata": {},
     "output_type": "execute_result"
    }
   ],
   "source": [
    "df_train"
   ]
  },
  {
   "cell_type": "code",
   "execution_count": 102,
   "metadata": {},
   "outputs": [],
   "source": [
    "#run model\n",
    "df_vec= vectorizer.transform(df_train) \n",
    "all_pred = model.predict(df_vec)"
   ]
  },
  {
   "cell_type": "code",
   "execution_count": 104,
   "metadata": {},
   "outputs": [],
   "source": [
    "df['sentiment'] = all_pred"
   ]
  },
  {
   "cell_type": "code",
   "execution_count": 105,
   "metadata": {},
   "outputs": [
    {
     "data": {
      "text/html": [
       "<div>\n",
       "<style scoped>\n",
       "    .dataframe tbody tr th:only-of-type {\n",
       "        vertical-align: middle;\n",
       "    }\n",
       "\n",
       "    .dataframe tbody tr th {\n",
       "        vertical-align: top;\n",
       "    }\n",
       "\n",
       "    .dataframe thead th {\n",
       "        text-align: right;\n",
       "    }\n",
       "</style>\n",
       "<table border=\"1\" class=\"dataframe\">\n",
       "  <thead>\n",
       "    <tr style=\"text-align: right;\">\n",
       "      <th></th>\n",
       "      <th>hotel</th>\n",
       "      <th>star</th>\n",
       "      <th>review</th>\n",
       "      <th>date</th>\n",
       "      <th>real_date</th>\n",
       "      <th>length</th>\n",
       "      <th>review_spell_check</th>\n",
       "      <th>site</th>\n",
       "      <th>sentiment</th>\n",
       "    </tr>\n",
       "  </thead>\n",
       "  <tbody>\n",
       "    <tr>\n",
       "      <th>0</th>\n",
       "      <td>AC 호텔 바이 메리어트 서울 강남</td>\n",
       "      <td>4</td>\n",
       "      <td>발렛파킹 비용이 있긴 했지만 방도 나름 괜찮고 조식도 맛있었어요</td>\n",
       "      <td>10시간 전</td>\n",
       "      <td>2022. 04. 03</td>\n",
       "      <td>35</td>\n",
       "      <td>발레파킹 비용이 있긴 했지만 방도 나름 괜찮고 조식도 맛있었어요</td>\n",
       "      <td>0</td>\n",
       "      <td>0</td>\n",
       "    </tr>\n",
       "    <tr>\n",
       "      <th>1</th>\n",
       "      <td>AC 호텔 바이 메리어트 서울 강남</td>\n",
       "      <td>5</td>\n",
       "      <td>굳굳굳굳굳</td>\n",
       "      <td>6일 전</td>\n",
       "      <td>2022. 04. 01</td>\n",
       "      <td>5</td>\n",
       "      <td>굳굳굳굳굳</td>\n",
       "      <td>0</td>\n",
       "      <td>1</td>\n",
       "    </tr>\n",
       "    <tr>\n",
       "      <th>2</th>\n",
       "      <td>AC 호텔 바이 메리어트 서울 강남</td>\n",
       "      <td>3</td>\n",
       "      <td>생각보다 방이 좁아서 놀랐어요 아무래도 안마의자나 고급 블루투스 스피커처럼 주변기기...</td>\n",
       "      <td>6일 전</td>\n",
       "      <td>2022. 04. 01</td>\n",
       "      <td>84</td>\n",
       "      <td>생각보다 방이 좁아서 놀랐어요 아무래도 안마의자나 고급 블루투스 스피커처럼 주변기기...</td>\n",
       "      <td>0</td>\n",
       "      <td>0</td>\n",
       "    </tr>\n",
       "    <tr>\n",
       "      <th>3</th>\n",
       "      <td>AC 호텔 바이 메리어트 서울 강남</td>\n",
       "      <td>5</td>\n",
       "      <td>오픈하고 얼마안되서 갔었는데 깔끔하고 좋은 호텔이였습니다 오픈초기에 사소한 부분에서...</td>\n",
       "      <td>2022. 03. 27</td>\n",
       "      <td>2022. 03. 27</td>\n",
       "      <td>99</td>\n",
       "      <td>오픈하고 얼마 안 돼서 갔었는데 깔끔하고 좋은 호텔이었습니다 오픈 초기에 사소한 부...</td>\n",
       "      <td>0</td>\n",
       "      <td>1</td>\n",
       "    </tr>\n",
       "    <tr>\n",
       "      <th>4</th>\n",
       "      <td>몬드리안 서울 이태원(Mondrian Seoul Itaewon)</td>\n",
       "      <td>5</td>\n",
       "      <td>객실이 깨끗하고 너무 예뻣어요</td>\n",
       "      <td>3일 전</td>\n",
       "      <td>2022. 04. 01</td>\n",
       "      <td>16</td>\n",
       "      <td>객실이 깨끗하고 너무 예뻤어요</td>\n",
       "      <td>0</td>\n",
       "      <td>1</td>\n",
       "    </tr>\n",
       "    <tr>\n",
       "      <th>...</th>\n",
       "      <td>...</td>\n",
       "      <td>...</td>\n",
       "      <td>...</td>\n",
       "      <td>...</td>\n",
       "      <td>...</td>\n",
       "      <td>...</td>\n",
       "      <td>...</td>\n",
       "      <td>...</td>\n",
       "      <td>...</td>\n",
       "    </tr>\n",
       "    <tr>\n",
       "      <th>237445</th>\n",
       "      <td>뜨랑블루 호텔</td>\n",
       "      <td>2</td>\n",
       "      <td>시설 깨끗하고 다 좋은데퇴실도 안햇는데 청소하시는분인지 입구문을 맘대로 여시더라구요...</td>\n",
       "      <td>5년 전</td>\n",
       "      <td>5년 전</td>\n",
       "      <td>60</td>\n",
       "      <td>시설 깨끗하고 다 좋은데 퇴실도 안 했는데 청소하시는 분인지 입구물을 맘대로 여시더...</td>\n",
       "      <td>1</td>\n",
       "      <td>0</td>\n",
       "    </tr>\n",
       "    <tr>\n",
       "      <th>237446</th>\n",
       "      <td>뜨랑블루 호텔</td>\n",
       "      <td>5</td>\n",
       "      <td>깔끔하고 친철하고 모두 만족해요꼭 한번더 오고 싶은 숙박업소입니다</td>\n",
       "      <td>5년 전</td>\n",
       "      <td>5년 전</td>\n",
       "      <td>36</td>\n",
       "      <td>깔끔하고 친절하고 모두 만족해요 꼭 한 번 더 오고 싶은 숙박업소입니다</td>\n",
       "      <td>1</td>\n",
       "      <td>1</td>\n",
       "    </tr>\n",
       "    <tr>\n",
       "      <th>237447</th>\n",
       "      <td>뜨랑블루 호텔</td>\n",
       "      <td>5</td>\n",
       "      <td>괜찮았어요 좋더라구요 마음에 들었어요냄새도 안나드러구요</td>\n",
       "      <td>5년 전</td>\n",
       "      <td>5년 전</td>\n",
       "      <td>30</td>\n",
       "      <td>괜찮았어요 좋더라고요 마음에 들었어요 냄새도 안나드러구요</td>\n",
       "      <td>1</td>\n",
       "      <td>1</td>\n",
       "    </tr>\n",
       "    <tr>\n",
       "      <th>237448</th>\n",
       "      <td>뜨랑블루 호텔</td>\n",
       "      <td>5</td>\n",
       "      <td>시설 신림권에서 최고청결하고 수건에서 냄새도 안나고흠이라면 1000원받는 일회용품이...</td>\n",
       "      <td>5년 전</td>\n",
       "      <td>5년 전</td>\n",
       "      <td>51</td>\n",
       "      <td>시설 신림권에서 최고 청결하고 수건에서 냄새도 안 나고 흠이라면 1000원 받는 일...</td>\n",
       "      <td>1</td>\n",
       "      <td>1</td>\n",
       "    </tr>\n",
       "    <tr>\n",
       "      <th>237449</th>\n",
       "      <td>뜨랑블루 호텔</td>\n",
       "      <td>4</td>\n",
       "      <td>일단 조식이 포함되어있어서 좋았구요 방도 깨끗하고하루정도 지내기엔 좋은거 같네요야경...</td>\n",
       "      <td>5년 전</td>\n",
       "      <td>5년 전</td>\n",
       "      <td>77</td>\n",
       "      <td>일단 조식이 포함되어있어서 좋았고요 방도 깨끗하고 하루 정도 지내기엔 좋은 거 같네...</td>\n",
       "      <td>1</td>\n",
       "      <td>1</td>\n",
       "    </tr>\n",
       "  </tbody>\n",
       "</table>\n",
       "<p>237450 rows × 9 columns</p>\n",
       "</div>"
      ],
      "text/plain": [
       "                                      hotel  star  \\\n",
       "0                       AC 호텔 바이 메리어트 서울 강남     4   \n",
       "1                       AC 호텔 바이 메리어트 서울 강남     5   \n",
       "2                       AC 호텔 바이 메리어트 서울 강남     3   \n",
       "3                       AC 호텔 바이 메리어트 서울 강남     5   \n",
       "4       몬드리안 서울 이태원(Mondrian Seoul Itaewon)     5   \n",
       "...                                     ...   ...   \n",
       "237445                              뜨랑블루 호텔     2   \n",
       "237446                              뜨랑블루 호텔     5   \n",
       "237447                              뜨랑블루 호텔     5   \n",
       "237448                              뜨랑블루 호텔     5   \n",
       "237449                              뜨랑블루 호텔     4   \n",
       "\n",
       "                                                   review          date  \\\n",
       "0                     발렛파킹 비용이 있긴 했지만 방도 나름 괜찮고 조식도 맛있었어요        10시간 전   \n",
       "1                                                   굳굳굳굳굳          6일 전   \n",
       "2       생각보다 방이 좁아서 놀랐어요 아무래도 안마의자나 고급 블루투스 스피커처럼 주변기기...          6일 전   \n",
       "3       오픈하고 얼마안되서 갔었는데 깔끔하고 좋은 호텔이였습니다 오픈초기에 사소한 부분에서...  2022. 03. 27   \n",
       "4                                        객실이 깨끗하고 너무 예뻣어요          3일 전   \n",
       "...                                                   ...           ...   \n",
       "237445  시설 깨끗하고 다 좋은데퇴실도 안햇는데 청소하시는분인지 입구문을 맘대로 여시더라구요...          5년 전   \n",
       "237446               깔끔하고 친철하고 모두 만족해요꼭 한번더 오고 싶은 숙박업소입니다          5년 전   \n",
       "237447                     괜찮았어요 좋더라구요 마음에 들었어요냄새도 안나드러구요          5년 전   \n",
       "237448  시설 신림권에서 최고청결하고 수건에서 냄새도 안나고흠이라면 1000원받는 일회용품이...          5년 전   \n",
       "237449  일단 조식이 포함되어있어서 좋았구요 방도 깨끗하고하루정도 지내기엔 좋은거 같네요야경...          5년 전   \n",
       "\n",
       "           real_date  length  \\\n",
       "0       2022. 04. 03      35   \n",
       "1       2022. 04. 01       5   \n",
       "2       2022. 04. 01      84   \n",
       "3       2022. 03. 27      99   \n",
       "4       2022. 04. 01      16   \n",
       "...              ...     ...   \n",
       "237445          5년 전      60   \n",
       "237446          5년 전      36   \n",
       "237447          5년 전      30   \n",
       "237448          5년 전      51   \n",
       "237449          5년 전      77   \n",
       "\n",
       "                                       review_spell_check  site  sentiment  \n",
       "0                     발레파킹 비용이 있긴 했지만 방도 나름 괜찮고 조식도 맛있었어요     0          0  \n",
       "1                                                   굳굳굳굳굳     0          1  \n",
       "2       생각보다 방이 좁아서 놀랐어요 아무래도 안마의자나 고급 블루투스 스피커처럼 주변기기...     0          0  \n",
       "3       오픈하고 얼마 안 돼서 갔었는데 깔끔하고 좋은 호텔이었습니다 오픈 초기에 사소한 부...     0          1  \n",
       "4                                        객실이 깨끗하고 너무 예뻤어요     0          1  \n",
       "...                                                   ...   ...        ...  \n",
       "237445  시설 깨끗하고 다 좋은데 퇴실도 안 했는데 청소하시는 분인지 입구물을 맘대로 여시더...     1          0  \n",
       "237446            깔끔하고 친절하고 모두 만족해요 꼭 한 번 더 오고 싶은 숙박업소입니다     1          1  \n",
       "237447                    괜찮았어요 좋더라고요 마음에 들었어요 냄새도 안나드러구요     1          1  \n",
       "237448  시설 신림권에서 최고 청결하고 수건에서 냄새도 안 나고 흠이라면 1000원 받는 일...     1          1  \n",
       "237449  일단 조식이 포함되어있어서 좋았고요 방도 깨끗하고 하루 정도 지내기엔 좋은 거 같네...     1          1  \n",
       "\n",
       "[237450 rows x 9 columns]"
      ]
     },
     "execution_count": 105,
     "metadata": {},
     "output_type": "execute_result"
    }
   ],
   "source": [
    "df"
   ]
  },
  {
   "cell_type": "code",
   "execution_count": 107,
   "metadata": {},
   "outputs": [],
   "source": [
    "proba = model.predict_proba(df_vec)"
   ]
  },
  {
   "cell_type": "code",
   "execution_count": 116,
   "metadata": {},
   "outputs": [],
   "source": [
    "df_proba= pd.DataFrame(proba, columns=['부정', 'sent_proba'])"
   ]
  },
  {
   "cell_type": "code",
   "execution_count": 117,
   "metadata": {},
   "outputs": [
    {
     "data": {
      "text/html": [
       "<div>\n",
       "<style scoped>\n",
       "    .dataframe tbody tr th:only-of-type {\n",
       "        vertical-align: middle;\n",
       "    }\n",
       "\n",
       "    .dataframe tbody tr th {\n",
       "        vertical-align: top;\n",
       "    }\n",
       "\n",
       "    .dataframe thead th {\n",
       "        text-align: right;\n",
       "    }\n",
       "</style>\n",
       "<table border=\"1\" class=\"dataframe\">\n",
       "  <thead>\n",
       "    <tr style=\"text-align: right;\">\n",
       "      <th></th>\n",
       "      <th>부정</th>\n",
       "      <th>sent_proba</th>\n",
       "    </tr>\n",
       "  </thead>\n",
       "  <tbody>\n",
       "    <tr>\n",
       "      <th>0</th>\n",
       "      <td>0.842940</td>\n",
       "      <td>0.157060</td>\n",
       "    </tr>\n",
       "    <tr>\n",
       "      <th>1</th>\n",
       "      <td>0.309830</td>\n",
       "      <td>0.690170</td>\n",
       "    </tr>\n",
       "    <tr>\n",
       "      <th>2</th>\n",
       "      <td>0.831721</td>\n",
       "      <td>0.168279</td>\n",
       "    </tr>\n",
       "    <tr>\n",
       "      <th>3</th>\n",
       "      <td>0.119664</td>\n",
       "      <td>0.880336</td>\n",
       "    </tr>\n",
       "    <tr>\n",
       "      <th>4</th>\n",
       "      <td>0.192970</td>\n",
       "      <td>0.807030</td>\n",
       "    </tr>\n",
       "    <tr>\n",
       "      <th>...</th>\n",
       "      <td>...</td>\n",
       "      <td>...</td>\n",
       "    </tr>\n",
       "    <tr>\n",
       "      <th>237445</th>\n",
       "      <td>0.909685</td>\n",
       "      <td>0.090315</td>\n",
       "    </tr>\n",
       "    <tr>\n",
       "      <th>237446</th>\n",
       "      <td>0.003204</td>\n",
       "      <td>0.996796</td>\n",
       "    </tr>\n",
       "    <tr>\n",
       "      <th>237447</th>\n",
       "      <td>0.273036</td>\n",
       "      <td>0.726964</td>\n",
       "    </tr>\n",
       "    <tr>\n",
       "      <th>237448</th>\n",
       "      <td>0.384474</td>\n",
       "      <td>0.615526</td>\n",
       "    </tr>\n",
       "    <tr>\n",
       "      <th>237449</th>\n",
       "      <td>0.134218</td>\n",
       "      <td>0.865782</td>\n",
       "    </tr>\n",
       "  </tbody>\n",
       "</table>\n",
       "<p>237450 rows × 2 columns</p>\n",
       "</div>"
      ],
      "text/plain": [
       "              부정  sent_proba\n",
       "0       0.842940    0.157060\n",
       "1       0.309830    0.690170\n",
       "2       0.831721    0.168279\n",
       "3       0.119664    0.880336\n",
       "4       0.192970    0.807030\n",
       "...          ...         ...\n",
       "237445  0.909685    0.090315\n",
       "237446  0.003204    0.996796\n",
       "237447  0.273036    0.726964\n",
       "237448  0.384474    0.615526\n",
       "237449  0.134218    0.865782\n",
       "\n",
       "[237450 rows x 2 columns]"
      ]
     },
     "execution_count": 117,
     "metadata": {},
     "output_type": "execute_result"
    }
   ],
   "source": [
    "df_proba"
   ]
  },
  {
   "cell_type": "code",
   "execution_count": 118,
   "metadata": {},
   "outputs": [],
   "source": [
    "df['sent_proba']=df_proba['sent_proba']"
   ]
  },
  {
   "cell_type": "code",
   "execution_count": 119,
   "metadata": {
    "scrolled": true
   },
   "outputs": [
    {
     "data": {
      "text/html": [
       "<div>\n",
       "<style scoped>\n",
       "    .dataframe tbody tr th:only-of-type {\n",
       "        vertical-align: middle;\n",
       "    }\n",
       "\n",
       "    .dataframe tbody tr th {\n",
       "        vertical-align: top;\n",
       "    }\n",
       "\n",
       "    .dataframe thead th {\n",
       "        text-align: right;\n",
       "    }\n",
       "</style>\n",
       "<table border=\"1\" class=\"dataframe\">\n",
       "  <thead>\n",
       "    <tr style=\"text-align: right;\">\n",
       "      <th></th>\n",
       "      <th>star</th>\n",
       "      <th>length</th>\n",
       "      <th>site</th>\n",
       "      <th>sentiment</th>\n",
       "      <th>sent_proba</th>\n",
       "    </tr>\n",
       "  </thead>\n",
       "  <tbody>\n",
       "    <tr>\n",
       "      <th>count</th>\n",
       "      <td>237450.000000</td>\n",
       "      <td>237450.000000</td>\n",
       "      <td>237450.000000</td>\n",
       "      <td>237450.000000</td>\n",
       "      <td>2.374500e+05</td>\n",
       "    </tr>\n",
       "    <tr>\n",
       "      <th>mean</th>\n",
       "      <td>4.635641</td>\n",
       "      <td>57.506161</td>\n",
       "      <td>0.483799</td>\n",
       "      <td>0.785172</td>\n",
       "      <td>7.022491e-01</td>\n",
       "    </tr>\n",
       "    <tr>\n",
       "      <th>std</th>\n",
       "      <td>0.744728</td>\n",
       "      <td>76.847789</td>\n",
       "      <td>0.499739</td>\n",
       "      <td>0.410704</td>\n",
       "      <td>3.023777e-01</td>\n",
       "    </tr>\n",
       "    <tr>\n",
       "      <th>min</th>\n",
       "      <td>1.000000</td>\n",
       "      <td>1.000000</td>\n",
       "      <td>0.000000</td>\n",
       "      <td>0.000000</td>\n",
       "      <td>1.531017e-18</td>\n",
       "    </tr>\n",
       "    <tr>\n",
       "      <th>25%</th>\n",
       "      <td>4.000000</td>\n",
       "      <td>11.000000</td>\n",
       "      <td>0.000000</td>\n",
       "      <td>1.000000</td>\n",
       "      <td>5.535977e-01</td>\n",
       "    </tr>\n",
       "    <tr>\n",
       "      <th>50%</th>\n",
       "      <td>5.000000</td>\n",
       "      <td>23.000000</td>\n",
       "      <td>0.000000</td>\n",
       "      <td>1.000000</td>\n",
       "      <td>8.077600e-01</td>\n",
       "    </tr>\n",
       "    <tr>\n",
       "      <th>75%</th>\n",
       "      <td>5.000000</td>\n",
       "      <td>66.000000</td>\n",
       "      <td>1.000000</td>\n",
       "      <td>1.000000</td>\n",
       "      <td>9.426238e-01</td>\n",
       "    </tr>\n",
       "    <tr>\n",
       "      <th>max</th>\n",
       "      <td>5.000000</td>\n",
       "      <td>500.000000</td>\n",
       "      <td>1.000000</td>\n",
       "      <td>1.000000</td>\n",
       "      <td>1.000000e+00</td>\n",
       "    </tr>\n",
       "  </tbody>\n",
       "</table>\n",
       "</div>"
      ],
      "text/plain": [
       "                star         length           site      sentiment  \\\n",
       "count  237450.000000  237450.000000  237450.000000  237450.000000   \n",
       "mean        4.635641      57.506161       0.483799       0.785172   \n",
       "std         0.744728      76.847789       0.499739       0.410704   \n",
       "min         1.000000       1.000000       0.000000       0.000000   \n",
       "25%         4.000000      11.000000       0.000000       1.000000   \n",
       "50%         5.000000      23.000000       0.000000       1.000000   \n",
       "75%         5.000000      66.000000       1.000000       1.000000   \n",
       "max         5.000000     500.000000       1.000000       1.000000   \n",
       "\n",
       "         sent_proba  \n",
       "count  2.374500e+05  \n",
       "mean   7.022491e-01  \n",
       "std    3.023777e-01  \n",
       "min    1.531017e-18  \n",
       "25%    5.535977e-01  \n",
       "50%    8.077600e-01  \n",
       "75%    9.426238e-01  \n",
       "max    1.000000e+00  "
      ]
     },
     "execution_count": 119,
     "metadata": {},
     "output_type": "execute_result"
    }
   ],
   "source": [
    "df.describe()"
   ]
  },
  {
   "cell_type": "code",
   "execution_count": 121,
   "metadata": {},
   "outputs": [
    {
     "data": {
      "text/html": [
       "<div>\n",
       "<style scoped>\n",
       "    .dataframe tbody tr th:only-of-type {\n",
       "        vertical-align: middle;\n",
       "    }\n",
       "\n",
       "    .dataframe tbody tr th {\n",
       "        vertical-align: top;\n",
       "    }\n",
       "\n",
       "    .dataframe thead th {\n",
       "        text-align: right;\n",
       "    }\n",
       "</style>\n",
       "<table border=\"1\" class=\"dataframe\">\n",
       "  <thead>\n",
       "    <tr style=\"text-align: right;\">\n",
       "      <th></th>\n",
       "      <th>hotel</th>\n",
       "      <th>star</th>\n",
       "      <th>review</th>\n",
       "      <th>date</th>\n",
       "      <th>real_date</th>\n",
       "      <th>length</th>\n",
       "      <th>review_spell_check</th>\n",
       "      <th>site</th>\n",
       "      <th>sentiment</th>\n",
       "      <th>sent_proba</th>\n",
       "    </tr>\n",
       "  </thead>\n",
       "  <tbody>\n",
       "    <tr>\n",
       "      <th>0</th>\n",
       "      <td>AC 호텔 바이 메리어트 서울 강남</td>\n",
       "      <td>4</td>\n",
       "      <td>발렛파킹 비용이 있긴 했지만 방도 나름 괜찮고 조식도 맛있었어요</td>\n",
       "      <td>10시간 전</td>\n",
       "      <td>2022. 04. 03</td>\n",
       "      <td>35</td>\n",
       "      <td>발레파킹 비용이 있긴 했지만 방도 나름 괜찮고 조식도 맛있었어요</td>\n",
       "      <td>0</td>\n",
       "      <td>0</td>\n",
       "      <td>0.157060</td>\n",
       "    </tr>\n",
       "    <tr>\n",
       "      <th>1</th>\n",
       "      <td>AC 호텔 바이 메리어트 서울 강남</td>\n",
       "      <td>5</td>\n",
       "      <td>굳굳굳굳굳</td>\n",
       "      <td>6일 전</td>\n",
       "      <td>2022. 04. 01</td>\n",
       "      <td>5</td>\n",
       "      <td>굳굳굳굳굳</td>\n",
       "      <td>0</td>\n",
       "      <td>1</td>\n",
       "      <td>0.690170</td>\n",
       "    </tr>\n",
       "    <tr>\n",
       "      <th>2</th>\n",
       "      <td>AC 호텔 바이 메리어트 서울 강남</td>\n",
       "      <td>3</td>\n",
       "      <td>생각보다 방이 좁아서 놀랐어요 아무래도 안마의자나 고급 블루투스 스피커처럼 주변기기...</td>\n",
       "      <td>6일 전</td>\n",
       "      <td>2022. 04. 01</td>\n",
       "      <td>84</td>\n",
       "      <td>생각보다 방이 좁아서 놀랐어요 아무래도 안마의자나 고급 블루투스 스피커처럼 주변기기...</td>\n",
       "      <td>0</td>\n",
       "      <td>0</td>\n",
       "      <td>0.168279</td>\n",
       "    </tr>\n",
       "    <tr>\n",
       "      <th>3</th>\n",
       "      <td>AC 호텔 바이 메리어트 서울 강남</td>\n",
       "      <td>5</td>\n",
       "      <td>오픈하고 얼마안되서 갔었는데 깔끔하고 좋은 호텔이였습니다 오픈초기에 사소한 부분에서...</td>\n",
       "      <td>2022. 03. 27</td>\n",
       "      <td>2022. 03. 27</td>\n",
       "      <td>99</td>\n",
       "      <td>오픈하고 얼마 안 돼서 갔었는데 깔끔하고 좋은 호텔이었습니다 오픈 초기에 사소한 부...</td>\n",
       "      <td>0</td>\n",
       "      <td>1</td>\n",
       "      <td>0.880336</td>\n",
       "    </tr>\n",
       "    <tr>\n",
       "      <th>4</th>\n",
       "      <td>몬드리안 서울 이태원(Mondrian Seoul Itaewon)</td>\n",
       "      <td>5</td>\n",
       "      <td>객실이 깨끗하고 너무 예뻣어요</td>\n",
       "      <td>3일 전</td>\n",
       "      <td>2022. 04. 01</td>\n",
       "      <td>16</td>\n",
       "      <td>객실이 깨끗하고 너무 예뻤어요</td>\n",
       "      <td>0</td>\n",
       "      <td>1</td>\n",
       "      <td>0.807030</td>\n",
       "    </tr>\n",
       "    <tr>\n",
       "      <th>...</th>\n",
       "      <td>...</td>\n",
       "      <td>...</td>\n",
       "      <td>...</td>\n",
       "      <td>...</td>\n",
       "      <td>...</td>\n",
       "      <td>...</td>\n",
       "      <td>...</td>\n",
       "      <td>...</td>\n",
       "      <td>...</td>\n",
       "      <td>...</td>\n",
       "    </tr>\n",
       "    <tr>\n",
       "      <th>237445</th>\n",
       "      <td>뜨랑블루 호텔</td>\n",
       "      <td>2</td>\n",
       "      <td>시설 깨끗하고 다 좋은데퇴실도 안햇는데 청소하시는분인지 입구문을 맘대로 여시더라구요...</td>\n",
       "      <td>5년 전</td>\n",
       "      <td>5년 전</td>\n",
       "      <td>60</td>\n",
       "      <td>시설 깨끗하고 다 좋은데 퇴실도 안 했는데 청소하시는 분인지 입구물을 맘대로 여시더...</td>\n",
       "      <td>1</td>\n",
       "      <td>0</td>\n",
       "      <td>0.090315</td>\n",
       "    </tr>\n",
       "    <tr>\n",
       "      <th>237446</th>\n",
       "      <td>뜨랑블루 호텔</td>\n",
       "      <td>5</td>\n",
       "      <td>깔끔하고 친철하고 모두 만족해요꼭 한번더 오고 싶은 숙박업소입니다</td>\n",
       "      <td>5년 전</td>\n",
       "      <td>5년 전</td>\n",
       "      <td>36</td>\n",
       "      <td>깔끔하고 친절하고 모두 만족해요 꼭 한 번 더 오고 싶은 숙박업소입니다</td>\n",
       "      <td>1</td>\n",
       "      <td>1</td>\n",
       "      <td>0.996796</td>\n",
       "    </tr>\n",
       "    <tr>\n",
       "      <th>237447</th>\n",
       "      <td>뜨랑블루 호텔</td>\n",
       "      <td>5</td>\n",
       "      <td>괜찮았어요 좋더라구요 마음에 들었어요냄새도 안나드러구요</td>\n",
       "      <td>5년 전</td>\n",
       "      <td>5년 전</td>\n",
       "      <td>30</td>\n",
       "      <td>괜찮았어요 좋더라고요 마음에 들었어요 냄새도 안나드러구요</td>\n",
       "      <td>1</td>\n",
       "      <td>1</td>\n",
       "      <td>0.726964</td>\n",
       "    </tr>\n",
       "    <tr>\n",
       "      <th>237448</th>\n",
       "      <td>뜨랑블루 호텔</td>\n",
       "      <td>5</td>\n",
       "      <td>시설 신림권에서 최고청결하고 수건에서 냄새도 안나고흠이라면 1000원받는 일회용품이...</td>\n",
       "      <td>5년 전</td>\n",
       "      <td>5년 전</td>\n",
       "      <td>51</td>\n",
       "      <td>시설 신림권에서 최고 청결하고 수건에서 냄새도 안 나고 흠이라면 1000원 받는 일...</td>\n",
       "      <td>1</td>\n",
       "      <td>1</td>\n",
       "      <td>0.615526</td>\n",
       "    </tr>\n",
       "    <tr>\n",
       "      <th>237449</th>\n",
       "      <td>뜨랑블루 호텔</td>\n",
       "      <td>4</td>\n",
       "      <td>일단 조식이 포함되어있어서 좋았구요 방도 깨끗하고하루정도 지내기엔 좋은거 같네요야경...</td>\n",
       "      <td>5년 전</td>\n",
       "      <td>5년 전</td>\n",
       "      <td>77</td>\n",
       "      <td>일단 조식이 포함되어있어서 좋았고요 방도 깨끗하고 하루 정도 지내기엔 좋은 거 같네...</td>\n",
       "      <td>1</td>\n",
       "      <td>1</td>\n",
       "      <td>0.865782</td>\n",
       "    </tr>\n",
       "  </tbody>\n",
       "</table>\n",
       "<p>237450 rows × 10 columns</p>\n",
       "</div>"
      ],
      "text/plain": [
       "                                      hotel  star  \\\n",
       "0                       AC 호텔 바이 메리어트 서울 강남     4   \n",
       "1                       AC 호텔 바이 메리어트 서울 강남     5   \n",
       "2                       AC 호텔 바이 메리어트 서울 강남     3   \n",
       "3                       AC 호텔 바이 메리어트 서울 강남     5   \n",
       "4       몬드리안 서울 이태원(Mondrian Seoul Itaewon)     5   \n",
       "...                                     ...   ...   \n",
       "237445                              뜨랑블루 호텔     2   \n",
       "237446                              뜨랑블루 호텔     5   \n",
       "237447                              뜨랑블루 호텔     5   \n",
       "237448                              뜨랑블루 호텔     5   \n",
       "237449                              뜨랑블루 호텔     4   \n",
       "\n",
       "                                                   review          date  \\\n",
       "0                     발렛파킹 비용이 있긴 했지만 방도 나름 괜찮고 조식도 맛있었어요        10시간 전   \n",
       "1                                                   굳굳굳굳굳          6일 전   \n",
       "2       생각보다 방이 좁아서 놀랐어요 아무래도 안마의자나 고급 블루투스 스피커처럼 주변기기...          6일 전   \n",
       "3       오픈하고 얼마안되서 갔었는데 깔끔하고 좋은 호텔이였습니다 오픈초기에 사소한 부분에서...  2022. 03. 27   \n",
       "4                                        객실이 깨끗하고 너무 예뻣어요          3일 전   \n",
       "...                                                   ...           ...   \n",
       "237445  시설 깨끗하고 다 좋은데퇴실도 안햇는데 청소하시는분인지 입구문을 맘대로 여시더라구요...          5년 전   \n",
       "237446               깔끔하고 친철하고 모두 만족해요꼭 한번더 오고 싶은 숙박업소입니다          5년 전   \n",
       "237447                     괜찮았어요 좋더라구요 마음에 들었어요냄새도 안나드러구요          5년 전   \n",
       "237448  시설 신림권에서 최고청결하고 수건에서 냄새도 안나고흠이라면 1000원받는 일회용품이...          5년 전   \n",
       "237449  일단 조식이 포함되어있어서 좋았구요 방도 깨끗하고하루정도 지내기엔 좋은거 같네요야경...          5년 전   \n",
       "\n",
       "           real_date  length  \\\n",
       "0       2022. 04. 03      35   \n",
       "1       2022. 04. 01       5   \n",
       "2       2022. 04. 01      84   \n",
       "3       2022. 03. 27      99   \n",
       "4       2022. 04. 01      16   \n",
       "...              ...     ...   \n",
       "237445          5년 전      60   \n",
       "237446          5년 전      36   \n",
       "237447          5년 전      30   \n",
       "237448          5년 전      51   \n",
       "237449          5년 전      77   \n",
       "\n",
       "                                       review_spell_check  site  sentiment  \\\n",
       "0                     발레파킹 비용이 있긴 했지만 방도 나름 괜찮고 조식도 맛있었어요     0          0   \n",
       "1                                                   굳굳굳굳굳     0          1   \n",
       "2       생각보다 방이 좁아서 놀랐어요 아무래도 안마의자나 고급 블루투스 스피커처럼 주변기기...     0          0   \n",
       "3       오픈하고 얼마 안 돼서 갔었는데 깔끔하고 좋은 호텔이었습니다 오픈 초기에 사소한 부...     0          1   \n",
       "4                                        객실이 깨끗하고 너무 예뻤어요     0          1   \n",
       "...                                                   ...   ...        ...   \n",
       "237445  시설 깨끗하고 다 좋은데 퇴실도 안 했는데 청소하시는 분인지 입구물을 맘대로 여시더...     1          0   \n",
       "237446            깔끔하고 친절하고 모두 만족해요 꼭 한 번 더 오고 싶은 숙박업소입니다     1          1   \n",
       "237447                    괜찮았어요 좋더라고요 마음에 들었어요 냄새도 안나드러구요     1          1   \n",
       "237448  시설 신림권에서 최고 청결하고 수건에서 냄새도 안 나고 흠이라면 1000원 받는 일...     1          1   \n",
       "237449  일단 조식이 포함되어있어서 좋았고요 방도 깨끗하고 하루 정도 지내기엔 좋은 거 같네...     1          1   \n",
       "\n",
       "        sent_proba  \n",
       "0         0.157060  \n",
       "1         0.690170  \n",
       "2         0.168279  \n",
       "3         0.880336  \n",
       "4         0.807030  \n",
       "...            ...  \n",
       "237445    0.090315  \n",
       "237446    0.996796  \n",
       "237447    0.726964  \n",
       "237448    0.615526  \n",
       "237449    0.865782  \n",
       "\n",
       "[237450 rows x 10 columns]"
      ]
     },
     "execution_count": 121,
     "metadata": {},
     "output_type": "execute_result"
    }
   ],
   "source": [
    "df"
   ]
  },
  {
   "cell_type": "code",
   "execution_count": 120,
   "metadata": {},
   "outputs": [],
   "source": [
    "df.to_csv(\"호텔감성분석확률.csv\", index=False)"
   ]
  },
  {
   "cell_type": "code",
   "execution_count": 49,
   "metadata": {
    "id": "ghRcvDef_eKD"
   },
   "outputs": [],
   "source": [
    "from gensim.models import Word2Vec"
   ]
  },
  {
   "cell_type": "code",
   "execution_count": 28,
   "metadata": {
    "colab": {
     "base_uri": "https://localhost:8080/"
    },
    "id": "Qg2HiHi22WEk",
    "outputId": "59df0de1-1524-43a8-ef7a-1c8755a17a52"
   },
   "outputs": [
    {
     "data": {
      "text/plain": [
       "0        [발레파킹, 비용이, 있긴, 했지만, 방도, 나름, 괜찮고, 조식도, 맛있었어요]\n",
       "1                                              [굳굳굳굳굳]\n",
       "2    [생각보다, 방이, 좁아서, 놀랐어요, 아무래도, 안마의자나, 고급, 블루투스, 스...\n",
       "3    [오픈하고, 얼마, 안, 돼서, 갔었는데, 깔끔하고, 좋은, 호텔이었습니다, 오픈,...\n",
       "4                                [객실이, 깨끗하고, 너무, 예뻤어요]\n",
       "Name: review_spell_check, dtype: object"
      ]
     },
     "execution_count": 28,
     "metadata": {},
     "output_type": "execute_result"
    }
   ],
   "source": [
    "word_split = df['review_spell_check'].str.split()\n",
    "word_split[:5]"
   ]
  },
  {
   "cell_type": "code",
   "execution_count": 52,
   "metadata": {
    "id": "WM_CusLqC8ry"
   },
   "outputs": [],
   "source": [
    "model = Word2Vec(sentences=word_split, window=5)"
   ]
  },
  {
   "cell_type": "code",
   "execution_count": 55,
   "metadata": {
    "colab": {
     "base_uri": "https://localhost:8080/"
    },
    "id": "rTxhy7wNEFg2",
    "outputId": "b77ec4b5-c7b0-4e01-a752-844dd06c38d8"
   },
   "outputs": [
    {
     "data": {
      "text/plain": [
       "[('직원들', 0.858448326587677),\n",
       " ('직원의', 0.8572185635566711),\n",
       " ('직원은', 0.8517175912857056),\n",
       " ('직원이', 0.7935423851013184),\n",
       " ('직원분', 0.7895414233207703),\n",
       " ('남직원은', 0.7834699153900146),\n",
       " ('직원분의', 0.7728833556175232),\n",
       " ('여직원', 0.7673814296722412),\n",
       " ('직원들은', 0.7653464078903198),\n",
       " ('직원들의', 0.7554028034210205)]"
      ]
     },
     "execution_count": 55,
     "metadata": {},
     "output_type": "execute_result"
    }
   ],
   "source": [
    "model.wv.most_similar(\"직원\")"
   ]
  }
 ],
 "metadata": {
  "accelerator": "GPU",
  "colab": {
   "name": "리뷰전처리",
   "provenance": []
  },
  "kernelspec": {
   "display_name": "Python 3",
   "language": "python",
   "name": "python3"
  },
  "language_info": {
   "codemirror_mode": {
    "name": "ipython",
    "version": 3
   },
   "file_extension": ".py",
   "mimetype": "text/x-python",
   "name": "python",
   "nbconvert_exporter": "python",
   "pygments_lexer": "ipython3",
   "version": "3.8.5"
  }
 },
 "nbformat": 4,
 "nbformat_minor": 4
}
