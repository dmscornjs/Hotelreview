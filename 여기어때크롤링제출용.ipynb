{
  "cells": [
    {
      "cell_type": "markdown",
      "metadata": {
        "id": "view-in-github",
        "colab_type": "text"
      },
      "source": [
        "<a href=\"https://colab.research.google.com/github/dmscornjs/Hotelreview/blob/main/%EC%97%AC%EA%B8%B0%EC%96%B4%EB%95%8C%ED%81%AC%EB%A1%A4%EB%A7%81%EC%A0%9C%EC%B6%9C%EC%9A%A9.ipynb\" target=\"_parent\"><img src=\"https://colab.research.google.com/assets/colab-badge.svg\" alt=\"Open In Colab\"/></a>"
      ]
    },
    {
      "cell_type": "markdown",
      "source": [
        "#여기어때 크롤링 \n",
        "* 분석 환경:주피터 노트북"
      ],
      "metadata": {
        "id": "Jnca65XSgRQt"
      }
    },
    {
      "cell_type": "code",
      "execution_count": null,
      "metadata": {
        "id": "-pwEhm7GZEYS"
      },
      "outputs": [],
      "source": [
        "from webdriver_manager.chrome import ChromeDriverManager\n",
        "from selenium import webdriver\n",
        "import requests\n",
        "from bs4 import BeautifulSoup as bs\n",
        "import time\n",
        "import pandas as pd"
      ]
    },
    {
      "cell_type": "markdown",
      "source": [
        "여기어때의 경우 호텔로 분류되는 되는 것 중 지역이 서울에 해당하는 호텔들을 전부 조사하였다.  \n",
        "야놀자와 달리 서울 전체로 구분되지 않고 강남, 명동과 같이 서울의 지역 단위로 구분되어져 있었다.  \n",
        "그래서 서울 지역에 해당하는 호텔 URL을 모아 모두 수집하였다."
      ],
      "metadata": {
        "id": "j_uAmItsipEN"
      }
    },
    {
      "cell_type": "code",
      "execution_count": null,
      "metadata": {
        "id": "V69EhepG9gGV"
      },
      "outputs": [],
      "source": [
        "seoullist=[\"https://www.goodchoice.kr/product/search/2/2012\", #강남/역삼/삼성/신사/청담\n",
        "           \"https://www.goodchoice.kr/product/search/2/2019\", #서초/교대\n",
        "           \"https://www.goodchoice.kr/product/search/2/2016\", #잠실\n",
        "           \"https://www.goodchoice.kr/product/search/2/2014\", #을지로\n",
        "           \"https://www.goodchoice.kr/product/search/2/2015\", #종로\n",
        "           \"https://www.goodchoice.kr/product/search/2/2020\", #서울역\n",
        "           \"https://www.goodchoice.kr/product/search/2/2018\", #마포\n",
        "           \"https://www.goodchoice.kr/product/search/2/2017\", #영등포\n",
        "           \"https://www.goodchoice.kr/product/search/2/2021\" #구로\n",
        "]"
      ]
    },
    {
      "cell_type": "code",
      "source": [
        "# url 함수\n",
        "def make_url(Url):\n",
        "  #driver = webdriver.Chrome('chromedriver')\n",
        "    driver = webdriver.Chrome(ChromeDriverManager().install())\n",
        "    driver.get(Url)\n",
        "\n",
        "    html = driver.page_source\n",
        "    soup = bs(html, 'html.parser')\n",
        "    data = soup.select(\"div > li > a\")\n",
        "\n",
        "    for d in data:\n",
        "        hotelurl.append(d.attrs['href'])\n",
        "    driver.close()\n",
        "\n",
        "# 크롤링 함수\n",
        "def crawl(start, end):\n",
        "    global df\n",
        "    for p in range(start,end):\n",
        "        html = driver.page_source\n",
        "        soup = bs(html, 'html.parser')\n",
        "\n",
        "        reviews = soup.select('#review > ul > li')\n",
        "        \n",
        "        for r in reviews:\n",
        "            review = r.select_one('.txt').text\n",
        "            star = r.select_one('.score_wrap_sm .num').text\n",
        "            date = r.select_one('.date').text\n",
        "            #hotels.append(hotel)\n",
        "            df = df.append(pd.DataFrame([[hotel, star, review, date]], columns = columns),ignore_index=True)\n",
        "\n",
        "        driver.find_element_by_xpath('//*[@id=\"pagination\"]/div/button['+str(p)+']').click()\n",
        "        time.sleep(1)\n",
        "        #print(soup.select('.paging .on')[0].text)\n",
        "\n",
        "def make_review_crawl(url):\n",
        "    global df\n",
        "    global hotel\n",
        "    driver.get(url)\n",
        "    # 페이지 파싱\n",
        "    html = driver.page_source\n",
        "    soup = bs(html, 'html.parser')\n",
        "\n",
        "    # '리뷰' 클릭하도록 명령\n",
        "    hotel = driver.find_element_by_css_selector('h2').text\n",
        "    hotel = hotel.replace(\"[반짝특가] \", \"\")\n",
        "    #hotels.append(hotel)\n",
        "    driver.find_element_by_xpath('//*[@id=\"content\"]/div[2]/button[3]').click()\n",
        "    \n",
        "    top_text = soup.select('.score_top')[0].find('strong').text\n",
        "    top_score = soup.select('.score_top .num')[0].text\n",
        "    top_total=soup.select('.score_top')[0].find('p').find('b').text\n",
        "\n",
        "    # 리뷰 총 개수\n",
        "    top_total = int(soup.select('.score_top')[0].find('p').find('b').text)\n",
        "\n",
        "    # 마지막 페이지 수 (한페이지에 리뷰 10개씩)\n",
        "    last_page = top_total // 10 + 1 \n",
        "\n",
        "    # next_page 몇 번 클릭 해야하는지 설정\n",
        "    if last_page % 5 == 0:\n",
        "        page_step = last_page // 5 \n",
        "    else:\n",
        "        page_step = last_page // 5 + 1   \n",
        "    \n",
        "    print(top_total, last_page, page_step)\n",
        "    step = 1\n",
        "    while(page_step >= step):\n",
        "        \n",
        "        # 첫번째 step\n",
        "        if step == 1:\n",
        "            print('step1 loop')\n",
        "            crawl(2,7)\n",
        "            \n",
        "        # 마지막 step\n",
        "        elif step == page_step:\n",
        "            print('step 마지막 loop')\n",
        "                \n",
        "            if top_total % 50 > 10:\n",
        "                            \n",
        "                if last_page % 5 == 0:\n",
        "                    end_page = 7\n",
        "                else: \n",
        "                    end_page =last_page % 5 + 2\n",
        "                    \n",
        "                crawl(3, end_page)\n",
        "                \n",
        "            # 마지막 페이지\n",
        "            html = driver.page_source\n",
        "            soup = bs(html, 'html.parser')\n",
        "            reviews = soup.select('#review > ul > li')\n",
        "        \n",
        "            for r in reviews:\n",
        "                review = r.select_one('.txt').text\n",
        "                star = r.select_one('.score_wrap_sm .num').text\n",
        "                date = select_one('.date').text\n",
        "                hotels.append(hotel)\n",
        "                df = df.append(pd.DataFrame([[hotel, star, review, date]], columns = columns),ignore_index=True)\n",
        "                print(date, hotel)   \n",
        "        # 중간 step\n",
        "        else:\n",
        "            crawl(3,8)\n",
        "        step += 1\n",
        "\n",
        "    df.append(pd.DataFrame({'review': review, 'star': star,'date':date }))\n",
        "    df['hotel'] = hotel\n",
        "\n",
        "columns = ['hotel', 'star', 'review','date']\n",
        "df = pd.DataFrame(columns = columns) # 데이터프레임 생성\n"
      ],
      "metadata": {
        "id": "RTo3wmdLcjbq"
      },
      "execution_count": null,
      "outputs": []
    },
    {
      "cell_type": "code",
      "execution_count": null,
      "metadata": {
        "id": "I_VKxqS2qORm"
      },
      "outputs": [],
      "source": [
        "hotelurl = []\n",
        "for Url in seoullist:\n",
        "  make_url(Url)"
      ]
    },
    {
      "cell_type": "code",
      "execution_count": null,
      "metadata": {
        "id": "Z_BkEOrCZEYs",
        "outputId": "4813e4cc-1348-4d18-93da-1ea58ce49b84"
      },
      "outputs": [
        {
          "data": {
            "text/plain": [
              "['https://www.goodchoice.kr/product/detail?ano=7936&adcno=2&sel_date=2022-04-14&sel_date2=2022-04-15',\n",
              " 'https://www.goodchoice.kr/product/detail?ano=12877&adcno=2&sel_date=2022-04-14&sel_date2=2022-04-15',\n",
              " 'https://www.goodchoice.kr/product/detail?ano=6903&adcno=2&sel_date=2022-04-14&sel_date2=2022-04-15',\n",
              " 'https://www.goodchoice.kr/product/detail?ano=57843&adcno=2&sel_date=2022-04-14&sel_date2=2022-04-15',\n",
              " 'https://www.goodchoice.kr/product/detail?ano=6264&adcno=2&sel_date=2022-04-14&sel_date2=2022-04-15',\n",
              " 'https://www.goodchoice.kr/product/detail?ano=6826&adcno=2&sel_date=2022-04-14&sel_date2=2022-04-15',\n",
              " 'https://www.goodchoice.kr/product/detail?ano=6533&adcno=2&sel_date=2022-04-14&sel_date2=2022-04-15',\n",
              " 'https://www.goodchoice.kr/product/detail?ano=65455&adcno=2&sel_date=2022-04-14&sel_date2=2022-04-15',\n",
              " 'https://www.goodchoice.kr/product/detail?ano=6490&adcno=2&sel_date=2022-04-14&sel_date2=2022-04-15',\n",
              " 'https://www.goodchoice.kr/product/detail?ano=69906&adcno=2&sel_date=2022-04-14&sel_date2=2022-04-15',\n",
              " 'https://www.goodchoice.kr/product/detail?ano=64392&adcno=2&sel_date=2022-04-14&sel_date2=2022-04-15',\n",
              " 'https://www.goodchoice.kr/product/detail?ano=55178&adcno=2&sel_date=2022-04-14&sel_date2=2022-04-15',\n",
              " 'https://www.goodchoice.kr/product/detail?ano=6980&adcno=2&sel_date=2022-04-14&sel_date2=2022-04-15',\n",
              " 'https://www.goodchoice.kr/product/detail?ano=6473&adcno=2&sel_date=2022-04-14&sel_date2=2022-04-15',\n",
              " 'https://www.goodchoice.kr/product/detail?ano=57910&adcno=2&sel_date=2022-04-14&sel_date2=2022-04-15',\n",
              " 'https://www.goodchoice.kr/product/detail?ano=49442&adcno=2&sel_date=2022-04-14&sel_date2=2022-04-15',\n",
              " 'https://www.goodchoice.kr/product/detail?ano=48567&adcno=2&sel_date=2022-04-14&sel_date2=2022-04-15',\n",
              " 'https://www.goodchoice.kr/product/detail?ano=61931&adcno=2&sel_date=2022-04-14&sel_date2=2022-04-15',\n",
              " 'https://www.goodchoice.kr/product/detail?ano=13067&adcno=2&sel_date=2022-04-14&sel_date2=2022-04-15',\n",
              " 'https://www.goodchoice.kr/product/detail?ano=45184&adcno=2&sel_date=2022-04-14&sel_date2=2022-04-15',\n",
              " 'https://www.goodchoice.kr/product/detail?ano=52834&adcno=2&sel_date=2022-04-14&sel_date2=2022-04-15',\n",
              " 'https://www.goodchoice.kr/product/detail?ano=55185&adcno=2&sel_date=2022-04-14&sel_date2=2022-04-15',\n",
              " 'https://www.goodchoice.kr/product/detail?ano=10845&adcno=2&sel_date=2022-04-14&sel_date2=2022-04-15',\n",
              " 'https://www.goodchoice.kr/product/detail?ano=65311&adcno=2&sel_date=2022-04-14&sel_date2=2022-04-15',\n",
              " 'https://www.goodchoice.kr/product/detail?ano=6915&adcno=2&sel_date=2022-04-14&sel_date2=2022-04-15',\n",
              " 'https://www.goodchoice.kr/product/detail?ano=6259&adcno=2&sel_date=2022-04-14&sel_date2=2022-04-15',\n",
              " 'https://www.goodchoice.kr/product/detail?ano=6322&adcno=2&sel_date=2022-04-14&sel_date2=2022-04-15',\n",
              " 'https://www.goodchoice.kr/product/detail?ano=8200&adcno=2&sel_date=2022-04-14&sel_date2=2022-04-15',\n",
              " 'https://www.goodchoice.kr/product/detail?ano=51792&adcno=2&sel_date=2022-04-14&sel_date2=2022-04-15',\n",
              " 'https://www.goodchoice.kr/product/detail?ano=45099&adcno=2&sel_date=2022-04-14&sel_date2=2022-04-15',\n",
              " 'https://www.goodchoice.kr/product/detail?ano=70045&adcno=2&sel_date=2022-04-14&sel_date2=2022-04-15',\n",
              " 'https://www.goodchoice.kr/product/detail?ano=6639&adcno=2&sel_date=2022-04-14&sel_date2=2022-04-15',\n",
              " 'https://www.goodchoice.kr/product/detail?ano=9850&adcno=2&sel_date=2022-04-14&sel_date2=2022-04-15',\n",
              " 'https://www.goodchoice.kr/product/detail?ano=6338&adcno=2&sel_date=2022-04-14&sel_date2=2022-04-15',\n",
              " 'https://www.goodchoice.kr/product/detail?ano=6446&adcno=2&sel_date=2022-04-14&sel_date2=2022-04-15',\n",
              " 'https://www.goodchoice.kr/product/detail?ano=6248&adcno=2&sel_date=2022-04-14&sel_date2=2022-04-15',\n",
              " 'https://www.goodchoice.kr/product/detail?ano=6564&adcno=2&sel_date=2022-04-14&sel_date2=2022-04-15',\n",
              " 'https://www.goodchoice.kr/product/detail?ano=6261&adcno=2&sel_date=2022-04-14&sel_date2=2022-04-15',\n",
              " 'https://www.goodchoice.kr/product/detail?ano=6350&adcno=2&sel_date=2022-04-14&sel_date2=2022-04-15',\n",
              " 'https://www.goodchoice.kr/product/detail?ano=51954&adcno=2&sel_date=2022-04-14&sel_date2=2022-04-15',\n",
              " 'https://www.goodchoice.kr/product/detail?ano=48277&adcno=2&sel_date=2022-04-14&sel_date2=2022-04-15',\n",
              " 'https://www.goodchoice.kr/product/detail?ano=7103&adcno=2&sel_date=2022-04-14&sel_date2=2022-04-15',\n",
              " 'https://www.goodchoice.kr/product/detail?ano=69487&adcno=2&sel_date=2022-04-14&sel_date2=2022-04-15',\n",
              " 'https://www.goodchoice.kr/product/detail?ano=9939&adcno=2&sel_date=2022-04-14&sel_date2=2022-04-15',\n",
              " 'https://www.goodchoice.kr/product/detail?ano=70224&adcno=2&sel_date=2022-04-14&sel_date2=2022-04-15',\n",
              " 'https://www.goodchoice.kr/product/detail?ano=51237&adcno=2&sel_date=2022-04-14&sel_date2=2022-04-15',\n",
              " 'https://www.goodchoice.kr/product/detail?ano=55968&adcno=2&sel_date=2022-04-14&sel_date2=2022-04-15',\n",
              " 'https://www.goodchoice.kr/product/detail?ano=6280&adcno=2&sel_date=2022-04-14&sel_date2=2022-04-15',\n",
              " 'https://www.goodchoice.kr/product/detail?ano=45309&adcno=2&sel_date=2022-04-14&sel_date2=2022-04-15',\n",
              " 'https://www.goodchoice.kr/product/detail?ano=68416&adcno=2&sel_date=2022-04-14&sel_date2=2022-04-15',\n",
              " 'https://www.goodchoice.kr/product/detail?ano=6525&adcno=2&sel_date=2022-04-14&sel_date2=2022-04-15',\n",
              " 'https://www.goodchoice.kr/product/detail?ano=10693&adcno=2&sel_date=2022-04-14&sel_date2=2022-04-15',\n",
              " 'https://www.goodchoice.kr/product/detail?ano=6319&adcno=2&sel_date=2022-04-14&sel_date2=2022-04-15',\n",
              " 'https://www.goodchoice.kr/product/detail?ano=6279&adcno=2&sel_date=2022-04-14&sel_date2=2022-04-15',\n",
              " 'https://www.goodchoice.kr/product/detail?ano=7326&adcno=2&sel_date=2022-04-14&sel_date2=2022-04-15',\n",
              " 'https://www.goodchoice.kr/product/detail?ano=47138&adcno=2&sel_date=2022-04-14&sel_date2=2022-04-15',\n",
              " 'https://www.goodchoice.kr/product/detail?ano=7936&adcno=2&sel_date=2022-04-14&sel_date2=2022-04-15',\n",
              " 'https://www.goodchoice.kr/product/detail?ano=12877&adcno=2&sel_date=2022-04-14&sel_date2=2022-04-15',\n",
              " 'https://www.goodchoice.kr/product/detail?ano=6903&adcno=2&sel_date=2022-04-14&sel_date2=2022-04-15',\n",
              " 'https://www.goodchoice.kr/product/detail?ano=57843&adcno=2&sel_date=2022-04-14&sel_date2=2022-04-15',\n",
              " 'https://www.goodchoice.kr/product/detail?ano=6264&adcno=2&sel_date=2022-04-14&sel_date2=2022-04-15',\n",
              " 'https://www.goodchoice.kr/product/detail?ano=6826&adcno=2&sel_date=2022-04-14&sel_date2=2022-04-15',\n",
              " 'https://www.goodchoice.kr/product/detail?ano=6533&adcno=2&sel_date=2022-04-14&sel_date2=2022-04-15',\n",
              " 'https://www.goodchoice.kr/product/detail?ano=65455&adcno=2&sel_date=2022-04-14&sel_date2=2022-04-15',\n",
              " 'https://www.goodchoice.kr/product/detail?ano=6490&adcno=2&sel_date=2022-04-14&sel_date2=2022-04-15',\n",
              " 'https://www.goodchoice.kr/product/detail?ano=69906&adcno=2&sel_date=2022-04-14&sel_date2=2022-04-15',\n",
              " 'https://www.goodchoice.kr/product/detail?ano=64392&adcno=2&sel_date=2022-04-14&sel_date2=2022-04-15',\n",
              " 'https://www.goodchoice.kr/product/detail?ano=55178&adcno=2&sel_date=2022-04-14&sel_date2=2022-04-15',\n",
              " 'https://www.goodchoice.kr/product/detail?ano=6980&adcno=2&sel_date=2022-04-14&sel_date2=2022-04-15',\n",
              " 'https://www.goodchoice.kr/product/detail?ano=6473&adcno=2&sel_date=2022-04-14&sel_date2=2022-04-15',\n",
              " 'https://www.goodchoice.kr/product/detail?ano=57910&adcno=2&sel_date=2022-04-14&sel_date2=2022-04-15',\n",
              " 'https://www.goodchoice.kr/product/detail?ano=49442&adcno=2&sel_date=2022-04-14&sel_date2=2022-04-15',\n",
              " 'https://www.goodchoice.kr/product/detail?ano=48567&adcno=2&sel_date=2022-04-14&sel_date2=2022-04-15',\n",
              " 'https://www.goodchoice.kr/product/detail?ano=61931&adcno=2&sel_date=2022-04-14&sel_date2=2022-04-15',\n",
              " 'https://www.goodchoice.kr/product/detail?ano=13067&adcno=2&sel_date=2022-04-14&sel_date2=2022-04-15',\n",
              " 'https://www.goodchoice.kr/product/detail?ano=45184&adcno=2&sel_date=2022-04-14&sel_date2=2022-04-15',\n",
              " 'https://www.goodchoice.kr/product/detail?ano=52834&adcno=2&sel_date=2022-04-14&sel_date2=2022-04-15',\n",
              " 'https://www.goodchoice.kr/product/detail?ano=55185&adcno=2&sel_date=2022-04-14&sel_date2=2022-04-15',\n",
              " 'https://www.goodchoice.kr/product/detail?ano=10845&adcno=2&sel_date=2022-04-14&sel_date2=2022-04-15',\n",
              " 'https://www.goodchoice.kr/product/detail?ano=65311&adcno=2&sel_date=2022-04-14&sel_date2=2022-04-15',\n",
              " 'https://www.goodchoice.kr/product/detail?ano=6915&adcno=2&sel_date=2022-04-14&sel_date2=2022-04-15',\n",
              " 'https://www.goodchoice.kr/product/detail?ano=6259&adcno=2&sel_date=2022-04-14&sel_date2=2022-04-15',\n",
              " 'https://www.goodchoice.kr/product/detail?ano=6322&adcno=2&sel_date=2022-04-14&sel_date2=2022-04-15',\n",
              " 'https://www.goodchoice.kr/product/detail?ano=8200&adcno=2&sel_date=2022-04-14&sel_date2=2022-04-15',\n",
              " 'https://www.goodchoice.kr/product/detail?ano=51792&adcno=2&sel_date=2022-04-14&sel_date2=2022-04-15',\n",
              " 'https://www.goodchoice.kr/product/detail?ano=45099&adcno=2&sel_date=2022-04-14&sel_date2=2022-04-15',\n",
              " 'https://www.goodchoice.kr/product/detail?ano=70045&adcno=2&sel_date=2022-04-14&sel_date2=2022-04-15',\n",
              " 'https://www.goodchoice.kr/product/detail?ano=6639&adcno=2&sel_date=2022-04-14&sel_date2=2022-04-15',\n",
              " 'https://www.goodchoice.kr/product/detail?ano=9850&adcno=2&sel_date=2022-04-14&sel_date2=2022-04-15',\n",
              " 'https://www.goodchoice.kr/product/detail?ano=6338&adcno=2&sel_date=2022-04-14&sel_date2=2022-04-15',\n",
              " 'https://www.goodchoice.kr/product/detail?ano=6446&adcno=2&sel_date=2022-04-14&sel_date2=2022-04-15',\n",
              " 'https://www.goodchoice.kr/product/detail?ano=6248&adcno=2&sel_date=2022-04-14&sel_date2=2022-04-15',\n",
              " 'https://www.goodchoice.kr/product/detail?ano=6564&adcno=2&sel_date=2022-04-14&sel_date2=2022-04-15',\n",
              " 'https://www.goodchoice.kr/product/detail?ano=6261&adcno=2&sel_date=2022-04-14&sel_date2=2022-04-15',\n",
              " 'https://www.goodchoice.kr/product/detail?ano=6350&adcno=2&sel_date=2022-04-14&sel_date2=2022-04-15',\n",
              " 'https://www.goodchoice.kr/product/detail?ano=51954&adcno=2&sel_date=2022-04-14&sel_date2=2022-04-15',\n",
              " 'https://www.goodchoice.kr/product/detail?ano=48277&adcno=2&sel_date=2022-04-14&sel_date2=2022-04-15',\n",
              " 'https://www.goodchoice.kr/product/detail?ano=7103&adcno=2&sel_date=2022-04-14&sel_date2=2022-04-15',\n",
              " 'https://www.goodchoice.kr/product/detail?ano=69487&adcno=2&sel_date=2022-04-14&sel_date2=2022-04-15',\n",
              " 'https://www.goodchoice.kr/product/detail?ano=9939&adcno=2&sel_date=2022-04-14&sel_date2=2022-04-15',\n",
              " 'https://www.goodchoice.kr/product/detail?ano=70224&adcno=2&sel_date=2022-04-14&sel_date2=2022-04-15',\n",
              " 'https://www.goodchoice.kr/product/detail?ano=51237&adcno=2&sel_date=2022-04-14&sel_date2=2022-04-15',\n",
              " 'https://www.goodchoice.kr/product/detail?ano=55968&adcno=2&sel_date=2022-04-14&sel_date2=2022-04-15',\n",
              " 'https://www.goodchoice.kr/product/detail?ano=6280&adcno=2&sel_date=2022-04-14&sel_date2=2022-04-15',\n",
              " 'https://www.goodchoice.kr/product/detail?ano=45309&adcno=2&sel_date=2022-04-14&sel_date2=2022-04-15',\n",
              " 'https://www.goodchoice.kr/product/detail?ano=68416&adcno=2&sel_date=2022-04-14&sel_date2=2022-04-15',\n",
              " 'https://www.goodchoice.kr/product/detail?ano=6525&adcno=2&sel_date=2022-04-14&sel_date2=2022-04-15',\n",
              " 'https://www.goodchoice.kr/product/detail?ano=10693&adcno=2&sel_date=2022-04-14&sel_date2=2022-04-15',\n",
              " 'https://www.goodchoice.kr/product/detail?ano=6319&adcno=2&sel_date=2022-04-14&sel_date2=2022-04-15',\n",
              " 'https://www.goodchoice.kr/product/detail?ano=6279&adcno=2&sel_date=2022-04-14&sel_date2=2022-04-15',\n",
              " 'https://www.goodchoice.kr/product/detail?ano=7326&adcno=2&sel_date=2022-04-14&sel_date2=2022-04-15',\n",
              " 'https://www.goodchoice.kr/product/detail?ano=47138&adcno=2&sel_date=2022-04-14&sel_date2=2022-04-15',\n",
              " 'https://www.goodchoice.kr/product/detail?ano=7036&adcno=2&sel_date=2022-04-14&sel_date2=2022-04-15',\n",
              " 'https://www.goodchoice.kr/product/detail?ano=7508&adcno=2&sel_date=2022-04-14&sel_date2=2022-04-15',\n",
              " 'https://www.goodchoice.kr/product/detail?ano=68411&adcno=2&sel_date=2022-04-14&sel_date2=2022-04-15',\n",
              " 'https://www.goodchoice.kr/product/detail?ano=6565&adcno=2&sel_date=2022-04-14&sel_date2=2022-04-15',\n",
              " 'https://www.goodchoice.kr/product/detail?ano=63959&adcno=2&sel_date=2022-04-14&sel_date2=2022-04-15',\n",
              " 'https://www.goodchoice.kr/product/detail?ano=61579&adcno=2&sel_date=2022-04-14&sel_date2=2022-04-15',\n",
              " 'https://www.goodchoice.kr/product/detail?ano=6271&adcno=2&sel_date=2022-04-14&sel_date2=2022-04-15',\n",
              " 'https://www.goodchoice.kr/product/detail?ano=6269&adcno=2&sel_date=2022-04-14&sel_date2=2022-04-15',\n",
              " 'https://www.goodchoice.kr/product/detail?ano=7448&adcno=2&sel_date=2022-04-14&sel_date2=2022-04-15',\n",
              " 'https://www.goodchoice.kr/product/detail?ano=11864&adcno=2&sel_date=2022-04-14&sel_date2=2022-04-15',\n",
              " 'https://www.goodchoice.kr/product/detail?ano=61951&adcno=2&sel_date=2022-04-14&sel_date2=2022-04-15',\n",
              " 'https://www.goodchoice.kr/product/detail?ano=6960&adcno=2&sel_date=2022-04-14&sel_date2=2022-04-15',\n",
              " 'https://www.goodchoice.kr/product/detail?ano=7517&adcno=2&sel_date=2022-04-14&sel_date2=2022-04-15',\n",
              " 'https://www.goodchoice.kr/product/detail?ano=46462&adcno=2&sel_date=2022-04-14&sel_date2=2022-04-15',\n",
              " 'https://www.goodchoice.kr/product/detail?ano=7112&adcno=2&sel_date=2022-04-14&sel_date2=2022-04-15',\n",
              " 'https://www.goodchoice.kr/product/detail?ano=6545&adcno=2&sel_date=2022-04-14&sel_date2=2022-04-15',\n",
              " 'https://www.goodchoice.kr/product/detail?ano=6362&adcno=2&sel_date=2022-04-14&sel_date2=2022-04-15',\n",
              " 'https://www.goodchoice.kr/product/detail?ano=52853&adcno=2&sel_date=2022-04-14&sel_date2=2022-04-15',\n",
              " 'https://www.goodchoice.kr/product/detail?ano=6395&adcno=2&sel_date=2022-04-14&sel_date2=2022-04-15',\n",
              " 'https://www.goodchoice.kr/product/detail?ano=6673&adcno=2&sel_date=2022-04-14&sel_date2=2022-04-15',\n",
              " 'https://www.goodchoice.kr/product/detail?ano=7316&adcno=2&sel_date=2022-04-14&sel_date2=2022-04-15',\n",
              " 'https://www.goodchoice.kr/product/detail?ano=6393&adcno=2&sel_date=2022-04-14&sel_date2=2022-04-15',\n",
              " 'https://www.goodchoice.kr/product/detail?ano=69510&adcno=2&sel_date=2022-04-14&sel_date2=2022-04-15',\n",
              " 'https://www.goodchoice.kr/product/detail?ano=6244&adcno=2&sel_date=2022-04-14&sel_date2=2022-04-15',\n",
              " 'https://www.goodchoice.kr/product/detail?ano=7328&adcno=2&sel_date=2022-04-14&sel_date2=2022-04-15',\n",
              " 'https://www.goodchoice.kr/product/detail?ano=11927&adcno=2&sel_date=2022-04-14&sel_date2=2022-04-15',\n",
              " 'https://www.goodchoice.kr/product/detail?ano=58031&adcno=2&sel_date=2022-04-14&sel_date2=2022-04-15',\n",
              " 'https://www.goodchoice.kr/product/detail?ano=12400&adcno=2&sel_date=2022-04-14&sel_date2=2022-04-15',\n",
              " 'https://www.goodchoice.kr/product/detail?ano=69966&adcno=2&sel_date=2022-04-14&sel_date2=2022-04-15',\n",
              " 'https://www.goodchoice.kr/product/detail?ano=7022&adcno=2&sel_date=2022-04-14&sel_date2=2022-04-15',\n",
              " 'https://www.goodchoice.kr/product/detail?ano=7020&adcno=2&sel_date=2022-04-14&sel_date2=2022-04-15',\n",
              " 'https://www.goodchoice.kr/product/detail?ano=60449&adcno=2&sel_date=2022-04-14&sel_date2=2022-04-15',\n",
              " 'https://www.goodchoice.kr/product/detail?ano=51906&adcno=2&sel_date=2022-04-14&sel_date2=2022-04-15',\n",
              " 'https://www.goodchoice.kr/product/detail?ano=7505&adcno=2&sel_date=2022-04-14&sel_date2=2022-04-15',\n",
              " 'https://www.goodchoice.kr/product/detail?ano=13022&adcno=2&sel_date=2022-04-14&sel_date2=2022-04-15',\n",
              " 'https://www.goodchoice.kr/product/detail?ano=56276&adcno=2&sel_date=2022-04-14&sel_date2=2022-04-15',\n",
              " 'https://www.goodchoice.kr/product/detail?ano=61600&adcno=2&sel_date=2022-04-14&sel_date2=2022-04-15',\n",
              " 'https://www.goodchoice.kr/product/detail?ano=63874&adcno=2&sel_date=2022-04-14&sel_date2=2022-04-15',\n",
              " 'https://www.goodchoice.kr/product/detail?ano=46115&adcno=2&sel_date=2022-04-14&sel_date2=2022-04-15',\n",
              " 'https://www.goodchoice.kr/product/detail?ano=7384&adcno=2&sel_date=2022-04-14&sel_date2=2022-04-15',\n",
              " 'https://www.goodchoice.kr/product/detail?ano=6402&adcno=2&sel_date=2022-04-14&sel_date2=2022-04-15',\n",
              " 'https://www.goodchoice.kr/product/detail?ano=6308&adcno=2&sel_date=2022-04-14&sel_date2=2022-04-15',\n",
              " 'https://www.goodchoice.kr/product/detail?ano=6288&adcno=2&sel_date=2022-04-14&sel_date2=2022-04-15',\n",
              " 'https://www.goodchoice.kr/product/detail?ano=66063&adcno=2&sel_date=2022-04-14&sel_date2=2022-04-15',\n",
              " 'https://www.goodchoice.kr/product/detail?ano=51061&adcno=2&sel_date=2022-04-14&sel_date2=2022-04-15',\n",
              " 'https://www.goodchoice.kr/product/detail?ano=67993&adcno=2&sel_date=2022-04-14&sel_date2=2022-04-15',\n",
              " 'https://www.goodchoice.kr/product/detail?ano=6309&adcno=2&sel_date=2022-04-14&sel_date2=2022-04-15',\n",
              " 'https://www.goodchoice.kr/product/detail?ano=6492&adcno=2&sel_date=2022-04-14&sel_date2=2022-04-15',\n",
              " 'https://www.goodchoice.kr/product/detail?ano=69970&adcno=2&sel_date=2022-04-14&sel_date2=2022-04-15',\n",
              " 'https://www.goodchoice.kr/product/detail?ano=62067&adcno=2&sel_date=2022-04-14&sel_date2=2022-04-15',\n",
              " 'https://www.goodchoice.kr/product/detail?ano=68834&adcno=2&sel_date=2022-04-14&sel_date2=2022-04-15',\n",
              " 'https://www.goodchoice.kr/product/detail?ano=6674&adcno=2&sel_date=2022-04-14&sel_date2=2022-04-15',\n",
              " 'https://www.goodchoice.kr/product/detail?ano=6513&adcno=2&sel_date=2022-04-14&sel_date2=2022-04-15',\n",
              " 'https://www.goodchoice.kr/product/detail?ano=6294&adcno=2&sel_date=2022-04-14&sel_date2=2022-04-15',\n",
              " 'https://www.goodchoice.kr/product/detail?ano=67482&adcno=2&sel_date=2022-04-14&sel_date2=2022-04-15',\n",
              " 'https://www.goodchoice.kr/product/detail?ano=65631&adcno=2&sel_date=2022-04-14&sel_date2=2022-04-15',\n",
              " 'https://www.goodchoice.kr/product/detail?ano=6398&adcno=2&sel_date=2022-04-14&sel_date2=2022-04-15',\n",
              " 'https://www.goodchoice.kr/product/detail?ano=45234&adcno=2&sel_date=2022-04-14&sel_date2=2022-04-15',\n",
              " 'https://www.goodchoice.kr/product/detail?ano=6386&adcno=2&sel_date=2022-04-14&sel_date2=2022-04-15',\n",
              " 'https://www.goodchoice.kr/product/detail?ano=7425&adcno=2&sel_date=2022-04-14&sel_date2=2022-04-15',\n",
              " 'https://www.goodchoice.kr/product/detail?ano=67525&adcno=2&sel_date=2022-04-14&sel_date2=2022-04-15',\n",
              " 'https://www.goodchoice.kr/product/detail?ano=6493&adcno=2&sel_date=2022-04-14&sel_date2=2022-04-15',\n",
              " 'https://www.goodchoice.kr/product/detail?ano=6557&adcno=2&sel_date=2022-04-14&sel_date2=2022-04-15',\n",
              " 'https://www.goodchoice.kr/product/detail?ano=6289&adcno=2&sel_date=2022-04-14&sel_date2=2022-04-15',\n",
              " 'https://www.goodchoice.kr/product/detail?ano=6535&adcno=2&sel_date=2022-04-14&sel_date2=2022-04-15',\n",
              " 'https://www.goodchoice.kr/product/detail?ano=6817&adcno=2&sel_date=2022-04-14&sel_date2=2022-04-15',\n",
              " 'https://www.goodchoice.kr/product/detail?ano=6283&adcno=2&sel_date=2022-04-14&sel_date2=2022-04-15',\n",
              " 'https://www.goodchoice.kr/product/detail?ano=49759&adcno=2&sel_date=2022-04-14&sel_date2=2022-04-15',\n",
              " 'https://www.goodchoice.kr/product/detail?ano=62242&adcno=2&sel_date=2022-04-14&sel_date2=2022-04-15',\n",
              " 'https://www.goodchoice.kr/product/detail?ano=6852&adcno=2&sel_date=2022-04-14&sel_date2=2022-04-15',\n",
              " 'https://www.goodchoice.kr/product/detail?ano=67327&adcno=2&sel_date=2022-04-14&sel_date2=2022-04-15',\n",
              " 'https://www.goodchoice.kr/product/detail?ano=11971&adcno=2&sel_date=2022-04-14&sel_date2=2022-04-15',\n",
              " 'https://www.goodchoice.kr/product/detail?ano=6497&adcno=2&sel_date=2022-04-14&sel_date2=2022-04-15',\n",
              " 'https://www.goodchoice.kr/product/detail?ano=6407&adcno=2&sel_date=2022-04-14&sel_date2=2022-04-15',\n",
              " 'https://www.goodchoice.kr/product/detail?ano=6918&adcno=2&sel_date=2022-04-14&sel_date2=2022-04-15',\n",
              " 'https://www.goodchoice.kr/product/detail?ano=64650&adcno=2&sel_date=2022-04-14&sel_date2=2022-04-15',\n",
              " 'https://www.goodchoice.kr/product/detail?ano=6351&adcno=2&sel_date=2022-04-14&sel_date2=2022-04-15',\n",
              " 'https://www.goodchoice.kr/product/detail?ano=6863&adcno=2&sel_date=2022-04-14&sel_date2=2022-04-15',\n",
              " 'https://www.goodchoice.kr/product/detail?ano=6989&adcno=2&sel_date=2022-04-14&sel_date2=2022-04-15',\n",
              " 'https://www.goodchoice.kr/product/detail?ano=6401&adcno=2&sel_date=2022-04-14&sel_date2=2022-04-15',\n",
              " 'https://www.goodchoice.kr/product/detail?ano=6649&adcno=2&sel_date=2022-04-14&sel_date2=2022-04-15',\n",
              " 'https://www.goodchoice.kr/product/detail?ano=58313&adcno=2&sel_date=2022-04-14&sel_date2=2022-04-15',\n",
              " 'https://www.goodchoice.kr/product/detail?ano=6568&adcno=2&sel_date=2022-04-14&sel_date2=2022-04-15',\n",
              " 'https://www.goodchoice.kr/product/detail?ano=6408&adcno=2&sel_date=2022-04-14&sel_date2=2022-04-15',\n",
              " 'https://www.goodchoice.kr/product/detail?ano=46808&adcno=2&sel_date=2022-04-14&sel_date2=2022-04-15',\n",
              " 'https://www.goodchoice.kr/product/detail?ano=8210&adcno=2&sel_date=2022-04-14&sel_date2=2022-04-15',\n",
              " 'https://www.goodchoice.kr/product/detail?ano=6254&adcno=2&sel_date=2022-04-14&sel_date2=2022-04-15',\n",
              " 'https://www.goodchoice.kr/product/detail?ano=6754&adcno=2&sel_date=2022-04-14&sel_date2=2022-04-15',\n",
              " 'https://www.goodchoice.kr/product/detail?ano=63656&adcno=2&sel_date=2022-04-14&sel_date2=2022-04-15',\n",
              " 'https://www.goodchoice.kr/product/detail?ano=56936&adcno=2&sel_date=2022-04-14&sel_date2=2022-04-15',\n",
              " 'https://www.goodchoice.kr/product/detail?ano=62377&adcno=2&sel_date=2022-04-14&sel_date2=2022-04-15',\n",
              " 'https://www.goodchoice.kr/product/detail?ano=62074&adcno=2&sel_date=2022-04-14&sel_date2=2022-04-15',\n",
              " 'https://www.goodchoice.kr/product/detail?ano=6356&adcno=2&sel_date=2022-04-14&sel_date2=2022-04-15',\n",
              " 'https://www.goodchoice.kr/product/detail?ano=45512&adcno=2&sel_date=2022-04-14&sel_date2=2022-04-15',\n",
              " 'https://www.goodchoice.kr/product/detail?ano=66925&adcno=2&sel_date=2022-04-14&sel_date2=2022-04-15',\n",
              " 'https://www.goodchoice.kr/product/detail?ano=6950&adcno=2&sel_date=2022-04-14&sel_date2=2022-04-15',\n",
              " 'https://www.goodchoice.kr/product/detail?ano=6935&adcno=2&sel_date=2022-04-14&sel_date2=2022-04-15',\n",
              " 'https://www.goodchoice.kr/product/detail?ano=6284&adcno=2&sel_date=2022-04-14&sel_date2=2022-04-15',\n",
              " 'https://www.goodchoice.kr/product/detail?ano=55523&adcno=2&sel_date=2022-04-14&sel_date2=2022-04-15',\n",
              " 'https://www.goodchoice.kr/product/detail?ano=6366&adcno=2&sel_date=2022-04-14&sel_date2=2022-04-15',\n",
              " 'https://www.goodchoice.kr/product/detail?ano=6286&adcno=2&sel_date=2022-04-14&sel_date2=2022-04-15',\n",
              " 'https://www.goodchoice.kr/product/detail?ano=46664&adcno=2&sel_date=2022-04-14&sel_date2=2022-04-15',\n",
              " 'https://www.goodchoice.kr/product/detail?ano=66681&adcno=2&sel_date=2022-04-14&sel_date2=2022-04-15',\n",
              " 'https://www.goodchoice.kr/product/detail?ano=7141&adcno=2&sel_date=2022-04-14&sel_date2=2022-04-15',\n",
              " 'https://www.goodchoice.kr/product/detail?ano=6285&adcno=2&sel_date=2022-04-14&sel_date2=2022-04-15',\n",
              " 'https://www.goodchoice.kr/product/detail?ano=67755&adcno=2&sel_date=2022-04-14&sel_date2=2022-04-15',\n",
              " 'https://www.goodchoice.kr/product/detail?ano=7016&adcno=2&sel_date=2022-04-14&sel_date2=2022-04-15',\n",
              " 'https://www.goodchoice.kr/product/detail?ano=6358&adcno=2&sel_date=2022-04-14&sel_date2=2022-04-15',\n",
              " 'https://www.goodchoice.kr/product/detail?ano=8182&adcno=2&sel_date=2022-04-14&sel_date2=2022-04-15',\n",
              " 'https://www.goodchoice.kr/product/detail?ano=60713&adcno=2&sel_date=2022-04-14&sel_date2=2022-04-15',\n",
              " 'https://www.goodchoice.kr/product/detail?ano=64762&adcno=2&sel_date=2022-04-14&sel_date2=2022-04-15',\n",
              " 'https://www.goodchoice.kr/product/detail?ano=66590&adcno=2&sel_date=2022-04-14&sel_date2=2022-04-15',\n",
              " 'https://www.goodchoice.kr/product/detail?ano=6961&adcno=2&sel_date=2022-04-14&sel_date2=2022-04-15',\n",
              " 'https://www.goodchoice.kr/product/detail?ano=7333&adcno=2&sel_date=2022-04-14&sel_date2=2022-04-15',\n",
              " 'https://www.goodchoice.kr/product/detail?ano=6668&adcno=2&sel_date=2022-04-14&sel_date2=2022-04-15',\n",
              " 'https://www.goodchoice.kr/product/detail?ano=49028&adcno=2&sel_date=2022-04-14&sel_date2=2022-04-15',\n",
              " 'https://www.goodchoice.kr/product/detail?ano=68574&adcno=2&sel_date=2022-04-14&sel_date2=2022-04-15',\n",
              " 'https://www.goodchoice.kr/product/detail?ano=47211&adcno=2&sel_date=2022-04-14&sel_date2=2022-04-15',\n",
              " 'https://www.goodchoice.kr/product/detail?ano=7243&adcno=2&sel_date=2022-04-14&sel_date2=2022-04-15',\n",
              " 'https://www.goodchoice.kr/product/detail?ano=59664&adcno=2&sel_date=2022-04-14&sel_date2=2022-04-15',\n",
              " 'https://www.goodchoice.kr/product/detail?ano=50687&adcno=2&sel_date=2022-04-14&sel_date2=2022-04-15',\n",
              " 'https://www.goodchoice.kr/product/detail?ano=50688&adcno=2&sel_date=2022-04-14&sel_date2=2022-04-15',\n",
              " 'https://www.goodchoice.kr/product/detail?ano=50686&adcno=2&sel_date=2022-04-14&sel_date2=2022-04-15',\n",
              " 'https://www.goodchoice.kr/product/detail?ano=50689&adcno=2&sel_date=2022-04-14&sel_date2=2022-04-15',\n",
              " 'https://www.goodchoice.kr/product/detail?ano=7437&adcno=2&sel_date=2022-04-14&sel_date2=2022-04-15',\n",
              " 'https://www.goodchoice.kr/product/detail?ano=7099&adcno=2&sel_date=2022-04-14&sel_date2=2022-04-15',\n",
              " 'https://www.goodchoice.kr/product/detail?ano=65229&adcno=2&sel_date=2022-04-14&sel_date2=2022-04-15',\n",
              " 'https://www.goodchoice.kr/product/detail?ano=45106&adcno=2&sel_date=2022-04-14&sel_date2=2022-04-15',\n",
              " 'https://www.goodchoice.kr/product/detail?ano=6977&adcno=2&sel_date=2022-04-14&sel_date2=2022-04-15',\n",
              " 'https://www.goodchoice.kr/product/detail?ano=6292&adcno=2&sel_date=2022-04-14&sel_date2=2022-04-15',\n",
              " 'https://www.goodchoice.kr/product/detail?ano=52083&adcno=2&sel_date=2022-04-14&sel_date2=2022-04-15',\n",
              " 'https://www.goodchoice.kr/product/detail?ano=6689&adcno=2&sel_date=2022-04-14&sel_date2=2022-04-15',\n",
              " 'https://www.goodchoice.kr/product/detail?ano=12830&adcno=2&sel_date=2022-04-14&sel_date2=2022-04-15',\n",
              " 'https://www.goodchoice.kr/product/detail?ano=46146&adcno=2&sel_date=2022-04-14&sel_date2=2022-04-15',\n",
              " 'https://www.goodchoice.kr/product/detail?ano=6419&adcno=2&sel_date=2022-04-14&sel_date2=2022-04-15',\n",
              " 'https://www.goodchoice.kr/product/detail?ano=6690&adcno=2&sel_date=2022-04-14&sel_date2=2022-04-15',\n",
              " 'https://www.goodchoice.kr/product/detail?ano=6278&adcno=2&sel_date=2022-04-14&sel_date2=2022-04-15',\n",
              " 'https://www.goodchoice.kr/product/detail?ano=54927&adcno=2&sel_date=2022-04-14&sel_date2=2022-04-15',\n",
              " 'https://www.goodchoice.kr/product/detail?ano=64440&adcno=2&sel_date=2022-04-14&sel_date2=2022-04-15',\n",
              " 'https://www.goodchoice.kr/product/detail?ano=50756&adcno=2&sel_date=2022-04-14&sel_date2=2022-04-15',\n",
              " 'https://www.goodchoice.kr/product/detail?ano=49772&adcno=2&sel_date=2022-04-14&sel_date2=2022-04-15',\n",
              " 'https://www.goodchoice.kr/product/detail?ano=7431&adcno=2&sel_date=2022-04-14&sel_date2=2022-04-15',\n",
              " 'https://www.goodchoice.kr/product/detail?ano=7258&adcno=2&sel_date=2022-04-14&sel_date2=2022-04-15',\n",
              " 'https://www.goodchoice.kr/product/detail?ano=48076&adcno=2&sel_date=2022-04-14&sel_date2=2022-04-15',\n",
              " 'https://www.goodchoice.kr/product/detail?ano=56797&adcno=2&sel_date=2022-04-14&sel_date2=2022-04-15',\n",
              " 'https://www.goodchoice.kr/product/detail?ano=9901&adcno=2&sel_date=2022-04-14&sel_date2=2022-04-15',\n",
              " 'https://www.goodchoice.kr/product/detail?ano=6282&adcno=2&sel_date=2022-04-14&sel_date2=2022-04-15',\n",
              " 'https://www.goodchoice.kr/product/detail?ano=7361&adcno=2&sel_date=2022-04-14&sel_date2=2022-04-15',\n",
              " 'https://www.goodchoice.kr/product/detail?ano=59342&adcno=2&sel_date=2022-04-14&sel_date2=2022-04-15',\n",
              " 'https://www.goodchoice.kr/product/detail?ano=6559&adcno=2&sel_date=2022-04-14&sel_date2=2022-04-15',\n",
              " 'https://www.goodchoice.kr/product/detail?ano=7308&adcno=2&sel_date=2022-04-14&sel_date2=2022-04-15',\n",
              " 'https://www.goodchoice.kr/product/detail?ano=63502&adcno=2&sel_date=2022-04-14&sel_date2=2022-04-15',\n",
              " 'https://www.goodchoice.kr/product/detail?ano=58220&adcno=2&sel_date=2022-04-14&sel_date2=2022-04-15',\n",
              " 'https://www.goodchoice.kr/product/detail?ano=48187&adcno=2&sel_date=2022-04-14&sel_date2=2022-04-15',\n",
              " 'https://www.goodchoice.kr/product/detail?ano=52487&adcno=2&sel_date=2022-04-14&sel_date2=2022-04-15',\n",
              " 'https://www.goodchoice.kr/product/detail?ano=51149&adcno=2&sel_date=2022-04-14&sel_date2=2022-04-15',\n",
              " 'https://www.goodchoice.kr/product/detail?ano=49911&adcno=2&sel_date=2022-04-14&sel_date2=2022-04-15',\n",
              " 'https://www.goodchoice.kr/product/detail?ano=6480&adcno=2&sel_date=2022-04-14&sel_date2=2022-04-15',\n",
              " 'https://www.goodchoice.kr/product/detail?ano=6666&adcno=2&sel_date=2022-04-14&sel_date2=2022-04-15',\n",
              " 'https://www.goodchoice.kr/product/detail?ano=66962&adcno=2&sel_date=2022-04-14&sel_date2=2022-04-15',\n",
              " 'https://www.goodchoice.kr/product/detail?ano=56151&adcno=2&sel_date=2022-04-14&sel_date2=2022-04-15',\n",
              " 'https://www.goodchoice.kr/product/detail?ano=7019&adcno=2&sel_date=2022-04-14&sel_date2=2022-04-15',\n",
              " 'https://www.goodchoice.kr/product/detail?ano=6534&adcno=2&sel_date=2022-04-14&sel_date2=2022-04-15',\n",
              " 'https://www.goodchoice.kr/product/detail?ano=64045&adcno=2&sel_date=2022-04-14&sel_date2=2022-04-15',\n",
              " 'https://www.goodchoice.kr/product/detail?ano=6252&adcno=2&sel_date=2022-04-14&sel_date2=2022-04-15',\n",
              " 'https://www.goodchoice.kr/product/detail?ano=45252&adcno=2&sel_date=2022-04-14&sel_date2=2022-04-15',\n",
              " 'https://www.goodchoice.kr/product/detail?ano=6345&adcno=2&sel_date=2022-04-14&sel_date2=2022-04-15',\n",
              " 'https://www.goodchoice.kr/product/detail?ano=6249&adcno=2&sel_date=2022-04-14&sel_date2=2022-04-15',\n",
              " 'https://www.goodchoice.kr/product/detail?ano=6985&adcno=2&sel_date=2022-04-14&sel_date2=2022-04-15',\n",
              " 'https://www.goodchoice.kr/product/detail?ano=6986&adcno=2&sel_date=2022-04-14&sel_date2=2022-04-15',\n",
              " 'https://www.goodchoice.kr/product/detail?ano=46477&adcno=2&sel_date=2022-04-14&sel_date2=2022-04-15',\n",
              " 'https://www.goodchoice.kr/product/detail?ano=60022&adcno=2&sel_date=2022-04-14&sel_date2=2022-04-15',\n",
              " 'https://www.goodchoice.kr/product/detail?ano=6546&adcno=2&sel_date=2022-04-14&sel_date2=2022-04-15',\n",
              " 'https://www.goodchoice.kr/product/detail?ano=6537&adcno=2&sel_date=2022-04-14&sel_date2=2022-04-15',\n",
              " 'https://www.goodchoice.kr/product/detail?ano=47433&adcno=2&sel_date=2022-04-14&sel_date2=2022-04-15',\n",
              " 'https://www.goodchoice.kr/product/detail?ano=6272&adcno=2&sel_date=2022-04-14&sel_date2=2022-04-15',\n",
              " 'https://www.goodchoice.kr/product/detail?ano=50373&adcno=2&sel_date=2022-04-14&sel_date2=2022-04-15',\n",
              " 'https://www.goodchoice.kr/product/detail?ano=45667&adcno=2&sel_date=2022-04-14&sel_date2=2022-04-15',\n",
              " 'https://www.goodchoice.kr/product/detail?ano=9840&adcno=2&sel_date=2022-04-14&sel_date2=2022-04-15',\n",
              " 'https://www.goodchoice.kr/product/detail?ano=47242&adcno=2&sel_date=2022-04-14&sel_date2=2022-04-15',\n",
              " 'https://www.goodchoice.kr/product/detail?ano=48342&adcno=2&sel_date=2022-04-14&sel_date2=2022-04-15',\n",
              " 'https://www.goodchoice.kr/product/detail?ano=45200&adcno=2&sel_date=2022-04-14&sel_date2=2022-04-15',\n",
              " 'https://www.goodchoice.kr/product/detail?ano=6418&adcno=2&sel_date=2022-04-14&sel_date2=2022-04-15',\n",
              " 'https://www.goodchoice.kr/product/detail?ano=6798&adcno=2&sel_date=2022-04-14&sel_date2=2022-04-15',\n",
              " 'https://www.goodchoice.kr/product/detail?ano=60114&adcno=2&sel_date=2022-04-14&sel_date2=2022-04-15',\n",
              " 'https://www.goodchoice.kr/product/detail?ano=6379&adcno=2&sel_date=2022-04-14&sel_date2=2022-04-15',\n",
              " 'https://www.goodchoice.kr/product/detail?ano=52826&adcno=2&sel_date=2022-04-14&sel_date2=2022-04-15',\n",
              " 'https://www.goodchoice.kr/product/detail?ano=10844&adcno=2&sel_date=2022-04-14&sel_date2=2022-04-15',\n",
              " 'https://www.goodchoice.kr/product/detail?ano=56514&adcno=2&sel_date=2022-04-14&sel_date2=2022-04-15',\n",
              " 'https://www.goodchoice.kr/product/detail?ano=58541&adcno=2&sel_date=2022-04-14&sel_date2=2022-04-15',\n",
              " 'https://www.goodchoice.kr/product/detail?ano=6558&adcno=2&sel_date=2022-04-14&sel_date2=2022-04-15',\n",
              " 'https://www.goodchoice.kr/product/detail?ano=65055&adcno=2&sel_date=2022-04-14&sel_date2=2022-04-15',\n",
              " 'https://www.goodchoice.kr/product/detail?ano=9946&adcno=2&sel_date=2022-04-14&sel_date2=2022-04-15',\n",
              " 'https://www.goodchoice.kr/product/detail?ano=68109&adcno=2&sel_date=2022-04-14&sel_date2=2022-04-15',\n",
              " 'https://www.goodchoice.kr/product/detail?ano=46153&adcno=2&sel_date=2022-04-14&sel_date2=2022-04-15',\n",
              " 'https://www.goodchoice.kr/product/detail?ano=10665&adcno=2&sel_date=2022-04-14&sel_date2=2022-04-15']"
            ]
          },
          "execution_count": 46,
          "metadata": {},
          "output_type": "execute_result"
        }
      ],
      "source": [
        "hotelurl"
      ]
    },
    {
      "cell_type": "code",
      "execution_count": null,
      "metadata": {
        "colab": {
          "base_uri": "https://localhost:8080/",
          "height": 423
        },
        "id": "SMWIssJ9hw_k",
        "outputId": "20efe901-d7b9-45b2-83c4-56a2918ca9fb"
      },
      "outputs": [
        {
          "data": {
            "text/html": [
              "<div>\n",
              "<style scoped>\n",
              "    .dataframe tbody tr th:only-of-type {\n",
              "        vertical-align: middle;\n",
              "    }\n",
              "\n",
              "    .dataframe tbody tr th {\n",
              "        vertical-align: top;\n",
              "    }\n",
              "\n",
              "    .dataframe thead th {\n",
              "        text-align: right;\n",
              "    }\n",
              "</style>\n",
              "<table border=\"1\" class=\"dataframe\">\n",
              "  <thead>\n",
              "    <tr style=\"text-align: right;\">\n",
              "      <th></th>\n",
              "      <th>url</th>\n",
              "    </tr>\n",
              "  </thead>\n",
              "  <tbody>\n",
              "    <tr>\n",
              "      <th>0</th>\n",
              "      <td>https://www.goodchoice.kr/product/detail?ano=7...</td>\n",
              "    </tr>\n",
              "    <tr>\n",
              "      <th>1</th>\n",
              "      <td>https://www.goodchoice.kr/product/detail?ano=1...</td>\n",
              "    </tr>\n",
              "    <tr>\n",
              "      <th>2</th>\n",
              "      <td>https://www.goodchoice.kr/product/detail?ano=6...</td>\n",
              "    </tr>\n",
              "    <tr>\n",
              "      <th>3</th>\n",
              "      <td>https://www.goodchoice.kr/product/detail?ano=5...</td>\n",
              "    </tr>\n",
              "    <tr>\n",
              "      <th>4</th>\n",
              "      <td>https://www.goodchoice.kr/product/detail?ano=6...</td>\n",
              "    </tr>\n",
              "    <tr>\n",
              "      <th>...</th>\n",
              "      <td>...</td>\n",
              "    </tr>\n",
              "    <tr>\n",
              "      <th>303</th>\n",
              "      <td>https://www.goodchoice.kr/product/detail?ano=6...</td>\n",
              "    </tr>\n",
              "    <tr>\n",
              "      <th>304</th>\n",
              "      <td>https://www.goodchoice.kr/product/detail?ano=9...</td>\n",
              "    </tr>\n",
              "    <tr>\n",
              "      <th>305</th>\n",
              "      <td>https://www.goodchoice.kr/product/detail?ano=6...</td>\n",
              "    </tr>\n",
              "    <tr>\n",
              "      <th>306</th>\n",
              "      <td>https://www.goodchoice.kr/product/detail?ano=4...</td>\n",
              "    </tr>\n",
              "    <tr>\n",
              "      <th>307</th>\n",
              "      <td>https://www.goodchoice.kr/product/detail?ano=1...</td>\n",
              "    </tr>\n",
              "  </tbody>\n",
              "</table>\n",
              "<p>308 rows × 1 columns</p>\n",
              "</div>"
            ],
            "text/plain": [
              "                                                   url\n",
              "0    https://www.goodchoice.kr/product/detail?ano=7...\n",
              "1    https://www.goodchoice.kr/product/detail?ano=1...\n",
              "2    https://www.goodchoice.kr/product/detail?ano=6...\n",
              "3    https://www.goodchoice.kr/product/detail?ano=5...\n",
              "4    https://www.goodchoice.kr/product/detail?ano=6...\n",
              "..                                                 ...\n",
              "303  https://www.goodchoice.kr/product/detail?ano=6...\n",
              "304  https://www.goodchoice.kr/product/detail?ano=9...\n",
              "305  https://www.goodchoice.kr/product/detail?ano=6...\n",
              "306  https://www.goodchoice.kr/product/detail?ano=4...\n",
              "307  https://www.goodchoice.kr/product/detail?ano=1...\n",
              "\n",
              "[308 rows x 1 columns]"
            ]
          },
          "execution_count": 47,
          "metadata": {},
          "output_type": "execute_result"
        }
      ],
      "source": [
        "dfhotelurl = pd.DataFrame({'url':hotelurl})\n",
        "dfhotelurl"
      ]
    },
    {
      "cell_type": "code",
      "execution_count": null,
      "metadata": {
        "colab": {
          "base_uri": "https://localhost:8080/",
          "height": 175
        },
        "id": "92Ky7bBur3aT",
        "outputId": "1b2b6937-1bf4-4f50-bb49-88d29acd8583"
      },
      "outputs": [
        {
          "data": {
            "text/html": [
              "<div>\n",
              "<style scoped>\n",
              "    .dataframe tbody tr th:only-of-type {\n",
              "        vertical-align: middle;\n",
              "    }\n",
              "\n",
              "    .dataframe tbody tr th {\n",
              "        vertical-align: top;\n",
              "    }\n",
              "\n",
              "    .dataframe thead th {\n",
              "        text-align: right;\n",
              "    }\n",
              "</style>\n",
              "<table border=\"1\" class=\"dataframe\">\n",
              "  <thead>\n",
              "    <tr style=\"text-align: right;\">\n",
              "      <th></th>\n",
              "      <th>url</th>\n",
              "    </tr>\n",
              "  </thead>\n",
              "  <tbody>\n",
              "    <tr>\n",
              "      <th>count</th>\n",
              "      <td>308</td>\n",
              "    </tr>\n",
              "    <tr>\n",
              "      <th>unique</th>\n",
              "      <td>252</td>\n",
              "    </tr>\n",
              "    <tr>\n",
              "      <th>top</th>\n",
              "      <td>https://www.goodchoice.kr/product/detail?ano=6...</td>\n",
              "    </tr>\n",
              "    <tr>\n",
              "      <th>freq</th>\n",
              "      <td>2</td>\n",
              "    </tr>\n",
              "  </tbody>\n",
              "</table>\n",
              "</div>"
            ],
            "text/plain": [
              "                                                      url\n",
              "count                                                 308\n",
              "unique                                                252\n",
              "top     https://www.goodchoice.kr/product/detail?ano=6...\n",
              "freq                                                    2"
            ]
          },
          "execution_count": 48,
          "metadata": {},
          "output_type": "execute_result"
        }
      ],
      "source": [
        "dfhotelurl.describe()"
      ]
    },
    {
      "cell_type": "code",
      "execution_count": null,
      "metadata": {
        "id": "Btj6Hwq_hWJF"
      },
      "outputs": [],
      "source": [
        "dfhotelurl.to_csv(\"hotelurl0414_270.csv\")"
      ]
    },
    {
      "cell_type": "markdown",
      "source": [
        "마지막 리뷰 페이지가 빈 페이지이거나 수집 중 정보가 변경되는 등으로 인해 오류가 발생하였다.  \n",
        "이 경우 예외처리를 통해 끊기지 않고 수집할 수 있도록 하였다."
      ],
      "metadata": {
        "id": "aWbPNTRtjWWY"
      }
    },
    {
      "cell_type": "code",
      "execution_count": null,
      "metadata": {
        "colab": {
          "background_save": true,
          "base_uri": "https://localhost:8080/"
        },
        "id": "XfGpC3d6ieUj",
        "outputId": "37a2fe8a-79d9-4299-ac0b-94c3b7160724"
      },
      "outputs": [
        {
          "name": "stderr",
          "output_type": "stream",
          "text": [
            "\n",
            "\n",
            "====== WebDriver manager ======\n",
            "Current google-chrome version is 100.0.4896\n",
            "Get LATEST chromedriver version for 100.0.4896 google-chrome\n",
            "Driver [C:\\Users\\ynk99\\.wdm\\drivers\\chromedriver\\win32\\100.0.4896.60\\chromedriver.exe] found in cache\n"
          ]
        },
        {
          "name": "stdout",
          "output_type": "stream",
          "text": [
            "895 90 18\n",
            "step1 loop\n",
            "step 마지막 loop\n"
          ]
        },
        {
          "name": "stderr",
          "output_type": "stream",
          "text": [
            "\n",
            "\n",
            "====== WebDriver manager ======\n",
            "Current google-chrome version is 100.0.4896\n",
            "Get LATEST chromedriver version for 100.0.4896 google-chrome\n",
            "Driver [C:\\Users\\ynk99\\.wdm\\drivers\\chromedriver\\win32\\100.0.4896.60\\chromedriver.exe] found in cache\n"
          ]
        },
        {
          "name": "stdout",
          "output_type": "stream",
          "text": [
            "991 100 20\n",
            "step1 loop\n",
            "step 마지막 loop\n"
          ]
        },
        {
          "name": "stderr",
          "output_type": "stream",
          "text": [
            "\n",
            "\n",
            "====== WebDriver manager ======\n",
            "Current google-chrome version is 100.0.4896\n",
            "Get LATEST chromedriver version for 100.0.4896 google-chrome\n",
            "Driver [C:\\Users\\ynk99\\.wdm\\drivers\\chromedriver\\win32\\100.0.4896.60\\chromedriver.exe] found in cache\n"
          ]
        },
        {
          "name": "stdout",
          "output_type": "stream",
          "text": [
            "636 64 13\n",
            "step1 loop\n",
            "step 마지막 loop\n"
          ]
        },
        {
          "name": "stderr",
          "output_type": "stream",
          "text": [
            "\n",
            "\n",
            "====== WebDriver manager ======\n",
            "Current google-chrome version is 100.0.4896\n",
            "Get LATEST chromedriver version for 100.0.4896 google-chrome\n",
            "Driver [C:\\Users\\ynk99\\.wdm\\drivers\\chromedriver\\win32\\100.0.4896.60\\chromedriver.exe] found in cache\n"
          ]
        },
        {
          "name": "stdout",
          "output_type": "stream",
          "text": [
            "811 82 17\n",
            "step1 loop\n",
            "step 마지막 loop\n"
          ]
        },
        {
          "name": "stderr",
          "output_type": "stream",
          "text": [
            "\n",
            "\n",
            "====== WebDriver manager ======\n",
            "Current google-chrome version is 100.0.4896\n",
            "Get LATEST chromedriver version for 100.0.4896 google-chrome\n",
            "Driver [C:\\Users\\ynk99\\.wdm\\drivers\\chromedriver\\win32\\100.0.4896.60\\chromedriver.exe] found in cache\n"
          ]
        },
        {
          "name": "stdout",
          "output_type": "stream",
          "text": [
            "2250 226 46\n",
            "step1 loop\n"
          ]
        },
        {
          "name": "stderr",
          "output_type": "stream",
          "text": [
            "\n",
            "\n",
            "====== WebDriver manager ======\n",
            "Current google-chrome version is 100.0.4896\n",
            "Get LATEST chromedriver version for 100.0.4896 google-chrome\n",
            "Driver [C:\\Users\\ynk99\\.wdm\\drivers\\chromedriver\\win32\\100.0.4896.60\\chromedriver.exe] found in cache\n"
          ]
        },
        {
          "name": "stdout",
          "output_type": "stream",
          "text": [
            "1152 116 24\n",
            "step1 loop\n"
          ]
        },
        {
          "name": "stderr",
          "output_type": "stream",
          "text": [
            "\n",
            "\n"
          ]
        },
        {
          "name": "stdout",
          "output_type": "stream",
          "text": [
            "step 마지막 loop\n"
          ]
        },
        {
          "name": "stderr",
          "output_type": "stream",
          "text": [
            "====== WebDriver manager ======\n",
            "Current google-chrome version is 100.0.4896\n",
            "Get LATEST chromedriver version for 100.0.4896 google-chrome\n",
            "Driver [C:\\Users\\ynk99\\.wdm\\drivers\\chromedriver\\win32\\100.0.4896.60\\chromedriver.exe] found in cache\n"
          ]
        },
        {
          "name": "stdout",
          "output_type": "stream",
          "text": [
            "882 89 18\n",
            "step1 loop\n",
            "step 마지막 loop\n"
          ]
        },
        {
          "name": "stderr",
          "output_type": "stream",
          "text": [
            "\n",
            "\n",
            "====== WebDriver manager ======\n",
            "Current google-chrome version is 100.0.4896\n",
            "Get LATEST chromedriver version for 100.0.4896 google-chrome\n",
            "Driver [C:\\Users\\ynk99\\.wdm\\drivers\\chromedriver\\win32\\100.0.4896.60\\chromedriver.exe] found in cache\n"
          ]
        },
        {
          "name": "stdout",
          "output_type": "stream",
          "text": [
            "159 16 4\n",
            "step1 loop\n"
          ]
        },
        {
          "name": "stderr",
          "output_type": "stream",
          "text": [
            "\n",
            "\n",
            "====== WebDriver manager ======\n"
          ]
        },
        {
          "name": "stdout",
          "output_type": "stream",
          "text": [
            "step 마지막 loop\n"
          ]
        },
        {
          "name": "stderr",
          "output_type": "stream",
          "text": [
            "Current google-chrome version is 100.0.4896\n",
            "Get LATEST chromedriver version for 100.0.4896 google-chrome\n",
            "Driver [C:\\Users\\ynk99\\.wdm\\drivers\\chromedriver\\win32\\100.0.4896.60\\chromedriver.exe] found in cache\n"
          ]
        },
        {
          "name": "stdout",
          "output_type": "stream",
          "text": [
            "215 22 5\n",
            "step1 loop\n",
            "step 마지막 loop\n"
          ]
        },
        {
          "name": "stderr",
          "output_type": "stream",
          "text": [
            "\n",
            "\n",
            "====== WebDriver manager ======\n",
            "Current google-chrome version is 100.0.4896\n",
            "Get LATEST chromedriver version for 100.0.4896 google-chrome\n",
            "Driver [C:\\Users\\ynk99\\.wdm\\drivers\\chromedriver\\win32\\100.0.4896.60\\chromedriver.exe] found in cache\n"
          ]
        },
        {
          "name": "stdout",
          "output_type": "stream",
          "text": [
            "85 9 2\n",
            "step1 loop\n",
            "step 마지막 loop\n"
          ]
        },
        {
          "name": "stderr",
          "output_type": "stream",
          "text": [
            "\n",
            "\n",
            "====== WebDriver manager ======\n",
            "Current google-chrome version is 100.0.4896\n",
            "Get LATEST chromedriver version for 100.0.4896 google-chrome\n",
            "Driver [C:\\Users\\ynk99\\.wdm\\drivers\\chromedriver\\win32\\100.0.4896.60\\chromedriver.exe] found in cache\n"
          ]
        },
        {
          "name": "stdout",
          "output_type": "stream",
          "text": [
            "508 51 11\n",
            "step1 loop\n",
            "step 마지막 loop\n"
          ]
        },
        {
          "name": "stderr",
          "output_type": "stream",
          "text": [
            "\n",
            "\n",
            "====== WebDriver manager ======\n",
            "Current google-chrome version is 100.0.4896\n",
            "Get LATEST chromedriver version for 100.0.4896 google-chrome\n",
            "Driver [C:\\Users\\ynk99\\.wdm\\drivers\\chromedriver\\win32\\100.0.4896.60\\chromedriver.exe] found in cache\n"
          ]
        },
        {
          "name": "stdout",
          "output_type": "stream",
          "text": [
            "529 53 11\n",
            "step1 loop\n",
            "step 마지막 loop\n"
          ]
        },
        {
          "name": "stderr",
          "output_type": "stream",
          "text": [
            "\n",
            "\n",
            "====== WebDriver manager ======\n",
            "Current google-chrome version is 100.0.4896\n",
            "Get LATEST chromedriver version for 100.0.4896 google-chrome\n",
            "Driver [C:\\Users\\ynk99\\.wdm\\drivers\\chromedriver\\win32\\100.0.4896.60\\chromedriver.exe] found in cache\n"
          ]
        },
        {
          "name": "stdout",
          "output_type": "stream",
          "text": [
            "741 75 15\n",
            "step1 loop\n",
            "step 마지막 loop\n"
          ]
        },
        {
          "name": "stderr",
          "output_type": "stream",
          "text": [
            "\n",
            "\n",
            "====== WebDriver manager ======\n",
            "Current google-chrome version is 100.0.4896\n",
            "Get LATEST chromedriver version for 100.0.4896 google-chrome\n",
            "Driver [C:\\Users\\ynk99\\.wdm\\drivers\\chromedriver\\win32\\100.0.4896.60\\chromedriver.exe] found in cache\n"
          ]
        },
        {
          "name": "stdout",
          "output_type": "stream",
          "text": [
            "410 42 9\n",
            "step1 loop\n"
          ]
        },
        {
          "name": "stderr",
          "output_type": "stream",
          "text": [
            "\n",
            "\n",
            "====== WebDriver manager ======\n"
          ]
        },
        {
          "name": "stdout",
          "output_type": "stream",
          "text": [
            "step 마지막 loop\n"
          ]
        },
        {
          "name": "stderr",
          "output_type": "stream",
          "text": [
            "Current google-chrome version is 100.0.4896\n",
            "Get LATEST chromedriver version for 100.0.4896 google-chrome\n",
            "Driver [C:\\Users\\ynk99\\.wdm\\drivers\\chromedriver\\win32\\100.0.4896.60\\chromedriver.exe] found in cache\n"
          ]
        },
        {
          "name": "stdout",
          "output_type": "stream",
          "text": [
            "215 22 5\n",
            "step1 loop\n",
            "step 마지막 loop\n"
          ]
        },
        {
          "name": "stderr",
          "output_type": "stream",
          "text": [
            "\n",
            "\n",
            "====== WebDriver manager ======\n",
            "Current google-chrome version is 100.0.4896\n",
            "Get LATEST chromedriver version for 100.0.4896 google-chrome\n",
            "Driver [C:\\Users\\ynk99\\.wdm\\drivers\\chromedriver\\win32\\100.0.4896.60\\chromedriver.exe] found in cache\n"
          ]
        },
        {
          "name": "stdout",
          "output_type": "stream",
          "text": [
            "1526 153 31\n",
            "step1 loop\n",
            "step 마지막 loop\n"
          ]
        },
        {
          "name": "stderr",
          "output_type": "stream",
          "text": [
            "\n",
            "\n",
            "====== WebDriver manager ======\n",
            "Current google-chrome version is 100.0.4896\n",
            "Get LATEST chromedriver version for 100.0.4896 google-chrome\n",
            "Driver [C:\\Users\\ynk99\\.wdm\\drivers\\chromedriver\\win32\\100.0.4896.60\\chromedriver.exe] found in cache\n"
          ]
        },
        {
          "name": "stdout",
          "output_type": "stream",
          "text": [
            "686 69 14\n",
            "step1 loop\n",
            "step 마지막 loop\n"
          ]
        },
        {
          "name": "stderr",
          "output_type": "stream",
          "text": [
            "\n",
            "\n",
            "====== WebDriver manager ======\n",
            "Current google-chrome version is 100.0.4896\n",
            "Get LATEST chromedriver version for 100.0.4896 google-chrome\n",
            "Driver [C:\\Users\\ynk99\\.wdm\\drivers\\chromedriver\\win32\\100.0.4896.60\\chromedriver.exe] found in cache\n"
          ]
        },
        {
          "name": "stdout",
          "output_type": "stream",
          "text": [
            "194 20 4\n",
            "step1 loop\n",
            "step 마지막 loop\n"
          ]
        },
        {
          "name": "stderr",
          "output_type": "stream",
          "text": [
            "\n",
            "\n",
            "====== WebDriver manager ======\n",
            "Current google-chrome version is 100.0.4896\n",
            "Get LATEST chromedriver version for 100.0.4896 google-chrome\n",
            "Driver [C:\\Users\\ynk99\\.wdm\\drivers\\chromedriver\\win32\\100.0.4896.60\\chromedriver.exe] found in cache\n"
          ]
        },
        {
          "name": "stdout",
          "output_type": "stream",
          "text": [
            "1379 138 28\n",
            "step1 loop\n",
            "step 마지막 loop\n"
          ]
        },
        {
          "name": "stderr",
          "output_type": "stream",
          "text": [
            "\n",
            "\n",
            "====== WebDriver manager ======\n",
            "Current google-chrome version is 100.0.4896\n",
            "Get LATEST chromedriver version for 100.0.4896 google-chrome\n",
            "Driver [C:\\Users\\ynk99\\.wdm\\drivers\\chromedriver\\win32\\100.0.4896.60\\chromedriver.exe] found in cache\n"
          ]
        },
        {
          "name": "stdout",
          "output_type": "stream",
          "text": [
            "362 37 8\n",
            "step1 loop\n",
            "step 마지막 loop\n"
          ]
        },
        {
          "name": "stderr",
          "output_type": "stream",
          "text": [
            "\n",
            "\n",
            "====== WebDriver manager ======\n",
            "Current google-chrome version is 100.0.4896\n",
            "Get LATEST chromedriver version for 100.0.4896 google-chrome\n",
            "Driver [C:\\Users\\ynk99\\.wdm\\drivers\\chromedriver\\win32\\100.0.4896.60\\chromedriver.exe] found in cache\n"
          ]
        },
        {
          "name": "stdout",
          "output_type": "stream",
          "text": [
            "546 55 11\n",
            "step1 loop\n",
            "step 마지막 loop\n"
          ]
        },
        {
          "name": "stderr",
          "output_type": "stream",
          "text": [
            "\n",
            "\n",
            "====== WebDriver manager ======\n",
            "Current google-chrome version is 100.0.4896\n",
            "Get LATEST chromedriver version for 100.0.4896 google-chrome\n",
            "Driver [C:\\Users\\ynk99\\.wdm\\drivers\\chromedriver\\win32\\100.0.4896.60\\chromedriver.exe] found in cache\n"
          ]
        },
        {
          "name": "stdout",
          "output_type": "stream",
          "text": [
            "338 34 7\n",
            "step1 loop\n",
            "step 마지막 loop\n"
          ]
        },
        {
          "name": "stderr",
          "output_type": "stream",
          "text": [
            "\n",
            "\n",
            "====== WebDriver manager ======\n",
            "Current google-chrome version is 100.0.4896\n",
            "Get LATEST chromedriver version for 100.0.4896 google-chrome\n",
            "Driver [C:\\Users\\ynk99\\.wdm\\drivers\\chromedriver\\win32\\100.0.4896.60\\chromedriver.exe] found in cache\n"
          ]
        },
        {
          "name": "stdout",
          "output_type": "stream",
          "text": [
            "156 16 4\n",
            "step1 loop\n"
          ]
        },
        {
          "name": "stderr",
          "output_type": "stream",
          "text": [
            "\n",
            "\n",
            "====== WebDriver manager ======\n"
          ]
        },
        {
          "name": "stdout",
          "output_type": "stream",
          "text": [
            "step 마지막 loop\n"
          ]
        },
        {
          "name": "stderr",
          "output_type": "stream",
          "text": [
            "Current google-chrome version is 100.0.4896\n",
            "Get LATEST chromedriver version for 100.0.4896 google-chrome\n",
            "Driver [C:\\Users\\ynk99\\.wdm\\drivers\\chromedriver\\win32\\100.0.4896.60\\chromedriver.exe] found in cache\n"
          ]
        },
        {
          "name": "stdout",
          "output_type": "stream",
          "text": [
            "61 7 2\n",
            "step1 loop\n",
            "step 마지막 loop\n"
          ]
        },
        {
          "name": "stderr",
          "output_type": "stream",
          "text": [
            "\n",
            "\n",
            "====== WebDriver manager ======\n",
            "Current google-chrome version is 100.0.4896\n",
            "Get LATEST chromedriver version for 100.0.4896 google-chrome\n",
            "Driver [C:\\Users\\ynk99\\.wdm\\drivers\\chromedriver\\win32\\100.0.4896.60\\chromedriver.exe] found in cache\n"
          ]
        },
        {
          "name": "stdout",
          "output_type": "stream",
          "text": [
            "710 72 15\n",
            "step1 loop\n",
            "step 마지막 loop\n"
          ]
        },
        {
          "name": "stderr",
          "output_type": "stream",
          "text": [
            "\n",
            "\n",
            "====== WebDriver manager ======\n",
            "Current google-chrome version is 100.0.4896\n",
            "Get LATEST chromedriver version for 100.0.4896 google-chrome\n",
            "Driver [C:\\Users\\ynk99\\.wdm\\drivers\\chromedriver\\win32\\100.0.4896.60\\chromedriver.exe] found in cache\n"
          ]
        },
        {
          "name": "stdout",
          "output_type": "stream",
          "text": [
            "335 34 7\n",
            "step1 loop\n",
            "step 마지막 loop\n"
          ]
        },
        {
          "name": "stderr",
          "output_type": "stream",
          "text": [
            "\n",
            "\n",
            "====== WebDriver manager ======\n",
            "Current google-chrome version is 100.0.4896\n",
            "Get LATEST chromedriver version for 100.0.4896 google-chrome\n",
            "Driver [C:\\Users\\ynk99\\.wdm\\drivers\\chromedriver\\win32\\100.0.4896.60\\chromedriver.exe] found in cache\n"
          ]
        },
        {
          "name": "stdout",
          "output_type": "stream",
          "text": [
            "331 34 7\n",
            "step1 loop\n",
            "step 마지막 loop\n"
          ]
        },
        {
          "name": "stderr",
          "output_type": "stream",
          "text": [
            "\n",
            "\n",
            "====== WebDriver manager ======\n",
            "Current google-chrome version is 100.0.4896\n",
            "Get LATEST chromedriver version for 100.0.4896 google-chrome\n",
            "Driver [C:\\Users\\ynk99\\.wdm\\drivers\\chromedriver\\win32\\100.0.4896.60\\chromedriver.exe] found in cache\n"
          ]
        },
        {
          "name": "stdout",
          "output_type": "stream",
          "text": [
            "548 55 11\n",
            "step1 loop\n",
            "step 마지막 loop\n"
          ]
        },
        {
          "name": "stderr",
          "output_type": "stream",
          "text": [
            "\n",
            "\n",
            "====== WebDriver manager ======\n",
            "Current google-chrome version is 100.0.4896\n",
            "Get LATEST chromedriver version for 100.0.4896 google-chrome\n",
            "Driver [C:\\Users\\ynk99\\.wdm\\drivers\\chromedriver\\win32\\100.0.4896.60\\chromedriver.exe] found in cache\n"
          ]
        },
        {
          "name": "stdout",
          "output_type": "stream",
          "text": [
            "377 38 8\n",
            "step1 loop\n",
            "step 마지막 loop\n"
          ]
        },
        {
          "name": "stderr",
          "output_type": "stream",
          "text": [
            "\n",
            "\n",
            "====== WebDriver manager ======\n",
            "Current google-chrome version is 100.0.4896\n",
            "Get LATEST chromedriver version for 100.0.4896 google-chrome\n",
            "Driver [C:\\Users\\ynk99\\.wdm\\drivers\\chromedriver\\win32\\100.0.4896.60\\chromedriver.exe] found in cache\n"
          ]
        },
        {
          "name": "stdout",
          "output_type": "stream",
          "text": [
            "274 28 6\n",
            "step1 loop\n",
            "step 마지막 loop\n"
          ]
        },
        {
          "name": "stderr",
          "output_type": "stream",
          "text": [
            "\n",
            "\n",
            "====== WebDriver manager ======\n",
            "Current google-chrome version is 100.0.4896\n",
            "Get LATEST chromedriver version for 100.0.4896 google-chrome\n",
            "Driver [C:\\Users\\ynk99\\.wdm\\drivers\\chromedriver\\win32\\100.0.4896.60\\chromedriver.exe] found in cache\n"
          ]
        },
        {
          "name": "stdout",
          "output_type": "stream",
          "text": [
            "64 7 2\n",
            "step1 loop\n",
            "step 마지막 loop\n"
          ]
        },
        {
          "name": "stderr",
          "output_type": "stream",
          "text": [
            "\n",
            "\n",
            "====== WebDriver manager ======\n",
            "Current google-chrome version is 100.0.4896\n",
            "Get LATEST chromedriver version for 100.0.4896 google-chrome\n",
            "Driver [C:\\Users\\ynk99\\.wdm\\drivers\\chromedriver\\win32\\100.0.4896.60\\chromedriver.exe] found in cache\n"
          ]
        },
        {
          "name": "stdout",
          "output_type": "stream",
          "text": [
            "139 14 3\n",
            "step1 loop\n",
            "step 마지막 loop\n"
          ]
        },
        {
          "name": "stderr",
          "output_type": "stream",
          "text": [
            "\n",
            "\n",
            "====== WebDriver manager ======\n",
            "Current google-chrome version is 100.0.4896\n",
            "Get LATEST chromedriver version for 100.0.4896 google-chrome\n",
            "Driver [C:\\Users\\ynk99\\.wdm\\drivers\\chromedriver\\win32\\100.0.4896.60\\chromedriver.exe] found in cache\n"
          ]
        },
        {
          "name": "stdout",
          "output_type": "stream",
          "text": [
            "644 65 13\n",
            "step1 loop\n",
            "step 마지막 loop\n"
          ]
        },
        {
          "name": "stderr",
          "output_type": "stream",
          "text": [
            "\n",
            "\n",
            "====== WebDriver manager ======\n",
            "Current google-chrome version is 100.0.4896\n",
            "Get LATEST chromedriver version for 100.0.4896 google-chrome\n",
            "Driver [C:\\Users\\ynk99\\.wdm\\drivers\\chromedriver\\win32\\100.0.4896.60\\chromedriver.exe] found in cache\n"
          ]
        },
        {
          "name": "stdout",
          "output_type": "stream",
          "text": [
            "937 94 19\n",
            "step1 loop\n",
            "step 마지막 loop\n"
          ]
        },
        {
          "name": "stderr",
          "output_type": "stream",
          "text": [
            "\n",
            "\n",
            "====== WebDriver manager ======\n",
            "Current google-chrome version is 100.0.4896\n",
            "Get LATEST chromedriver version for 100.0.4896 google-chrome\n",
            "Driver [C:\\Users\\ynk99\\.wdm\\drivers\\chromedriver\\win32\\100.0.4896.60\\chromedriver.exe] found in cache\n"
          ]
        },
        {
          "name": "stdout",
          "output_type": "stream",
          "text": [
            "298 30 6\n",
            "step1 loop\n",
            "step 마지막 loop\n"
          ]
        },
        {
          "name": "stderr",
          "output_type": "stream",
          "text": [
            "\n",
            "\n",
            "====== WebDriver manager ======\n",
            "Current google-chrome version is 100.0.4896\n",
            "Get LATEST chromedriver version for 100.0.4896 google-chrome\n",
            "Driver [C:\\Users\\ynk99\\.wdm\\drivers\\chromedriver\\win32\\100.0.4896.60\\chromedriver.exe] found in cache\n"
          ]
        },
        {
          "name": "stdout",
          "output_type": "stream",
          "text": [
            "326 33 7\n",
            "step1 loop\n",
            "step 마지막 loop\n"
          ]
        },
        {
          "name": "stderr",
          "output_type": "stream",
          "text": [
            "\n",
            "\n",
            "====== WebDriver manager ======\n",
            "Current google-chrome version is 100.0.4896\n",
            "Get LATEST chromedriver version for 100.0.4896 google-chrome\n",
            "Driver [C:\\Users\\ynk99\\.wdm\\drivers\\chromedriver\\win32\\100.0.4896.60\\chromedriver.exe] found in cache\n"
          ]
        },
        {
          "name": "stdout",
          "output_type": "stream",
          "text": [
            "319 32 7\n",
            "step1 loop\n",
            "step 마지막 loop\n"
          ]
        },
        {
          "name": "stderr",
          "output_type": "stream",
          "text": [
            "\n",
            "\n",
            "====== WebDriver manager ======\n",
            "Current google-chrome version is 100.0.4896\n",
            "Get LATEST chromedriver version for 100.0.4896 google-chrome\n",
            "Driver [C:\\Users\\ynk99\\.wdm\\drivers\\chromedriver\\win32\\100.0.4896.60\\chromedriver.exe] found in cache\n"
          ]
        },
        {
          "name": "stdout",
          "output_type": "stream",
          "text": [
            "23 3 1\n",
            "step1 loop\n"
          ]
        },
        {
          "name": "stderr",
          "output_type": "stream",
          "text": [
            "\n",
            "\n",
            "====== WebDriver manager ======\n",
            "Current google-chrome version is 100.0.4896\n",
            "Get LATEST chromedriver version for 100.0.4896 google-chrome\n",
            "Driver [C:\\Users\\ynk99\\.wdm\\drivers\\chromedriver\\win32\\100.0.4896.60\\chromedriver.exe] found in cache\n"
          ]
        },
        {
          "name": "stdout",
          "output_type": "stream",
          "text": [
            "360 37 8\n",
            "step1 loop\n"
          ]
        },
        {
          "name": "stderr",
          "output_type": "stream",
          "text": [
            "\n",
            "\n",
            "====== WebDriver manager ======\n"
          ]
        },
        {
          "name": "stdout",
          "output_type": "stream",
          "text": [
            "step 마지막 loop\n"
          ]
        },
        {
          "name": "stderr",
          "output_type": "stream",
          "text": [
            "Current google-chrome version is 100.0.4896\n",
            "Get LATEST chromedriver version for 100.0.4896 google-chrome\n",
            "Driver [C:\\Users\\ynk99\\.wdm\\drivers\\chromedriver\\win32\\100.0.4896.60\\chromedriver.exe] found in cache\n"
          ]
        },
        {
          "name": "stdout",
          "output_type": "stream",
          "text": [
            "43 5 1\n",
            "step1 loop\n"
          ]
        },
        {
          "name": "stderr",
          "output_type": "stream",
          "text": [
            "\n",
            "\n",
            "====== WebDriver manager ======\n",
            "Current google-chrome version is 100.0.4896\n",
            "Get LATEST chromedriver version for 100.0.4896 google-chrome\n",
            "Driver [C:\\Users\\ynk99\\.wdm\\drivers\\chromedriver\\win32\\100.0.4896.60\\chromedriver.exe] found in cache\n"
          ]
        },
        {
          "name": "stdout",
          "output_type": "stream",
          "text": [
            "18 2 1\n",
            "step1 loop\n"
          ]
        },
        {
          "name": "stderr",
          "output_type": "stream",
          "text": [
            "\n",
            "\n",
            "====== WebDriver manager ======\n",
            "Current google-chrome version is 100.0.4896\n",
            "Get LATEST chromedriver version for 100.0.4896 google-chrome\n",
            "Driver [C:\\Users\\ynk99\\.wdm\\drivers\\chromedriver\\win32\\100.0.4896.60\\chromedriver.exe] found in cache\n"
          ]
        },
        {
          "name": "stdout",
          "output_type": "stream",
          "text": [
            "110 12 3\n",
            "step1 loop\n",
            "step 마지막 loop\n"
          ]
        },
        {
          "name": "stderr",
          "output_type": "stream",
          "text": [
            "\n",
            "\n",
            "====== WebDriver manager ======\n",
            "Current google-chrome version is 100.0.4896\n",
            "Get LATEST chromedriver version for 100.0.4896 google-chrome\n",
            "Driver [C:\\Users\\ynk99\\.wdm\\drivers\\chromedriver\\win32\\100.0.4896.60\\chromedriver.exe] found in cache\n"
          ]
        },
        {
          "name": "stdout",
          "output_type": "stream",
          "text": [
            "3 1 1\n",
            "step1 loop\n"
          ]
        },
        {
          "name": "stderr",
          "output_type": "stream",
          "text": [
            "\n",
            "\n",
            "====== WebDriver manager ======\n",
            "Current google-chrome version is 100.0.4896\n",
            "Get LATEST chromedriver version for 100.0.4896 google-chrome\n",
            "Driver [C:\\Users\\ynk99\\.wdm\\drivers\\chromedriver\\win32\\100.0.4896.60\\chromedriver.exe] found in cache\n"
          ]
        },
        {
          "name": "stdout",
          "output_type": "stream",
          "text": [
            "115 12 3\n",
            "step1 loop\n",
            "step 마지막 loop\n"
          ]
        },
        {
          "name": "stderr",
          "output_type": "stream",
          "text": [
            "\n",
            "\n",
            "====== WebDriver manager ======\n",
            "Current google-chrome version is 100.0.4896\n",
            "Get LATEST chromedriver version for 100.0.4896 google-chrome\n",
            "Driver [C:\\Users\\ynk99\\.wdm\\drivers\\chromedriver\\win32\\100.0.4896.60\\chromedriver.exe] found in cache\n",
            "\n",
            "\n"
          ]
        },
        {
          "name": "stdout",
          "output_type": "stream",
          "text": [
            "3 1 1\n",
            "step1 loop\n"
          ]
        },
        {
          "name": "stderr",
          "output_type": "stream",
          "text": [
            "====== WebDriver manager ======\n",
            "Current google-chrome version is 100.0.4896\n",
            "Get LATEST chromedriver version for 100.0.4896 google-chrome\n",
            "Driver [C:\\Users\\ynk99\\.wdm\\drivers\\chromedriver\\win32\\100.0.4896.60\\chromedriver.exe] found in cache\n",
            "\n",
            "\n"
          ]
        },
        {
          "name": "stdout",
          "output_type": "stream",
          "text": [
            "2 1 1\n",
            "step1 loop\n"
          ]
        },
        {
          "name": "stderr",
          "output_type": "stream",
          "text": [
            "====== WebDriver manager ======\n",
            "Current google-chrome version is 100.0.4896\n",
            "Get LATEST chromedriver version for 100.0.4896 google-chrome\n",
            "Driver [C:\\Users\\ynk99\\.wdm\\drivers\\chromedriver\\win32\\100.0.4896.60\\chromedriver.exe] found in cache\n"
          ]
        },
        {
          "name": "stdout",
          "output_type": "stream",
          "text": [
            "623 63 13\n",
            "step1 loop\n",
            "step 마지막 loop\n"
          ]
        },
        {
          "name": "stderr",
          "output_type": "stream",
          "text": [
            "\n",
            "\n",
            "====== WebDriver manager ======\n",
            "Current google-chrome version is 100.0.4896\n",
            "Get LATEST chromedriver version for 100.0.4896 google-chrome\n",
            "Driver [C:\\Users\\ynk99\\.wdm\\drivers\\chromedriver\\win32\\100.0.4896.60\\chromedriver.exe] found in cache\n"
          ]
        },
        {
          "name": "stdout",
          "output_type": "stream",
          "text": [
            "605 61 13\n",
            "step1 loop\n"
          ]
        },
        {
          "name": "stderr",
          "output_type": "stream",
          "text": [
            "\n",
            "\n",
            "====== WebDriver manager ======\n"
          ]
        },
        {
          "name": "stdout",
          "output_type": "stream",
          "text": [
            "step 마지막 loop\n"
          ]
        },
        {
          "name": "stderr",
          "output_type": "stream",
          "text": [
            "Current google-chrome version is 100.0.4896\n",
            "Get LATEST chromedriver version for 100.0.4896 google-chrome\n",
            "Driver [C:\\Users\\ynk99\\.wdm\\drivers\\chromedriver\\win32\\100.0.4896.60\\chromedriver.exe] found in cache\n"
          ]
        },
        {
          "name": "stdout",
          "output_type": "stream",
          "text": [
            "834 84 17\n",
            "step1 loop\n",
            "step 마지막 loop\n"
          ]
        },
        {
          "name": "stderr",
          "output_type": "stream",
          "text": [
            "\n",
            "\n",
            "====== WebDriver manager ======\n",
            "Current google-chrome version is 100.0.4896\n",
            "Get LATEST chromedriver version for 100.0.4896 google-chrome\n",
            "Driver [C:\\Users\\ynk99\\.wdm\\drivers\\chromedriver\\win32\\100.0.4896.60\\chromedriver.exe] found in cache\n"
          ]
        },
        {
          "name": "stdout",
          "output_type": "stream",
          "text": [
            "84 9 2\n",
            "step1 loop\n",
            "step 마지막 loop\n"
          ]
        },
        {
          "name": "stderr",
          "output_type": "stream",
          "text": [
            "\n",
            "\n",
            "====== WebDriver manager ======\n",
            "Current google-chrome version is 100.0.4896\n",
            "Get LATEST chromedriver version for 100.0.4896 google-chrome\n",
            "Driver [C:\\Users\\ynk99\\.wdm\\drivers\\chromedriver\\win32\\100.0.4896.60\\chromedriver.exe] found in cache\n"
          ]
        },
        {
          "name": "stdout",
          "output_type": "stream",
          "text": [
            "373 38 8\n",
            "step1 loop\n",
            "step 마지막 loop\n"
          ]
        },
        {
          "name": "stderr",
          "output_type": "stream",
          "text": [
            "\n",
            "\n",
            "====== WebDriver manager ======\n",
            "Current google-chrome version is 100.0.4896\n",
            "Get LATEST chromedriver version for 100.0.4896 google-chrome\n",
            "Driver [C:\\Users\\ynk99\\.wdm\\drivers\\chromedriver\\win32\\100.0.4896.60\\chromedriver.exe] found in cache\n"
          ]
        },
        {
          "name": "stdout",
          "output_type": "stream",
          "text": [
            "433 44 9\n",
            "step1 loop\n",
            "step 마지막 loop\n"
          ]
        },
        {
          "name": "stderr",
          "output_type": "stream",
          "text": [
            "\n",
            "\n",
            "====== WebDriver manager ======\n",
            "Current google-chrome version is 100.0.4896\n",
            "Get LATEST chromedriver version for 100.0.4896 google-chrome\n",
            "Driver [C:\\Users\\ynk99\\.wdm\\drivers\\chromedriver\\win32\\100.0.4896.60\\chromedriver.exe] found in cache\n"
          ]
        },
        {
          "name": "stdout",
          "output_type": "stream",
          "text": [
            "362 37 8\n",
            "step1 loop\n",
            "step 마지막 loop\n"
          ]
        },
        {
          "name": "stderr",
          "output_type": "stream",
          "text": [
            "\n",
            "\n",
            "====== WebDriver manager ======\n",
            "Current google-chrome version is 100.0.4896\n",
            "Get LATEST chromedriver version for 100.0.4896 google-chrome\n",
            "Driver [C:\\Users\\ynk99\\.wdm\\drivers\\chromedriver\\win32\\100.0.4896.60\\chromedriver.exe] found in cache\n"
          ]
        },
        {
          "name": "stdout",
          "output_type": "stream",
          "text": [
            "140 15 3\n",
            "step1 loop\n",
            "step 마지막 loop\n"
          ]
        },
        {
          "name": "stderr",
          "output_type": "stream",
          "text": [
            "\n",
            "\n",
            "====== WebDriver manager ======\n",
            "Current google-chrome version is 100.0.4896\n",
            "Get LATEST chromedriver version for 100.0.4896 google-chrome\n",
            "Driver [C:\\Users\\ynk99\\.wdm\\drivers\\chromedriver\\win32\\100.0.4896.60\\chromedriver.exe] found in cache\n"
          ]
        },
        {
          "name": "stdout",
          "output_type": "stream",
          "text": [
            "98 10 2\n",
            "step1 loop\n",
            "step 마지막 loop\n"
          ]
        },
        {
          "name": "stderr",
          "output_type": "stream",
          "text": [
            "\n",
            "\n",
            "====== WebDriver manager ======\n",
            "Current google-chrome version is 100.0.4896\n",
            "Get LATEST chromedriver version for 100.0.4896 google-chrome\n",
            "Driver [C:\\Users\\ynk99\\.wdm\\drivers\\chromedriver\\win32\\100.0.4896.60\\chromedriver.exe] found in cache\n"
          ]
        },
        {
          "name": "stdout",
          "output_type": "stream",
          "text": [
            "78 8 2\n",
            "step1 loop\n",
            "step 마지막 loop\n"
          ]
        },
        {
          "name": "stderr",
          "output_type": "stream",
          "text": [
            "\n",
            "\n",
            "====== WebDriver manager ======\n",
            "Current google-chrome version is 100.0.4896\n",
            "Get LATEST chromedriver version for 100.0.4896 google-chrome\n",
            "Driver [C:\\Users\\ynk99\\.wdm\\drivers\\chromedriver\\win32\\100.0.4896.60\\chromedriver.exe] found in cache\n"
          ]
        },
        {
          "name": "stdout",
          "output_type": "stream",
          "text": [
            "895 90 18\n",
            "step1 loop\n",
            "step 마지막 loop\n"
          ]
        },
        {
          "name": "stderr",
          "output_type": "stream",
          "text": [
            "\n",
            "\n",
            "====== WebDriver manager ======\n",
            "Current google-chrome version is 100.0.4896\n",
            "Get LATEST chromedriver version for 100.0.4896 google-chrome\n",
            "Driver [C:\\Users\\ynk99\\.wdm\\drivers\\chromedriver\\win32\\100.0.4896.60\\chromedriver.exe] found in cache\n"
          ]
        },
        {
          "name": "stdout",
          "output_type": "stream",
          "text": [
            "991 100 20\n",
            "step1 loop\n",
            "step 마지막 loop\n"
          ]
        },
        {
          "name": "stderr",
          "output_type": "stream",
          "text": [
            "\n",
            "\n",
            "====== WebDriver manager ======\n",
            "Current google-chrome version is 100.0.4896\n",
            "Get LATEST chromedriver version for 100.0.4896 google-chrome\n",
            "Driver [C:\\Users\\ynk99\\.wdm\\drivers\\chromedriver\\win32\\100.0.4896.60\\chromedriver.exe] found in cache\n"
          ]
        },
        {
          "name": "stdout",
          "output_type": "stream",
          "text": [
            "636 64 13\n",
            "step1 loop\n",
            "step 마지막 loop\n"
          ]
        },
        {
          "name": "stderr",
          "output_type": "stream",
          "text": [
            "\n",
            "\n",
            "====== WebDriver manager ======\n",
            "Current google-chrome version is 100.0.4896\n",
            "Get LATEST chromedriver version for 100.0.4896 google-chrome\n",
            "Driver [C:\\Users\\ynk99\\.wdm\\drivers\\chromedriver\\win32\\100.0.4896.60\\chromedriver.exe] found in cache\n"
          ]
        },
        {
          "name": "stdout",
          "output_type": "stream",
          "text": [
            "811 82 17\n",
            "step1 loop\n",
            "step 마지막 loop\n"
          ]
        },
        {
          "name": "stderr",
          "output_type": "stream",
          "text": [
            "\n",
            "\n",
            "====== WebDriver manager ======\n",
            "Current google-chrome version is 100.0.4896\n",
            "Get LATEST chromedriver version for 100.0.4896 google-chrome\n",
            "Driver [C:\\Users\\ynk99\\.wdm\\drivers\\chromedriver\\win32\\100.0.4896.60\\chromedriver.exe] found in cache\n"
          ]
        },
        {
          "name": "stdout",
          "output_type": "stream",
          "text": [
            "2250 226 46\n",
            "step1 loop\n"
          ]
        },
        {
          "name": "stderr",
          "output_type": "stream",
          "text": [
            "\n",
            "\n",
            "====== WebDriver manager ======\n",
            "Current google-chrome version is 100.0.4896\n",
            "Get LATEST chromedriver version for 100.0.4896 google-chrome\n",
            "Driver [C:\\Users\\ynk99\\.wdm\\drivers\\chromedriver\\win32\\100.0.4896.60\\chromedriver.exe] found in cache\n"
          ]
        },
        {
          "name": "stdout",
          "output_type": "stream",
          "text": [
            "1152 116 24\n",
            "step1 loop\n",
            "step 마지막 loop\n"
          ]
        },
        {
          "name": "stderr",
          "output_type": "stream",
          "text": [
            "\n",
            "\n",
            "====== WebDriver manager ======\n",
            "Current google-chrome version is 100.0.4896\n",
            "Get LATEST chromedriver version for 100.0.4896 google-chrome\n",
            "Driver [C:\\Users\\ynk99\\.wdm\\drivers\\chromedriver\\win32\\100.0.4896.60\\chromedriver.exe] found in cache\n"
          ]
        },
        {
          "name": "stdout",
          "output_type": "stream",
          "text": [
            "882 89 18\n",
            "step1 loop\n",
            "step 마지막 loop\n"
          ]
        },
        {
          "name": "stderr",
          "output_type": "stream",
          "text": [
            "\n",
            "\n",
            "====== WebDriver manager ======\n",
            "Current google-chrome version is 100.0.4896\n",
            "Get LATEST chromedriver version for 100.0.4896 google-chrome\n",
            "Driver [C:\\Users\\ynk99\\.wdm\\drivers\\chromedriver\\win32\\100.0.4896.60\\chromedriver.exe] found in cache\n"
          ]
        },
        {
          "name": "stdout",
          "output_type": "stream",
          "text": [
            "159 16 4\n",
            "step1 loop\n"
          ]
        },
        {
          "name": "stderr",
          "output_type": "stream",
          "text": [
            "\n",
            "\n"
          ]
        },
        {
          "name": "stdout",
          "output_type": "stream",
          "text": [
            "step 마지막 loop\n"
          ]
        },
        {
          "name": "stderr",
          "output_type": "stream",
          "text": [
            "====== WebDriver manager ======\n",
            "Current google-chrome version is 100.0.4896\n",
            "Get LATEST chromedriver version for 100.0.4896 google-chrome\n",
            "Driver [C:\\Users\\ynk99\\.wdm\\drivers\\chromedriver\\win32\\100.0.4896.60\\chromedriver.exe] found in cache\n"
          ]
        },
        {
          "name": "stdout",
          "output_type": "stream",
          "text": [
            "215 22 5\n",
            "step1 loop\n",
            "step 마지막 loop\n"
          ]
        },
        {
          "name": "stderr",
          "output_type": "stream",
          "text": [
            "\n",
            "\n",
            "====== WebDriver manager ======\n",
            "Current google-chrome version is 100.0.4896\n",
            "Get LATEST chromedriver version for 100.0.4896 google-chrome\n",
            "Driver [C:\\Users\\ynk99\\.wdm\\drivers\\chromedriver\\win32\\100.0.4896.60\\chromedriver.exe] found in cache\n"
          ]
        },
        {
          "name": "stdout",
          "output_type": "stream",
          "text": [
            "85 9 2\n",
            "step1 loop\n",
            "step 마지막 loop\n"
          ]
        },
        {
          "name": "stderr",
          "output_type": "stream",
          "text": [
            "\n",
            "\n",
            "====== WebDriver manager ======\n",
            "Current google-chrome version is 100.0.4896\n",
            "Get LATEST chromedriver version for 100.0.4896 google-chrome\n",
            "Driver [C:\\Users\\ynk99\\.wdm\\drivers\\chromedriver\\win32\\100.0.4896.60\\chromedriver.exe] found in cache\n"
          ]
        },
        {
          "name": "stdout",
          "output_type": "stream",
          "text": [
            "508 51 11\n",
            "step1 loop\n",
            "step 마지막 loop\n"
          ]
        },
        {
          "name": "stderr",
          "output_type": "stream",
          "text": [
            "\n",
            "\n",
            "====== WebDriver manager ======\n",
            "Current google-chrome version is 100.0.4896\n",
            "Get LATEST chromedriver version for 100.0.4896 google-chrome\n",
            "Driver [C:\\Users\\ynk99\\.wdm\\drivers\\chromedriver\\win32\\100.0.4896.60\\chromedriver.exe] found in cache\n"
          ]
        },
        {
          "name": "stdout",
          "output_type": "stream",
          "text": [
            "529 53 11\n",
            "step1 loop\n",
            "step 마지막 loop\n"
          ]
        },
        {
          "name": "stderr",
          "output_type": "stream",
          "text": [
            "\n",
            "\n",
            "====== WebDriver manager ======\n",
            "Current google-chrome version is 100.0.4896\n",
            "Get LATEST chromedriver version for 100.0.4896 google-chrome\n",
            "Driver [C:\\Users\\ynk99\\.wdm\\drivers\\chromedriver\\win32\\100.0.4896.60\\chromedriver.exe] found in cache\n"
          ]
        },
        {
          "name": "stdout",
          "output_type": "stream",
          "text": [
            "741 75 15\n",
            "step1 loop\n",
            "step 마지막 loop\n"
          ]
        },
        {
          "name": "stderr",
          "output_type": "stream",
          "text": [
            "\n",
            "\n",
            "====== WebDriver manager ======\n",
            "Current google-chrome version is 100.0.4896\n",
            "Get LATEST chromedriver version for 100.0.4896 google-chrome\n",
            "Driver [C:\\Users\\ynk99\\.wdm\\drivers\\chromedriver\\win32\\100.0.4896.60\\chromedriver.exe] found in cache\n"
          ]
        },
        {
          "name": "stdout",
          "output_type": "stream",
          "text": [
            "410 42 9\n",
            "step1 loop\n",
            "step 마지막 loop\n"
          ]
        },
        {
          "name": "stderr",
          "output_type": "stream",
          "text": [
            "\n",
            "\n",
            "====== WebDriver manager ======\n",
            "Current google-chrome version is 100.0.4896\n",
            "Get LATEST chromedriver version for 100.0.4896 google-chrome\n",
            "Driver [C:\\Users\\ynk99\\.wdm\\drivers\\chromedriver\\win32\\100.0.4896.60\\chromedriver.exe] found in cache\n"
          ]
        },
        {
          "name": "stdout",
          "output_type": "stream",
          "text": [
            "215 22 5\n",
            "step1 loop\n",
            "step 마지막 loop\n"
          ]
        },
        {
          "name": "stderr",
          "output_type": "stream",
          "text": [
            "\n",
            "\n",
            "====== WebDriver manager ======\n",
            "Current google-chrome version is 100.0.4896\n",
            "Get LATEST chromedriver version for 100.0.4896 google-chrome\n",
            "Driver [C:\\Users\\ynk99\\.wdm\\drivers\\chromedriver\\win32\\100.0.4896.60\\chromedriver.exe] found in cache\n"
          ]
        },
        {
          "name": "stdout",
          "output_type": "stream",
          "text": [
            "1526 153 31\n",
            "step1 loop\n",
            "step 마지막 loop\n"
          ]
        },
        {
          "name": "stderr",
          "output_type": "stream",
          "text": [
            "\n",
            "\n",
            "====== WebDriver manager ======\n",
            "Current google-chrome version is 100.0.4896\n",
            "Get LATEST chromedriver version for 100.0.4896 google-chrome\n",
            "Driver [C:\\Users\\ynk99\\.wdm\\drivers\\chromedriver\\win32\\100.0.4896.60\\chromedriver.exe] found in cache\n"
          ]
        },
        {
          "name": "stdout",
          "output_type": "stream",
          "text": [
            "686 69 14\n",
            "step1 loop\n",
            "step 마지막 loop\n"
          ]
        },
        {
          "name": "stderr",
          "output_type": "stream",
          "text": [
            "\n",
            "\n",
            "====== WebDriver manager ======\n",
            "Current google-chrome version is 100.0.4896\n",
            "Get LATEST chromedriver version for 100.0.4896 google-chrome\n",
            "Driver [C:\\Users\\ynk99\\.wdm\\drivers\\chromedriver\\win32\\100.0.4896.60\\chromedriver.exe] found in cache\n"
          ]
        },
        {
          "name": "stdout",
          "output_type": "stream",
          "text": [
            "194 20 4\n",
            "step1 loop\n",
            "step 마지막 loop\n"
          ]
        },
        {
          "name": "stderr",
          "output_type": "stream",
          "text": [
            "\n",
            "\n",
            "====== WebDriver manager ======\n",
            "Current google-chrome version is 100.0.4896\n",
            "Get LATEST chromedriver version for 100.0.4896 google-chrome\n",
            "Driver [C:\\Users\\ynk99\\.wdm\\drivers\\chromedriver\\win32\\100.0.4896.60\\chromedriver.exe] found in cache\n"
          ]
        },
        {
          "name": "stdout",
          "output_type": "stream",
          "text": [
            "1379 138 28\n",
            "step1 loop\n",
            "step 마지막 loop\n"
          ]
        },
        {
          "name": "stderr",
          "output_type": "stream",
          "text": [
            "\n",
            "\n",
            "====== WebDriver manager ======\n",
            "Current google-chrome version is 100.0.4896\n",
            "Get LATEST chromedriver version for 100.0.4896 google-chrome\n",
            "Driver [C:\\Users\\ynk99\\.wdm\\drivers\\chromedriver\\win32\\100.0.4896.60\\chromedriver.exe] found in cache\n"
          ]
        },
        {
          "name": "stdout",
          "output_type": "stream",
          "text": [
            "362 37 8\n",
            "step1 loop\n",
            "step 마지막 loop\n"
          ]
        },
        {
          "name": "stderr",
          "output_type": "stream",
          "text": [
            "\n",
            "\n",
            "====== WebDriver manager ======\n",
            "Current google-chrome version is 100.0.4896\n",
            "Get LATEST chromedriver version for 100.0.4896 google-chrome\n",
            "Driver [C:\\Users\\ynk99\\.wdm\\drivers\\chromedriver\\win32\\100.0.4896.60\\chromedriver.exe] found in cache\n"
          ]
        },
        {
          "name": "stdout",
          "output_type": "stream",
          "text": [
            "546 55 11\n",
            "step1 loop\n",
            "step 마지막 loop\n"
          ]
        },
        {
          "name": "stderr",
          "output_type": "stream",
          "text": [
            "\n",
            "\n",
            "====== WebDriver manager ======\n",
            "Current google-chrome version is 100.0.4896\n",
            "Get LATEST chromedriver version for 100.0.4896 google-chrome\n",
            "Driver [C:\\Users\\ynk99\\.wdm\\drivers\\chromedriver\\win32\\100.0.4896.60\\chromedriver.exe] found in cache\n"
          ]
        },
        {
          "name": "stdout",
          "output_type": "stream",
          "text": [
            "338 34 7\n",
            "step1 loop\n",
            "step 마지막 loop\n"
          ]
        },
        {
          "name": "stderr",
          "output_type": "stream",
          "text": [
            "\n",
            "\n",
            "====== WebDriver manager ======\n",
            "Current google-chrome version is 100.0.4896\n",
            "Get LATEST chromedriver version for 100.0.4896 google-chrome\n",
            "Driver [C:\\Users\\ynk99\\.wdm\\drivers\\chromedriver\\win32\\100.0.4896.60\\chromedriver.exe] found in cache\n"
          ]
        },
        {
          "name": "stdout",
          "output_type": "stream",
          "text": [
            "156 16 4\n",
            "step1 loop\n"
          ]
        },
        {
          "name": "stderr",
          "output_type": "stream",
          "text": [
            "\n",
            "\n"
          ]
        },
        {
          "name": "stdout",
          "output_type": "stream",
          "text": [
            "step 마지막 loop\n"
          ]
        },
        {
          "name": "stderr",
          "output_type": "stream",
          "text": [
            "====== WebDriver manager ======\n",
            "Current google-chrome version is 100.0.4896\n",
            "Get LATEST chromedriver version for 100.0.4896 google-chrome\n",
            "Driver [C:\\Users\\ynk99\\.wdm\\drivers\\chromedriver\\win32\\100.0.4896.60\\chromedriver.exe] found in cache\n"
          ]
        },
        {
          "name": "stdout",
          "output_type": "stream",
          "text": [
            "61 7 2\n",
            "step1 loop\n",
            "step 마지막 loop\n"
          ]
        },
        {
          "name": "stderr",
          "output_type": "stream",
          "text": [
            "\n",
            "\n",
            "====== WebDriver manager ======\n",
            "Current google-chrome version is 100.0.4896\n",
            "Get LATEST chromedriver version for 100.0.4896 google-chrome\n",
            "Driver [C:\\Users\\ynk99\\.wdm\\drivers\\chromedriver\\win32\\100.0.4896.60\\chromedriver.exe] found in cache\n"
          ]
        },
        {
          "name": "stdout",
          "output_type": "stream",
          "text": [
            "710 72 15\n",
            "step1 loop\n"
          ]
        },
        {
          "name": "stderr",
          "output_type": "stream",
          "text": [
            "\n",
            "\n",
            "====== WebDriver manager ======\n"
          ]
        },
        {
          "name": "stdout",
          "output_type": "stream",
          "text": [
            "step 마지막 loop\n"
          ]
        },
        {
          "name": "stderr",
          "output_type": "stream",
          "text": [
            "Current google-chrome version is 100.0.4896\n",
            "Get LATEST chromedriver version for 100.0.4896 google-chrome\n",
            "Driver [C:\\Users\\ynk99\\.wdm\\drivers\\chromedriver\\win32\\100.0.4896.60\\chromedriver.exe] found in cache\n"
          ]
        },
        {
          "name": "stdout",
          "output_type": "stream",
          "text": [
            "336 34 7\n",
            "step1 loop\n",
            "step 마지막 loop\n"
          ]
        },
        {
          "name": "stderr",
          "output_type": "stream",
          "text": [
            "\n",
            "\n",
            "====== WebDriver manager ======\n",
            "Current google-chrome version is 100.0.4896\n",
            "Get LATEST chromedriver version for 100.0.4896 google-chrome\n",
            "Driver [C:\\Users\\ynk99\\.wdm\\drivers\\chromedriver\\win32\\100.0.4896.60\\chromedriver.exe] found in cache\n"
          ]
        },
        {
          "name": "stdout",
          "output_type": "stream",
          "text": [
            "331 34 7\n",
            "step1 loop\n",
            "step 마지막 loop\n"
          ]
        },
        {
          "name": "stderr",
          "output_type": "stream",
          "text": [
            "\n",
            "\n",
            "====== WebDriver manager ======\n",
            "Current google-chrome version is 100.0.4896\n",
            "Get LATEST chromedriver version for 100.0.4896 google-chrome\n",
            "Driver [C:\\Users\\ynk99\\.wdm\\drivers\\chromedriver\\win32\\100.0.4896.60\\chromedriver.exe] found in cache\n"
          ]
        },
        {
          "name": "stdout",
          "output_type": "stream",
          "text": [
            "548 55 11\n",
            "step1 loop\n",
            "step 마지막 loop\n"
          ]
        },
        {
          "name": "stderr",
          "output_type": "stream",
          "text": [
            "\n",
            "\n",
            "====== WebDriver manager ======\n",
            "Current google-chrome version is 100.0.4896\n",
            "Get LATEST chromedriver version for 100.0.4896 google-chrome\n",
            "Driver [C:\\Users\\ynk99\\.wdm\\drivers\\chromedriver\\win32\\100.0.4896.60\\chromedriver.exe] found in cache\n"
          ]
        },
        {
          "name": "stdout",
          "output_type": "stream",
          "text": [
            "377 38 8\n",
            "step1 loop\n",
            "step 마지막 loop\n"
          ]
        },
        {
          "name": "stderr",
          "output_type": "stream",
          "text": [
            "\n",
            "\n",
            "====== WebDriver manager ======\n",
            "Current google-chrome version is 100.0.4896\n",
            "Get LATEST chromedriver version for 100.0.4896 google-chrome\n",
            "Driver [C:\\Users\\ynk99\\.wdm\\drivers\\chromedriver\\win32\\100.0.4896.60\\chromedriver.exe] found in cache\n"
          ]
        },
        {
          "name": "stdout",
          "output_type": "stream",
          "text": [
            "274 28 6\n",
            "step1 loop\n",
            "step 마지막 loop\n"
          ]
        },
        {
          "name": "stderr",
          "output_type": "stream",
          "text": [
            "\n",
            "\n",
            "====== WebDriver manager ======\n",
            "Current google-chrome version is 100.0.4896\n",
            "Get LATEST chromedriver version for 100.0.4896 google-chrome\n",
            "Driver [C:\\Users\\ynk99\\.wdm\\drivers\\chromedriver\\win32\\100.0.4896.60\\chromedriver.exe] found in cache\n"
          ]
        },
        {
          "name": "stdout",
          "output_type": "stream",
          "text": [
            "64 7 2\n",
            "step1 loop\n",
            "step 마지막 loop\n"
          ]
        },
        {
          "name": "stderr",
          "output_type": "stream",
          "text": [
            "\n",
            "\n",
            "====== WebDriver manager ======\n",
            "Current google-chrome version is 100.0.4896\n",
            "Get LATEST chromedriver version for 100.0.4896 google-chrome\n",
            "Driver [C:\\Users\\ynk99\\.wdm\\drivers\\chromedriver\\win32\\100.0.4896.60\\chromedriver.exe] found in cache\n"
          ]
        },
        {
          "name": "stdout",
          "output_type": "stream",
          "text": [
            "139 14 3\n",
            "step1 loop\n",
            "step 마지막 loop\n"
          ]
        },
        {
          "name": "stderr",
          "output_type": "stream",
          "text": [
            "\n",
            "\n",
            "====== WebDriver manager ======\n",
            "Current google-chrome version is 100.0.4896\n",
            "Get LATEST chromedriver version for 100.0.4896 google-chrome\n",
            "Driver [C:\\Users\\ynk99\\.wdm\\drivers\\chromedriver\\win32\\100.0.4896.60\\chromedriver.exe] found in cache\n"
          ]
        },
        {
          "name": "stdout",
          "output_type": "stream",
          "text": [
            "644 65 13\n",
            "step1 loop\n",
            "step 마지막 loop\n"
          ]
        },
        {
          "name": "stderr",
          "output_type": "stream",
          "text": [
            "\n",
            "\n",
            "====== WebDriver manager ======\n",
            "Current google-chrome version is 100.0.4896\n",
            "Get LATEST chromedriver version for 100.0.4896 google-chrome\n",
            "Driver [C:\\Users\\ynk99\\.wdm\\drivers\\chromedriver\\win32\\100.0.4896.60\\chromedriver.exe] found in cache\n"
          ]
        },
        {
          "name": "stdout",
          "output_type": "stream",
          "text": [
            "937 94 19\n",
            "step1 loop\n",
            "step 마지막 loop\n"
          ]
        },
        {
          "name": "stderr",
          "output_type": "stream",
          "text": [
            "\n",
            "\n",
            "====== WebDriver manager ======\n",
            "Current google-chrome version is 100.0.4896\n",
            "Get LATEST chromedriver version for 100.0.4896 google-chrome\n",
            "Driver [C:\\Users\\ynk99\\.wdm\\drivers\\chromedriver\\win32\\100.0.4896.60\\chromedriver.exe] found in cache\n"
          ]
        },
        {
          "name": "stdout",
          "output_type": "stream",
          "text": [
            "298 30 6\n",
            "step1 loop\n",
            "step 마지막 loop\n"
          ]
        },
        {
          "name": "stderr",
          "output_type": "stream",
          "text": [
            "\n",
            "\n",
            "====== WebDriver manager ======\n",
            "Current google-chrome version is 100.0.4896\n",
            "Get LATEST chromedriver version for 100.0.4896 google-chrome\n",
            "Driver [C:\\Users\\ynk99\\.wdm\\drivers\\chromedriver\\win32\\100.0.4896.60\\chromedriver.exe] found in cache\n"
          ]
        },
        {
          "name": "stdout",
          "output_type": "stream",
          "text": [
            "326 33 7\n",
            "step1 loop\n",
            "step 마지막 loop\n"
          ]
        },
        {
          "name": "stderr",
          "output_type": "stream",
          "text": [
            "\n",
            "\n",
            "====== WebDriver manager ======\n",
            "Current google-chrome version is 100.0.4896\n",
            "Get LATEST chromedriver version for 100.0.4896 google-chrome\n",
            "Driver [C:\\Users\\ynk99\\.wdm\\drivers\\chromedriver\\win32\\100.0.4896.60\\chromedriver.exe] found in cache\n"
          ]
        },
        {
          "name": "stdout",
          "output_type": "stream",
          "text": [
            "319 32 7\n",
            "step1 loop\n",
            "step 마지막 loop\n"
          ]
        },
        {
          "name": "stderr",
          "output_type": "stream",
          "text": [
            "\n",
            "\n",
            "====== WebDriver manager ======\n",
            "Current google-chrome version is 100.0.4896\n",
            "Get LATEST chromedriver version for 100.0.4896 google-chrome\n",
            "Driver [C:\\Users\\ynk99\\.wdm\\drivers\\chromedriver\\win32\\100.0.4896.60\\chromedriver.exe] found in cache\n"
          ]
        },
        {
          "name": "stdout",
          "output_type": "stream",
          "text": [
            "23 3 1\n",
            "step1 loop\n"
          ]
        },
        {
          "name": "stderr",
          "output_type": "stream",
          "text": [
            "\n",
            "\n",
            "====== WebDriver manager ======\n",
            "Current google-chrome version is 100.0.4896\n",
            "Get LATEST chromedriver version for 100.0.4896 google-chrome\n",
            "Driver [C:\\Users\\ynk99\\.wdm\\drivers\\chromedriver\\win32\\100.0.4896.60\\chromedriver.exe] found in cache\n"
          ]
        },
        {
          "name": "stdout",
          "output_type": "stream",
          "text": [
            "360 37 8\n",
            "step1 loop\n"
          ]
        },
        {
          "name": "stderr",
          "output_type": "stream",
          "text": [
            "\n",
            "\n",
            "====== WebDriver manager ======\n"
          ]
        },
        {
          "name": "stdout",
          "output_type": "stream",
          "text": [
            "step 마지막 loop\n"
          ]
        },
        {
          "name": "stderr",
          "output_type": "stream",
          "text": [
            "Current google-chrome version is 100.0.4896\n",
            "Get LATEST chromedriver version for 100.0.4896 google-chrome\n",
            "Driver [C:\\Users\\ynk99\\.wdm\\drivers\\chromedriver\\win32\\100.0.4896.60\\chromedriver.exe] found in cache\n"
          ]
        },
        {
          "name": "stdout",
          "output_type": "stream",
          "text": [
            "43 5 1\n",
            "step1 loop\n"
          ]
        },
        {
          "name": "stderr",
          "output_type": "stream",
          "text": [
            "\n",
            "\n",
            "====== WebDriver manager ======\n",
            "Current google-chrome version is 100.0.4896\n",
            "Get LATEST chromedriver version for 100.0.4896 google-chrome\n",
            "Driver [C:\\Users\\ynk99\\.wdm\\drivers\\chromedriver\\win32\\100.0.4896.60\\chromedriver.exe] found in cache\n"
          ]
        },
        {
          "name": "stdout",
          "output_type": "stream",
          "text": [
            "18 2 1\n",
            "step1 loop\n"
          ]
        },
        {
          "name": "stderr",
          "output_type": "stream",
          "text": [
            "\n",
            "\n",
            "====== WebDriver manager ======\n",
            "Current google-chrome version is 100.0.4896\n",
            "Get LATEST chromedriver version for 100.0.4896 google-chrome\n",
            "Driver [C:\\Users\\ynk99\\.wdm\\drivers\\chromedriver\\win32\\100.0.4896.60\\chromedriver.exe] found in cache\n"
          ]
        },
        {
          "name": "stdout",
          "output_type": "stream",
          "text": [
            "110 12 3\n",
            "step1 loop\n",
            "step 마지막 loop\n"
          ]
        },
        {
          "name": "stderr",
          "output_type": "stream",
          "text": [
            "\n",
            "\n",
            "====== WebDriver manager ======\n",
            "Current google-chrome version is 100.0.4896\n",
            "Get LATEST chromedriver version for 100.0.4896 google-chrome\n",
            "Driver [C:\\Users\\ynk99\\.wdm\\drivers\\chromedriver\\win32\\100.0.4896.60\\chromedriver.exe] found in cache\n"
          ]
        },
        {
          "name": "stdout",
          "output_type": "stream",
          "text": [
            "3 1 1\n",
            "step1 loop\n"
          ]
        },
        {
          "name": "stderr",
          "output_type": "stream",
          "text": [
            "\n",
            "\n",
            "====== WebDriver manager ======\n",
            "Current google-chrome version is 100.0.4896\n",
            "Get LATEST chromedriver version for 100.0.4896 google-chrome\n",
            "Driver [C:\\Users\\ynk99\\.wdm\\drivers\\chromedriver\\win32\\100.0.4896.60\\chromedriver.exe] found in cache\n"
          ]
        },
        {
          "name": "stdout",
          "output_type": "stream",
          "text": [
            "115 12 3\n",
            "step1 loop\n",
            "step 마지막 loop\n"
          ]
        },
        {
          "name": "stderr",
          "output_type": "stream",
          "text": [
            "\n",
            "\n",
            "====== WebDriver manager ======\n",
            "Current google-chrome version is 100.0.4896\n",
            "Get LATEST chromedriver version for 100.0.4896 google-chrome\n",
            "Driver [C:\\Users\\ynk99\\.wdm\\drivers\\chromedriver\\win32\\100.0.4896.60\\chromedriver.exe] found in cache\n"
          ]
        },
        {
          "name": "stdout",
          "output_type": "stream",
          "text": [
            "3 1 1\n",
            "step1 loop\n"
          ]
        },
        {
          "name": "stderr",
          "output_type": "stream",
          "text": [
            "\n",
            "\n",
            "====== WebDriver manager ======\n",
            "Current google-chrome version is 100.0.4896\n",
            "Get LATEST chromedriver version for 100.0.4896 google-chrome\n",
            "Driver [C:\\Users\\ynk99\\.wdm\\drivers\\chromedriver\\win32\\100.0.4896.60\\chromedriver.exe] found in cache\n"
          ]
        },
        {
          "name": "stdout",
          "output_type": "stream",
          "text": [
            "2 1 1\n",
            "step1 loop\n"
          ]
        },
        {
          "name": "stderr",
          "output_type": "stream",
          "text": [
            "\n",
            "\n",
            "====== WebDriver manager ======\n",
            "Current google-chrome version is 100.0.4896\n",
            "Get LATEST chromedriver version for 100.0.4896 google-chrome\n",
            "Driver [C:\\Users\\ynk99\\.wdm\\drivers\\chromedriver\\win32\\100.0.4896.60\\chromedriver.exe] found in cache\n"
          ]
        },
        {
          "name": "stdout",
          "output_type": "stream",
          "text": [
            "623 63 13\n",
            "step1 loop\n",
            "step 마지막 loop\n"
          ]
        },
        {
          "name": "stderr",
          "output_type": "stream",
          "text": [
            "\n",
            "\n",
            "====== WebDriver manager ======\n",
            "Current google-chrome version is 100.0.4896\n",
            "Get LATEST chromedriver version for 100.0.4896 google-chrome\n",
            "Driver [C:\\Users\\ynk99\\.wdm\\drivers\\chromedriver\\win32\\100.0.4896.60\\chromedriver.exe] found in cache\n"
          ]
        },
        {
          "name": "stdout",
          "output_type": "stream",
          "text": [
            "605 61 13\n",
            "step1 loop\n"
          ]
        },
        {
          "name": "stderr",
          "output_type": "stream",
          "text": [
            "\n",
            "\n",
            "====== WebDriver manager ======\n"
          ]
        },
        {
          "name": "stdout",
          "output_type": "stream",
          "text": [
            "step 마지막 loop\n"
          ]
        },
        {
          "name": "stderr",
          "output_type": "stream",
          "text": [
            "Current google-chrome version is 100.0.4896\n",
            "Get LATEST chromedriver version for 100.0.4896 google-chrome\n",
            "Driver [C:\\Users\\ynk99\\.wdm\\drivers\\chromedriver\\win32\\100.0.4896.60\\chromedriver.exe] found in cache\n"
          ]
        },
        {
          "name": "stdout",
          "output_type": "stream",
          "text": [
            "834 84 17\n",
            "step1 loop\n",
            "step 마지막 loop\n"
          ]
        },
        {
          "name": "stderr",
          "output_type": "stream",
          "text": [
            "\n",
            "\n",
            "====== WebDriver manager ======\n",
            "Current google-chrome version is 100.0.4896\n",
            "Get LATEST chromedriver version for 100.0.4896 google-chrome\n",
            "Driver [C:\\Users\\ynk99\\.wdm\\drivers\\chromedriver\\win32\\100.0.4896.60\\chromedriver.exe] found in cache\n"
          ]
        },
        {
          "name": "stdout",
          "output_type": "stream",
          "text": [
            "84 9 2\n",
            "step1 loop\n",
            "step 마지막 loop\n"
          ]
        },
        {
          "name": "stderr",
          "output_type": "stream",
          "text": [
            "\n",
            "\n",
            "====== WebDriver manager ======\n",
            "Current google-chrome version is 100.0.4896\n",
            "Get LATEST chromedriver version for 100.0.4896 google-chrome\n",
            "Driver [C:\\Users\\ynk99\\.wdm\\drivers\\chromedriver\\win32\\100.0.4896.60\\chromedriver.exe] found in cache\n"
          ]
        },
        {
          "name": "stdout",
          "output_type": "stream",
          "text": [
            "373 38 8\n",
            "step1 loop\n",
            "step 마지막 loop\n"
          ]
        },
        {
          "name": "stderr",
          "output_type": "stream",
          "text": [
            "\n",
            "\n",
            "====== WebDriver manager ======\n",
            "Current google-chrome version is 100.0.4896\n",
            "Get LATEST chromedriver version for 100.0.4896 google-chrome\n",
            "Driver [C:\\Users\\ynk99\\.wdm\\drivers\\chromedriver\\win32\\100.0.4896.60\\chromedriver.exe] found in cache\n"
          ]
        },
        {
          "name": "stdout",
          "output_type": "stream",
          "text": [
            "433 44 9\n",
            "step1 loop\n",
            "step 마지막 loop\n"
          ]
        },
        {
          "name": "stderr",
          "output_type": "stream",
          "text": [
            "\n",
            "\n",
            "====== WebDriver manager ======\n",
            "Current google-chrome version is 100.0.4896\n",
            "Get LATEST chromedriver version for 100.0.4896 google-chrome\n",
            "Driver [C:\\Users\\ynk99\\.wdm\\drivers\\chromedriver\\win32\\100.0.4896.60\\chromedriver.exe] found in cache\n"
          ]
        },
        {
          "name": "stdout",
          "output_type": "stream",
          "text": [
            "362 37 8\n",
            "step1 loop\n",
            "step 마지막 loop\n"
          ]
        },
        {
          "name": "stderr",
          "output_type": "stream",
          "text": [
            "\n",
            "\n",
            "====== WebDriver manager ======\n",
            "Current google-chrome version is 100.0.4896\n",
            "Get LATEST chromedriver version for 100.0.4896 google-chrome\n",
            "Driver [C:\\Users\\ynk99\\.wdm\\drivers\\chromedriver\\win32\\100.0.4896.60\\chromedriver.exe] found in cache\n"
          ]
        },
        {
          "name": "stdout",
          "output_type": "stream",
          "text": [
            "140 15 3\n",
            "step1 loop\n",
            "step 마지막 loop\n"
          ]
        },
        {
          "name": "stderr",
          "output_type": "stream",
          "text": [
            "\n",
            "\n",
            "====== WebDriver manager ======\n",
            "Current google-chrome version is 100.0.4896\n",
            "Get LATEST chromedriver version for 100.0.4896 google-chrome\n",
            "Driver [C:\\Users\\ynk99\\.wdm\\drivers\\chromedriver\\win32\\100.0.4896.60\\chromedriver.exe] found in cache\n"
          ]
        },
        {
          "name": "stdout",
          "output_type": "stream",
          "text": [
            "98 10 2\n",
            "step1 loop\n",
            "step 마지막 loop\n"
          ]
        },
        {
          "name": "stderr",
          "output_type": "stream",
          "text": [
            "\n",
            "\n",
            "====== WebDriver manager ======\n",
            "Current google-chrome version is 100.0.4896\n",
            "Get LATEST chromedriver version for 100.0.4896 google-chrome\n",
            "Driver [C:\\Users\\ynk99\\.wdm\\drivers\\chromedriver\\win32\\100.0.4896.60\\chromedriver.exe] found in cache\n"
          ]
        },
        {
          "name": "stdout",
          "output_type": "stream",
          "text": [
            "78 8 2\n",
            "step1 loop\n",
            "step 마지막 loop\n"
          ]
        },
        {
          "name": "stderr",
          "output_type": "stream",
          "text": [
            "\n",
            "\n",
            "====== WebDriver manager ======\n",
            "Current google-chrome version is 100.0.4896\n",
            "Get LATEST chromedriver version for 100.0.4896 google-chrome\n",
            "Driver [C:\\Users\\ynk99\\.wdm\\drivers\\chromedriver\\win32\\100.0.4896.60\\chromedriver.exe] found in cache\n"
          ]
        },
        {
          "name": "stdout",
          "output_type": "stream",
          "text": [
            "175 18 4\n",
            "step1 loop\n",
            "step 마지막 loop\n"
          ]
        },
        {
          "name": "stderr",
          "output_type": "stream",
          "text": [
            "\n",
            "\n",
            "====== WebDriver manager ======\n",
            "Current google-chrome version is 100.0.4896\n",
            "Get LATEST chromedriver version for 100.0.4896 google-chrome\n",
            "Driver [C:\\Users\\ynk99\\.wdm\\drivers\\chromedriver\\win32\\100.0.4896.60\\chromedriver.exe] found in cache\n"
          ]
        },
        {
          "name": "stdout",
          "output_type": "stream",
          "text": [
            "116 12 3\n",
            "step1 loop\n",
            "step 마지막 loop\n"
          ]
        },
        {
          "name": "stderr",
          "output_type": "stream",
          "text": [
            "\n",
            "\n",
            "====== WebDriver manager ======\n",
            "Current google-chrome version is 100.0.4896\n",
            "Get LATEST chromedriver version for 100.0.4896 google-chrome\n",
            "Driver [C:\\Users\\ynk99\\.wdm\\drivers\\chromedriver\\win32\\100.0.4896.60\\chromedriver.exe] found in cache\n"
          ]
        },
        {
          "name": "stdout",
          "output_type": "stream",
          "text": [
            "117 12 3\n",
            "step1 loop\n",
            "step 마지막 loop\n"
          ]
        },
        {
          "name": "stderr",
          "output_type": "stream",
          "text": [
            "\n",
            "\n",
            "====== WebDriver manager ======\n",
            "Current google-chrome version is 100.0.4896\n",
            "Get LATEST chromedriver version for 100.0.4896 google-chrome\n",
            "Driver [C:\\Users\\ynk99\\.wdm\\drivers\\chromedriver\\win32\\100.0.4896.60\\chromedriver.exe] found in cache\n"
          ]
        },
        {
          "name": "stdout",
          "output_type": "stream",
          "text": [
            "123 13 3\n",
            "step1 loop\n",
            "step 마지막 loop\n"
          ]
        },
        {
          "name": "stderr",
          "output_type": "stream",
          "text": [
            "\n",
            "\n",
            "====== WebDriver manager ======\n",
            "Current google-chrome version is 100.0.4896\n",
            "Get LATEST chromedriver version for 100.0.4896 google-chrome\n",
            "Driver [C:\\Users\\ynk99\\.wdm\\drivers\\chromedriver\\win32\\100.0.4896.60\\chromedriver.exe] found in cache\n"
          ]
        },
        {
          "name": "stdout",
          "output_type": "stream",
          "text": [
            "162 17 4\n",
            "step1 loop\n",
            "step 마지막 loop\n"
          ]
        },
        {
          "name": "stderr",
          "output_type": "stream",
          "text": [
            "\n",
            "\n",
            "====== WebDriver manager ======\n",
            "Current google-chrome version is 100.0.4896\n",
            "Get LATEST chromedriver version for 100.0.4896 google-chrome\n",
            "Driver [C:\\Users\\ynk99\\.wdm\\drivers\\chromedriver\\win32\\100.0.4896.60\\chromedriver.exe] found in cache\n"
          ]
        },
        {
          "name": "stdout",
          "output_type": "stream",
          "text": [
            "267 27 6\n",
            "step1 loop\n",
            "step 마지막 loop\n"
          ]
        },
        {
          "name": "stderr",
          "output_type": "stream",
          "text": [
            "\n",
            "\n",
            "====== WebDriver manager ======\n",
            "Current google-chrome version is 100.0.4896\n",
            "Get LATEST chromedriver version for 100.0.4896 google-chrome\n",
            "Driver [C:\\Users\\ynk99\\.wdm\\drivers\\chromedriver\\win32\\100.0.4896.60\\chromedriver.exe] found in cache\n"
          ]
        },
        {
          "name": "stdout",
          "output_type": "stream",
          "text": [
            "518 52 11\n",
            "step1 loop\n",
            "step 마지막 loop\n"
          ]
        },
        {
          "name": "stderr",
          "output_type": "stream",
          "text": [
            "\n",
            "\n",
            "====== WebDriver manager ======\n",
            "Current google-chrome version is 100.0.4896\n",
            "Get LATEST chromedriver version for 100.0.4896 google-chrome\n",
            "Driver [C:\\Users\\ynk99\\.wdm\\drivers\\chromedriver\\win32\\100.0.4896.60\\chromedriver.exe] found in cache\n"
          ]
        },
        {
          "name": "stdout",
          "output_type": "stream",
          "text": [
            "321 33 7\n",
            "step1 loop\n",
            "step 마지막 loop\n"
          ]
        },
        {
          "name": "stderr",
          "output_type": "stream",
          "text": [
            "\n",
            "\n",
            "====== WebDriver manager ======\n",
            "Current google-chrome version is 100.0.4896\n",
            "Get LATEST chromedriver version for 100.0.4896 google-chrome\n",
            "Driver [C:\\Users\\ynk99\\.wdm\\drivers\\chromedriver\\win32\\100.0.4896.60\\chromedriver.exe] found in cache\n"
          ]
        },
        {
          "name": "stdout",
          "output_type": "stream",
          "text": [
            "341 35 7\n",
            "step1 loop\n",
            "step 마지막 loop\n"
          ]
        },
        {
          "name": "stderr",
          "output_type": "stream",
          "text": [
            "\n",
            "\n",
            "====== WebDriver manager ======\n",
            "Current google-chrome version is 100.0.4896\n",
            "Get LATEST chromedriver version for 100.0.4896 google-chrome\n",
            "Driver [C:\\Users\\ynk99\\.wdm\\drivers\\chromedriver\\win32\\100.0.4896.60\\chromedriver.exe] found in cache\n"
          ]
        },
        {
          "name": "stdout",
          "output_type": "stream",
          "text": [
            "283 29 6\n",
            "step1 loop\n",
            "step 마지막 loop\n"
          ]
        },
        {
          "name": "stderr",
          "output_type": "stream",
          "text": [
            "\n",
            "\n",
            "====== WebDriver manager ======\n",
            "Current google-chrome version is 100.0.4896\n",
            "Get LATEST chromedriver version for 100.0.4896 google-chrome\n",
            "Driver [C:\\Users\\ynk99\\.wdm\\drivers\\chromedriver\\win32\\100.0.4896.60\\chromedriver.exe] found in cache\n"
          ]
        },
        {
          "name": "stdout",
          "output_type": "stream",
          "text": [
            "97 10 2\n",
            "step1 loop\n",
            "step 마지막 loop\n"
          ]
        },
        {
          "name": "stderr",
          "output_type": "stream",
          "text": [
            "\n",
            "\n",
            "====== WebDriver manager ======\n",
            "Current google-chrome version is 100.0.4896\n",
            "Get LATEST chromedriver version for 100.0.4896 google-chrome\n",
            "Driver [C:\\Users\\ynk99\\.wdm\\drivers\\chromedriver\\win32\\100.0.4896.60\\chromedriver.exe] found in cache\n"
          ]
        },
        {
          "name": "stdout",
          "output_type": "stream",
          "text": [
            "118 12 3\n",
            "step1 loop\n",
            "step 마지막 loop\n"
          ]
        },
        {
          "name": "stderr",
          "output_type": "stream",
          "text": [
            "\n",
            "\n",
            "====== WebDriver manager ======\n",
            "Current google-chrome version is 100.0.4896\n",
            "Get LATEST chromedriver version for 100.0.4896 google-chrome\n",
            "Driver [C:\\Users\\ynk99\\.wdm\\drivers\\chromedriver\\win32\\100.0.4896.60\\chromedriver.exe] found in cache\n"
          ]
        },
        {
          "name": "stdout",
          "output_type": "stream",
          "text": [
            "289 29 6\n",
            "step1 loop\n",
            "step 마지막 loop\n"
          ]
        },
        {
          "name": "stderr",
          "output_type": "stream",
          "text": [
            "\n",
            "\n",
            "====== WebDriver manager ======\n",
            "Current google-chrome version is 100.0.4896\n",
            "Get LATEST chromedriver version for 100.0.4896 google-chrome\n",
            "Driver [C:\\Users\\ynk99\\.wdm\\drivers\\chromedriver\\win32\\100.0.4896.60\\chromedriver.exe] found in cache\n"
          ]
        },
        {
          "name": "stdout",
          "output_type": "stream",
          "text": [
            "7 1 1\n",
            "step1 loop\n"
          ]
        },
        {
          "name": "stderr",
          "output_type": "stream",
          "text": [
            "\n",
            "\n",
            "====== WebDriver manager ======\n",
            "Current google-chrome version is 100.0.4896\n",
            "Get LATEST chromedriver version for 100.0.4896 google-chrome\n",
            "Driver [C:\\Users\\ynk99\\.wdm\\drivers\\chromedriver\\win32\\100.0.4896.60\\chromedriver.exe] found in cache\n"
          ]
        },
        {
          "name": "stdout",
          "output_type": "stream",
          "text": [
            "92 10 2\n",
            "step1 loop\n",
            "step 마지막 loop\n"
          ]
        },
        {
          "name": "stderr",
          "output_type": "stream",
          "text": [
            "\n",
            "\n",
            "====== WebDriver manager ======\n",
            "Current google-chrome version is 100.0.4896\n",
            "Get LATEST chromedriver version for 100.0.4896 google-chrome\n",
            "Driver [C:\\Users\\ynk99\\.wdm\\drivers\\chromedriver\\win32\\100.0.4896.60\\chromedriver.exe] found in cache\n"
          ]
        },
        {
          "name": "stdout",
          "output_type": "stream",
          "text": [
            "257 26 6\n",
            "step1 loop\n"
          ]
        },
        {
          "name": "stderr",
          "output_type": "stream",
          "text": [
            "\n",
            "\n"
          ]
        },
        {
          "name": "stdout",
          "output_type": "stream",
          "text": [
            "step 마지막 loop\n"
          ]
        },
        {
          "name": "stderr",
          "output_type": "stream",
          "text": [
            "====== WebDriver manager ======\n",
            "Current google-chrome version is 100.0.4896\n",
            "Get LATEST chromedriver version for 100.0.4896 google-chrome\n",
            "Driver [C:\\Users\\ynk99\\.wdm\\drivers\\chromedriver\\win32\\100.0.4896.60\\chromedriver.exe] found in cache\n"
          ]
        },
        {
          "name": "stdout",
          "output_type": "stream",
          "text": [
            "151 16 4\n",
            "step1 loop\n"
          ]
        },
        {
          "name": "stderr",
          "output_type": "stream",
          "text": [
            "\n",
            "\n",
            "====== WebDriver manager ======\n"
          ]
        },
        {
          "name": "stdout",
          "output_type": "stream",
          "text": [
            "step 마지막 loop\n"
          ]
        },
        {
          "name": "stderr",
          "output_type": "stream",
          "text": [
            "Current google-chrome version is 100.0.4896\n",
            "Get LATEST chromedriver version for 100.0.4896 google-chrome\n",
            "Driver [C:\\Users\\ynk99\\.wdm\\drivers\\chromedriver\\win32\\100.0.4896.60\\chromedriver.exe] found in cache\n"
          ]
        },
        {
          "name": "stdout",
          "output_type": "stream",
          "text": [
            "7 1 1\n",
            "step1 loop\n"
          ]
        },
        {
          "name": "stderr",
          "output_type": "stream",
          "text": [
            "\n",
            "\n",
            "====== WebDriver manager ======\n",
            "Current google-chrome version is 100.0.4896\n",
            "Get LATEST chromedriver version for 100.0.4896 google-chrome\n",
            "Driver [C:\\Users\\ynk99\\.wdm\\drivers\\chromedriver\\win32\\100.0.4896.60\\chromedriver.exe] found in cache\n"
          ]
        },
        {
          "name": "stdout",
          "output_type": "stream",
          "text": [
            "175 18 4\n",
            "step1 loop\n",
            "step 마지막 loop\n"
          ]
        },
        {
          "name": "stderr",
          "output_type": "stream",
          "text": [
            "\n",
            "\n",
            "====== WebDriver manager ======\n",
            "Current google-chrome version is 100.0.4896\n",
            "Get LATEST chromedriver version for 100.0.4896 google-chrome\n",
            "Driver [C:\\Users\\ynk99\\.wdm\\drivers\\chromedriver\\win32\\100.0.4896.60\\chromedriver.exe] found in cache\n"
          ]
        },
        {
          "name": "stdout",
          "output_type": "stream",
          "text": [
            "549 55 11\n",
            "step1 loop\n",
            "step 마지막 loop\n"
          ]
        },
        {
          "name": "stderr",
          "output_type": "stream",
          "text": [
            "\n",
            "\n",
            "====== WebDriver manager ======\n",
            "Current google-chrome version is 100.0.4896\n",
            "Get LATEST chromedriver version for 100.0.4896 google-chrome\n",
            "Driver [C:\\Users\\ynk99\\.wdm\\drivers\\chromedriver\\win32\\100.0.4896.60\\chromedriver.exe] found in cache\n"
          ]
        },
        {
          "name": "stdout",
          "output_type": "stream",
          "text": [
            "2656 266 54\n",
            "step1 loop\n",
            "step 마지막 loop\n"
          ]
        },
        {
          "name": "stderr",
          "output_type": "stream",
          "text": [
            "\n",
            "\n",
            "====== WebDriver manager ======\n",
            "Current google-chrome version is 100.0.4896\n",
            "Get LATEST chromedriver version for 100.0.4896 google-chrome\n",
            "Driver [C:\\Users\\ynk99\\.wdm\\drivers\\chromedriver\\win32\\100.0.4896.60\\chromedriver.exe] found in cache\n"
          ]
        },
        {
          "name": "stdout",
          "output_type": "stream",
          "text": [
            "175 18 4\n",
            "step1 loop\n",
            "step 마지막 loop\n"
          ]
        },
        {
          "name": "stderr",
          "output_type": "stream",
          "text": [
            "\n",
            "\n",
            "====== WebDriver manager ======\n",
            "Current google-chrome version is 100.0.4896\n",
            "Get LATEST chromedriver version for 100.0.4896 google-chrome\n",
            "Driver [C:\\Users\\ynk99\\.wdm\\drivers\\chromedriver\\win32\\100.0.4896.60\\chromedriver.exe] found in cache\n"
          ]
        },
        {
          "name": "stdout",
          "output_type": "stream",
          "text": [
            "110 12 3\n",
            "step1 loop\n"
          ]
        },
        {
          "name": "stderr",
          "output_type": "stream",
          "text": [
            "\n",
            "\n"
          ]
        },
        {
          "name": "stdout",
          "output_type": "stream",
          "text": [
            "step 마지막 loop\n"
          ]
        },
        {
          "name": "stderr",
          "output_type": "stream",
          "text": [
            "====== WebDriver manager ======\n",
            "Current google-chrome version is 100.0.4896\n",
            "Get LATEST chromedriver version for 100.0.4896 google-chrome\n",
            "Driver [C:\\Users\\ynk99\\.wdm\\drivers\\chromedriver\\win32\\100.0.4896.60\\chromedriver.exe] found in cache\n"
          ]
        },
        {
          "name": "stdout",
          "output_type": "stream",
          "text": [
            "1595 160 32\n",
            "step1 loop\n",
            "step 마지막 loop\n"
          ]
        },
        {
          "name": "stderr",
          "output_type": "stream",
          "text": [
            "\n",
            "\n",
            "====== WebDriver manager ======\n",
            "Current google-chrome version is 100.0.4896\n",
            "Get LATEST chromedriver version for 100.0.4896 google-chrome\n",
            "Driver [C:\\Users\\ynk99\\.wdm\\drivers\\chromedriver\\win32\\100.0.4896.60\\chromedriver.exe] found in cache\n"
          ]
        },
        {
          "name": "stdout",
          "output_type": "stream",
          "text": [
            "164 17 4\n",
            "step1 loop\n",
            "step 마지막 loop\n"
          ]
        },
        {
          "name": "stderr",
          "output_type": "stream",
          "text": [
            "\n",
            "\n",
            "====== WebDriver manager ======\n",
            "Current google-chrome version is 100.0.4896\n",
            "Get LATEST chromedriver version for 100.0.4896 google-chrome\n",
            "Driver [C:\\Users\\ynk99\\.wdm\\drivers\\chromedriver\\win32\\100.0.4896.60\\chromedriver.exe] found in cache\n"
          ]
        },
        {
          "name": "stdout",
          "output_type": "stream",
          "text": [
            "49 5 1\n",
            "step1 loop\n"
          ]
        },
        {
          "name": "stderr",
          "output_type": "stream",
          "text": [
            "\n",
            "\n",
            "====== WebDriver manager ======\n",
            "Current google-chrome version is 100.0.4896\n",
            "Get LATEST chromedriver version for 100.0.4896 google-chrome\n",
            "Driver [C:\\Users\\ynk99\\.wdm\\drivers\\chromedriver\\win32\\100.0.4896.60\\chromedriver.exe] found in cache\n"
          ]
        },
        {
          "name": "stdout",
          "output_type": "stream",
          "text": [
            "101 11 3\n",
            "step1 loop\n",
            "step 마지막 loop\n"
          ]
        },
        {
          "name": "stderr",
          "output_type": "stream",
          "text": [
            "\n",
            "\n",
            "====== WebDriver manager ======\n",
            "Current google-chrome version is 100.0.4896\n",
            "Get LATEST chromedriver version for 100.0.4896 google-chrome\n",
            "Driver [C:\\Users\\ynk99\\.wdm\\drivers\\chromedriver\\win32\\100.0.4896.60\\chromedriver.exe] found in cache\n"
          ]
        },
        {
          "name": "stdout",
          "output_type": "stream",
          "text": [
            "1261 127 26\n",
            "step1 loop\n",
            "step 마지막 loop\n"
          ]
        },
        {
          "name": "stderr",
          "output_type": "stream",
          "text": [
            "\n",
            "\n",
            "====== WebDriver manager ======\n",
            "Current google-chrome version is 100.0.4896\n",
            "Get LATEST chromedriver version for 100.0.4896 google-chrome\n",
            "Driver [C:\\Users\\ynk99\\.wdm\\drivers\\chromedriver\\win32\\100.0.4896.60\\chromedriver.exe] found in cache\n"
          ]
        },
        {
          "name": "stdout",
          "output_type": "stream",
          "text": [
            "32 4 1\n",
            "step1 loop\n"
          ]
        },
        {
          "name": "stderr",
          "output_type": "stream",
          "text": [
            "\n",
            "\n",
            "====== WebDriver manager ======\n",
            "Current google-chrome version is 100.0.4896\n",
            "Get LATEST chromedriver version for 100.0.4896 google-chrome\n",
            "Driver [C:\\Users\\ynk99\\.wdm\\drivers\\chromedriver\\win32\\100.0.4896.60\\chromedriver.exe] found in cache\n"
          ]
        },
        {
          "name": "stdout",
          "output_type": "stream",
          "text": [
            "764 77 16\n",
            "step1 loop\n",
            "step 마지막 loop\n"
          ]
        },
        {
          "name": "stderr",
          "output_type": "stream",
          "text": [
            "\n",
            "\n",
            "====== WebDriver manager ======\n",
            "Current google-chrome version is 100.0.4896\n",
            "Get LATEST chromedriver version for 100.0.4896 google-chrome\n",
            "Driver [C:\\Users\\ynk99\\.wdm\\drivers\\chromedriver\\win32\\100.0.4896.60\\chromedriver.exe] found in cache\n"
          ]
        },
        {
          "name": "stdout",
          "output_type": "stream",
          "text": [
            "1544 155 31\n",
            "step1 loop\n",
            "step 마지막 loop\n"
          ]
        },
        {
          "name": "stderr",
          "output_type": "stream",
          "text": [
            "\n",
            "\n",
            "====== WebDriver manager ======\n",
            "Current google-chrome version is 100.0.4896\n",
            "Get LATEST chromedriver version for 100.0.4896 google-chrome\n",
            "Driver [C:\\Users\\ynk99\\.wdm\\drivers\\chromedriver\\win32\\100.0.4896.60\\chromedriver.exe] found in cache\n"
          ]
        },
        {
          "name": "stdout",
          "output_type": "stream",
          "text": [
            "678 68 14\n",
            "step1 loop\n",
            "step 마지막 loop\n"
          ]
        },
        {
          "name": "stderr",
          "output_type": "stream",
          "text": [
            "\n",
            "\n",
            "====== WebDriver manager ======\n",
            "Current google-chrome version is 100.0.4896\n",
            "Get LATEST chromedriver version for 100.0.4896 google-chrome\n",
            "Driver [C:\\Users\\ynk99\\.wdm\\drivers\\chromedriver\\win32\\100.0.4896.60\\chromedriver.exe] found in cache\n"
          ]
        },
        {
          "name": "stdout",
          "output_type": "stream",
          "text": [
            "1590 160 32\n",
            "step1 loop\n",
            "step 마지막 loop\n"
          ]
        },
        {
          "name": "stderr",
          "output_type": "stream",
          "text": [
            "\n",
            "\n",
            "====== WebDriver manager ======\n",
            "Current google-chrome version is 100.0.4896\n",
            "Get LATEST chromedriver version for 100.0.4896 google-chrome\n",
            "Driver [C:\\Users\\ynk99\\.wdm\\drivers\\chromedriver\\win32\\100.0.4896.60\\chromedriver.exe] found in cache\n"
          ]
        },
        {
          "name": "stdout",
          "output_type": "stream",
          "text": [
            "486 49 10\n",
            "step1 loop\n",
            "step 마지막 loop\n"
          ]
        },
        {
          "name": "stderr",
          "output_type": "stream",
          "text": [
            "\n",
            "\n",
            "====== WebDriver manager ======\n",
            "Current google-chrome version is 100.0.4896\n",
            "Get LATEST chromedriver version for 100.0.4896 google-chrome\n",
            "Driver [C:\\Users\\ynk99\\.wdm\\drivers\\chromedriver\\win32\\100.0.4896.60\\chromedriver.exe] found in cache\n"
          ]
        },
        {
          "name": "stdout",
          "output_type": "stream",
          "text": [
            "1544 155 31\n",
            "step1 loop\n",
            "step 마지막 loop\n"
          ]
        },
        {
          "name": "stderr",
          "output_type": "stream",
          "text": [
            "\n",
            "\n",
            "====== WebDriver manager ======\n",
            "Current google-chrome version is 100.0.4896\n",
            "Get LATEST chromedriver version for 100.0.4896 google-chrome\n",
            "Driver [C:\\Users\\ynk99\\.wdm\\drivers\\chromedriver\\win32\\100.0.4896.60\\chromedriver.exe] found in cache\n"
          ]
        },
        {
          "name": "stdout",
          "output_type": "stream",
          "text": [
            "48 5 1\n",
            "step1 loop\n"
          ]
        },
        {
          "name": "stderr",
          "output_type": "stream",
          "text": [
            "\n",
            "\n",
            "====== WebDriver manager ======\n",
            "Current google-chrome version is 100.0.4896\n",
            "Get LATEST chromedriver version for 100.0.4896 google-chrome\n",
            "Driver [C:\\Users\\ynk99\\.wdm\\drivers\\chromedriver\\win32\\100.0.4896.60\\chromedriver.exe] found in cache\n"
          ]
        },
        {
          "name": "stdout",
          "output_type": "stream",
          "text": [
            "916 92 19\n",
            "step1 loop\n",
            "step 마지막 loop\n"
          ]
        },
        {
          "name": "stderr",
          "output_type": "stream",
          "text": [
            "\n",
            "\n",
            "====== WebDriver manager ======\n",
            "Current google-chrome version is 100.0.4896\n",
            "Get LATEST chromedriver version for 100.0.4896 google-chrome\n",
            "Driver [C:\\Users\\ynk99\\.wdm\\drivers\\chromedriver\\win32\\100.0.4896.60\\chromedriver.exe] found in cache\n"
          ]
        },
        {
          "name": "stdout",
          "output_type": "stream",
          "text": [
            "937 94 19\n",
            "step1 loop\n",
            "step 마지막 loop\n"
          ]
        },
        {
          "name": "stderr",
          "output_type": "stream",
          "text": [
            "\n",
            "\n",
            "====== WebDriver manager ======\n",
            "Current google-chrome version is 100.0.4896\n",
            "Get LATEST chromedriver version for 100.0.4896 google-chrome\n",
            "Driver [C:\\Users\\ynk99\\.wdm\\drivers\\chromedriver\\win32\\100.0.4896.60\\chromedriver.exe] found in cache\n"
          ]
        },
        {
          "name": "stdout",
          "output_type": "stream",
          "text": [
            "284 29 6\n",
            "step1 loop\n",
            "step 마지막 loop\n"
          ]
        },
        {
          "name": "stderr",
          "output_type": "stream",
          "text": [
            "\n",
            "\n",
            "====== WebDriver manager ======\n",
            "Current google-chrome version is 100.0.4896\n",
            "Get LATEST chromedriver version for 100.0.4896 google-chrome\n",
            "Driver [C:\\Users\\ynk99\\.wdm\\drivers\\chromedriver\\win32\\100.0.4896.60\\chromedriver.exe] found in cache\n"
          ]
        },
        {
          "name": "stdout",
          "output_type": "stream",
          "text": [
            "996 100 20\n",
            "step1 loop\n",
            "step 마지막 loop\n"
          ]
        },
        {
          "name": "stderr",
          "output_type": "stream",
          "text": [
            "\n",
            "\n",
            "====== WebDriver manager ======\n",
            "Current google-chrome version is 100.0.4896\n",
            "Get LATEST chromedriver version for 100.0.4896 google-chrome\n",
            "Driver [C:\\Users\\ynk99\\.wdm\\drivers\\chromedriver\\win32\\100.0.4896.60\\chromedriver.exe] found in cache\n"
          ]
        },
        {
          "name": "stdout",
          "output_type": "stream",
          "text": [
            "418 42 9\n",
            "step1 loop\n",
            "step 마지막 loop\n"
          ]
        },
        {
          "name": "stderr",
          "output_type": "stream",
          "text": [
            "\n",
            "\n",
            "====== WebDriver manager ======\n",
            "Current google-chrome version is 100.0.4896\n",
            "Get LATEST chromedriver version for 100.0.4896 google-chrome\n",
            "Driver [C:\\Users\\ynk99\\.wdm\\drivers\\chromedriver\\win32\\100.0.4896.60\\chromedriver.exe] found in cache\n"
          ]
        },
        {
          "name": "stdout",
          "output_type": "stream",
          "text": [
            "789 79 16\n",
            "step1 loop\n",
            "step 마지막 loop\n"
          ]
        },
        {
          "name": "stderr",
          "output_type": "stream",
          "text": [
            "\n",
            "\n",
            "====== WebDriver manager ======\n",
            "Current google-chrome version is 100.0.4896\n",
            "Get LATEST chromedriver version for 100.0.4896 google-chrome\n",
            "Driver [C:\\Users\\ynk99\\.wdm\\drivers\\chromedriver\\win32\\100.0.4896.60\\chromedriver.exe] found in cache\n"
          ]
        },
        {
          "name": "stdout",
          "output_type": "stream",
          "text": [
            "232 24 5\n",
            "step1 loop\n",
            "step 마지막 loop\n"
          ]
        },
        {
          "name": "stderr",
          "output_type": "stream",
          "text": [
            "\n",
            "\n",
            "====== WebDriver manager ======\n",
            "Current google-chrome version is 100.0.4896\n",
            "Get LATEST chromedriver version for 100.0.4896 google-chrome\n",
            "Driver [C:\\Users\\ynk99\\.wdm\\drivers\\chromedriver\\win32\\100.0.4896.60\\chromedriver.exe] found in cache\n"
          ]
        },
        {
          "name": "stdout",
          "output_type": "stream",
          "text": [
            "132 14 3\n",
            "step1 loop\n",
            "step 마지막 loop\n"
          ]
        },
        {
          "name": "stderr",
          "output_type": "stream",
          "text": [
            "\n",
            "\n",
            "====== WebDriver manager ======\n",
            "Current google-chrome version is 100.0.4896\n",
            "Get LATEST chromedriver version for 100.0.4896 google-chrome\n",
            "Driver [C:\\Users\\ynk99\\.wdm\\drivers\\chromedriver\\win32\\100.0.4896.60\\chromedriver.exe] found in cache\n"
          ]
        },
        {
          "name": "stdout",
          "output_type": "stream",
          "text": [
            "223 23 5\n",
            "step1 loop\n",
            "step 마지막 loop\n"
          ]
        },
        {
          "name": "stderr",
          "output_type": "stream",
          "text": [
            "\n",
            "\n",
            "====== WebDriver manager ======\n",
            "Current google-chrome version is 100.0.4896\n",
            "Get LATEST chromedriver version for 100.0.4896 google-chrome\n",
            "Driver [C:\\Users\\ynk99\\.wdm\\drivers\\chromedriver\\win32\\100.0.4896.60\\chromedriver.exe] found in cache\n"
          ]
        },
        {
          "name": "stdout",
          "output_type": "stream",
          "text": [
            "166 17 4\n",
            "step1 loop\n",
            "step 마지막 loop\n"
          ]
        },
        {
          "name": "stderr",
          "output_type": "stream",
          "text": [
            "\n",
            "\n",
            "====== WebDriver manager ======\n",
            "Current google-chrome version is 100.0.4896\n",
            "Get LATEST chromedriver version for 100.0.4896 google-chrome\n",
            "Driver [C:\\Users\\ynk99\\.wdm\\drivers\\chromedriver\\win32\\100.0.4896.60\\chromedriver.exe] found in cache\n"
          ]
        },
        {
          "name": "stdout",
          "output_type": "stream",
          "text": [
            "280 29 6\n",
            "step1 loop\n",
            "step 마지막 loop\n"
          ]
        },
        {
          "name": "stderr",
          "output_type": "stream",
          "text": [
            "\n",
            "\n",
            "====== WebDriver manager ======\n",
            "Current google-chrome version is 100.0.4896\n",
            "Get LATEST chromedriver version for 100.0.4896 google-chrome\n",
            "Driver [C:\\Users\\ynk99\\.wdm\\drivers\\chromedriver\\win32\\100.0.4896.60\\chromedriver.exe] found in cache\n"
          ]
        },
        {
          "name": "stdout",
          "output_type": "stream",
          "text": [
            "390 40 8\n",
            "step1 loop\n",
            "step 마지막 loop\n"
          ]
        },
        {
          "name": "stderr",
          "output_type": "stream",
          "text": [
            "\n",
            "\n",
            "====== WebDriver manager ======\n",
            "Current google-chrome version is 100.0.4896\n",
            "Get LATEST chromedriver version for 100.0.4896 google-chrome\n",
            "Driver [C:\\Users\\ynk99\\.wdm\\drivers\\chromedriver\\win32\\100.0.4896.60\\chromedriver.exe] found in cache\n"
          ]
        },
        {
          "name": "stdout",
          "output_type": "stream",
          "text": [
            "82 9 2\n",
            "step1 loop\n",
            "step 마지막 loop\n"
          ]
        },
        {
          "name": "stderr",
          "output_type": "stream",
          "text": [
            "\n",
            "\n",
            "====== WebDriver manager ======\n",
            "Current google-chrome version is 100.0.4896\n",
            "Get LATEST chromedriver version for 100.0.4896 google-chrome\n",
            "Driver [C:\\Users\\ynk99\\.wdm\\drivers\\chromedriver\\win32\\100.0.4896.60\\chromedriver.exe] found in cache\n"
          ]
        },
        {
          "name": "stdout",
          "output_type": "stream",
          "text": [
            "402 41 9\n",
            "step1 loop\n",
            "step 마지막 loop\n"
          ]
        },
        {
          "name": "stderr",
          "output_type": "stream",
          "text": [
            "\n",
            "\n",
            "====== WebDriver manager ======\n",
            "Current google-chrome version is 100.0.4896\n",
            "Get LATEST chromedriver version for 100.0.4896 google-chrome\n",
            "Driver [C:\\Users\\ynk99\\.wdm\\drivers\\chromedriver\\win32\\100.0.4896.60\\chromedriver.exe] found in cache\n"
          ]
        },
        {
          "name": "stdout",
          "output_type": "stream",
          "text": [
            "79 8 2\n",
            "step1 loop\n",
            "step 마지막 loop\n"
          ]
        },
        {
          "name": "stderr",
          "output_type": "stream",
          "text": [
            "\n",
            "\n",
            "====== WebDriver manager ======\n",
            "Current google-chrome version is 100.0.4896\n",
            "Get LATEST chromedriver version for 100.0.4896 google-chrome\n",
            "Driver [C:\\Users\\ynk99\\.wdm\\drivers\\chromedriver\\win32\\100.0.4896.60\\chromedriver.exe] found in cache\n"
          ]
        },
        {
          "name": "stdout",
          "output_type": "stream",
          "text": [
            "153 16 4\n",
            "step1 loop\n",
            "step 마지막 loop\n"
          ]
        },
        {
          "name": "stderr",
          "output_type": "stream",
          "text": [
            "\n",
            "\n",
            "====== WebDriver manager ======\n",
            "Current google-chrome version is 100.0.4896\n",
            "Get LATEST chromedriver version for 100.0.4896 google-chrome\n",
            "Driver [C:\\Users\\ynk99\\.wdm\\drivers\\chromedriver\\win32\\100.0.4896.60\\chromedriver.exe] found in cache\n"
          ]
        },
        {
          "name": "stdout",
          "output_type": "stream",
          "text": [
            "966 97 20\n",
            "step1 loop\n",
            "step 마지막 loop\n"
          ]
        },
        {
          "name": "stderr",
          "output_type": "stream",
          "text": [
            "\n",
            "\n",
            "====== WebDriver manager ======\n",
            "Current google-chrome version is 100.0.4896\n",
            "Get LATEST chromedriver version for 100.0.4896 google-chrome\n",
            "Driver [C:\\Users\\ynk99\\.wdm\\drivers\\chromedriver\\win32\\100.0.4896.60\\chromedriver.exe] found in cache\n"
          ]
        },
        {
          "name": "stdout",
          "output_type": "stream",
          "text": [
            "185 19 4\n",
            "step1 loop\n",
            "step 마지막 loop\n"
          ]
        },
        {
          "name": "stderr",
          "output_type": "stream",
          "text": [
            "\n",
            "\n",
            "====== WebDriver manager ======\n",
            "Current google-chrome version is 100.0.4896\n",
            "Get LATEST chromedriver version for 100.0.4896 google-chrome\n",
            "Driver [C:\\Users\\ynk99\\.wdm\\drivers\\chromedriver\\win32\\100.0.4896.60\\chromedriver.exe] found in cache\n"
          ]
        },
        {
          "name": "stdout",
          "output_type": "stream",
          "text": [
            "178 18 4\n",
            "step1 loop\n",
            "step 마지막 loop\n"
          ]
        },
        {
          "name": "stderr",
          "output_type": "stream",
          "text": [
            "\n",
            "\n",
            "====== WebDriver manager ======\n",
            "Current google-chrome version is 100.0.4896\n",
            "Get LATEST chromedriver version for 100.0.4896 google-chrome\n",
            "Driver [C:\\Users\\ynk99\\.wdm\\drivers\\chromedriver\\win32\\100.0.4896.60\\chromedriver.exe] found in cache\n"
          ]
        },
        {
          "name": "stdout",
          "output_type": "stream",
          "text": [
            "145 15 3\n",
            "step1 loop\n",
            "step 마지막 loop\n"
          ]
        },
        {
          "name": "stderr",
          "output_type": "stream",
          "text": [
            "\n",
            "\n",
            "====== WebDriver manager ======\n",
            "Current google-chrome version is 100.0.4896\n",
            "Get LATEST chromedriver version for 100.0.4896 google-chrome\n",
            "Driver [C:\\Users\\ynk99\\.wdm\\drivers\\chromedriver\\win32\\100.0.4896.60\\chromedriver.exe] found in cache\n"
          ]
        },
        {
          "name": "stdout",
          "output_type": "stream",
          "text": [
            "135 14 3\n",
            "step1 loop\n",
            "step 마지막 loop\n"
          ]
        },
        {
          "name": "stderr",
          "output_type": "stream",
          "text": [
            "\n",
            "\n",
            "====== WebDriver manager ======\n",
            "Current google-chrome version is 100.0.4896\n",
            "Get LATEST chromedriver version for 100.0.4896 google-chrome\n",
            "Driver [C:\\Users\\ynk99\\.wdm\\drivers\\chromedriver\\win32\\100.0.4896.60\\chromedriver.exe] found in cache\n"
          ]
        },
        {
          "name": "stdout",
          "output_type": "stream",
          "text": [
            "90 10 2\n",
            "step1 loop\n",
            "step 마지막 loop\n"
          ]
        },
        {
          "name": "stderr",
          "output_type": "stream",
          "text": [
            "\n",
            "\n",
            "====== WebDriver manager ======\n",
            "Current google-chrome version is 100.0.4896\n",
            "Get LATEST chromedriver version for 100.0.4896 google-chrome\n",
            "Driver [C:\\Users\\ynk99\\.wdm\\drivers\\chromedriver\\win32\\100.0.4896.60\\chromedriver.exe] found in cache\n"
          ]
        },
        {
          "name": "stdout",
          "output_type": "stream",
          "text": [
            "563 57 12\n",
            "step1 loop\n",
            "step 마지막 loop\n"
          ]
        },
        {
          "name": "stderr",
          "output_type": "stream",
          "text": [
            "\n",
            "\n",
            "====== WebDriver manager ======\n",
            "Current google-chrome version is 100.0.4896\n",
            "Get LATEST chromedriver version for 100.0.4896 google-chrome\n",
            "Driver [C:\\Users\\ynk99\\.wdm\\drivers\\chromedriver\\win32\\100.0.4896.60\\chromedriver.exe] found in cache\n"
          ]
        },
        {
          "name": "stdout",
          "output_type": "stream",
          "text": [
            "349 35 7\n",
            "step1 loop\n",
            "step 마지막 loop\n"
          ]
        },
        {
          "name": "stderr",
          "output_type": "stream",
          "text": [
            "\n",
            "\n",
            "====== WebDriver manager ======\n",
            "Current google-chrome version is 100.0.4896\n",
            "Get LATEST chromedriver version for 100.0.4896 google-chrome\n",
            "Driver [C:\\Users\\ynk99\\.wdm\\drivers\\chromedriver\\win32\\100.0.4896.60\\chromedriver.exe] found in cache\n"
          ]
        },
        {
          "name": "stdout",
          "output_type": "stream",
          "text": [
            "27 3 1\n",
            "step1 loop\n"
          ]
        },
        {
          "name": "stderr",
          "output_type": "stream",
          "text": [
            "\n",
            "\n",
            "====== WebDriver manager ======\n",
            "Current google-chrome version is 100.0.4896\n",
            "Get LATEST chromedriver version for 100.0.4896 google-chrome\n",
            "Driver [C:\\Users\\ynk99\\.wdm\\drivers\\chromedriver\\win32\\100.0.4896.60\\chromedriver.exe] found in cache\n"
          ]
        },
        {
          "name": "stdout",
          "output_type": "stream",
          "text": [
            "356 36 8\n",
            "step1 loop\n",
            "step 마지막 loop\n"
          ]
        },
        {
          "name": "stderr",
          "output_type": "stream",
          "text": [
            "\n",
            "\n",
            "====== WebDriver manager ======\n",
            "Current google-chrome version is 100.0.4896\n",
            "Get LATEST chromedriver version for 100.0.4896 google-chrome\n",
            "Driver [C:\\Users\\ynk99\\.wdm\\drivers\\chromedriver\\win32\\100.0.4896.60\\chromedriver.exe] found in cache\n"
          ]
        },
        {
          "name": "stdout",
          "output_type": "stream",
          "text": [
            "120 13 3\n",
            "step1 loop\n",
            "step 마지막 loop\n"
          ]
        },
        {
          "name": "stderr",
          "output_type": "stream",
          "text": [
            "\n",
            "\n",
            "====== WebDriver manager ======\n",
            "Current google-chrome version is 100.0.4896\n",
            "Get LATEST chromedriver version for 100.0.4896 google-chrome\n",
            "Driver [C:\\Users\\ynk99\\.wdm\\drivers\\chromedriver\\win32\\100.0.4896.60\\chromedriver.exe] found in cache\n"
          ]
        },
        {
          "name": "stdout",
          "output_type": "stream",
          "text": [
            "189 19 4\n",
            "step1 loop\n",
            "step 마지막 loop\n"
          ]
        },
        {
          "name": "stderr",
          "output_type": "stream",
          "text": [
            "\n",
            "\n",
            "====== WebDriver manager ======\n",
            "Current google-chrome version is 100.0.4896\n",
            "Get LATEST chromedriver version for 100.0.4896 google-chrome\n",
            "Driver [C:\\Users\\ynk99\\.wdm\\drivers\\chromedriver\\win32\\100.0.4896.60\\chromedriver.exe] found in cache\n"
          ]
        },
        {
          "name": "stdout",
          "output_type": "stream",
          "text": [
            "105 11 3\n",
            "step1 loop\n",
            "step 마지막 loop\n"
          ]
        },
        {
          "name": "stderr",
          "output_type": "stream",
          "text": [
            "\n",
            "\n",
            "====== WebDriver manager ======\n",
            "Current google-chrome version is 100.0.4896\n",
            "Get LATEST chromedriver version for 100.0.4896 google-chrome\n",
            "Driver [C:\\Users\\ynk99\\.wdm\\drivers\\chromedriver\\win32\\100.0.4896.60\\chromedriver.exe] found in cache\n"
          ]
        },
        {
          "name": "stdout",
          "output_type": "stream",
          "text": [
            "151 16 4\n",
            "step1 loop\n",
            "step 마지막 loop\n"
          ]
        },
        {
          "name": "stderr",
          "output_type": "stream",
          "text": [
            "\n",
            "\n",
            "====== WebDriver manager ======\n",
            "Current google-chrome version is 100.0.4896\n",
            "Get LATEST chromedriver version for 100.0.4896 google-chrome\n",
            "Driver [C:\\Users\\ynk99\\.wdm\\drivers\\chromedriver\\win32\\100.0.4896.60\\chromedriver.exe] found in cache\n"
          ]
        },
        {
          "name": "stdout",
          "output_type": "stream",
          "text": [
            "31 4 1\n",
            "step1 loop\n"
          ]
        },
        {
          "name": "stderr",
          "output_type": "stream",
          "text": [
            "\n",
            "\n",
            "====== WebDriver manager ======\n",
            "Current google-chrome version is 100.0.4896\n",
            "Get LATEST chromedriver version for 100.0.4896 google-chrome\n",
            "Driver [C:\\Users\\ynk99\\.wdm\\drivers\\chromedriver\\win32\\100.0.4896.60\\chromedriver.exe] found in cache\n"
          ]
        },
        {
          "name": "stdout",
          "output_type": "stream",
          "text": [
            "75 8 2\n",
            "step1 loop\n",
            "step 마지막 loop\n"
          ]
        },
        {
          "name": "stderr",
          "output_type": "stream",
          "text": [
            "\n",
            "\n",
            "====== WebDriver manager ======\n",
            "Current google-chrome version is 100.0.4896\n",
            "Get LATEST chromedriver version for 100.0.4896 google-chrome\n",
            "Driver [C:\\Users\\ynk99\\.wdm\\drivers\\chromedriver\\win32\\100.0.4896.60\\chromedriver.exe] found in cache\n"
          ]
        },
        {
          "name": "stdout",
          "output_type": "stream",
          "text": [
            "100 11 3\n",
            "step1 loop\n"
          ]
        },
        {
          "name": "stderr",
          "output_type": "stream",
          "text": [
            "\n",
            "\n",
            "====== WebDriver manager ======\n",
            "Current google-chrome version is 100.0.4896\n",
            "Get LATEST chromedriver version for 100.0.4896 google-chrome\n",
            "Driver [C:\\Users\\ynk99\\.wdm\\drivers\\chromedriver\\win32\\100.0.4896.60\\chromedriver.exe] found in cache\n"
          ]
        },
        {
          "name": "stdout",
          "output_type": "stream",
          "text": [
            "87 9 2\n",
            "step1 loop\n",
            "step 마지막 loop\n"
          ]
        },
        {
          "name": "stderr",
          "output_type": "stream",
          "text": [
            "\n",
            "\n",
            "====== WebDriver manager ======\n",
            "Current google-chrome version is 100.0.4896\n",
            "Get LATEST chromedriver version for 100.0.4896 google-chrome\n",
            "Driver [C:\\Users\\ynk99\\.wdm\\drivers\\chromedriver\\win32\\100.0.4896.60\\chromedriver.exe] found in cache\n"
          ]
        },
        {
          "name": "stdout",
          "output_type": "stream",
          "text": [
            "47 5 1\n",
            "step1 loop\n"
          ]
        },
        {
          "name": "stderr",
          "output_type": "stream",
          "text": [
            "\n",
            "\n",
            "====== WebDriver manager ======\n",
            "Current google-chrome version is 100.0.4896\n",
            "Get LATEST chromedriver version for 100.0.4896 google-chrome\n",
            "Driver [C:\\Users\\ynk99\\.wdm\\drivers\\chromedriver\\win32\\100.0.4896.60\\chromedriver.exe] found in cache\n"
          ]
        },
        {
          "name": "stdout",
          "output_type": "stream",
          "text": [
            "18 2 1\n",
            "step1 loop\n"
          ]
        },
        {
          "name": "stderr",
          "output_type": "stream",
          "text": [
            "\n",
            "\n",
            "====== WebDriver manager ======\n",
            "Current google-chrome version is 100.0.4896\n",
            "Get LATEST chromedriver version for 100.0.4896 google-chrome\n",
            "Driver [C:\\Users\\ynk99\\.wdm\\drivers\\chromedriver\\win32\\100.0.4896.60\\chromedriver.exe] found in cache\n"
          ]
        },
        {
          "name": "stdout",
          "output_type": "stream",
          "text": [
            "130 14 3\n",
            "step1 loop\n",
            "step 마지막 loop\n"
          ]
        },
        {
          "name": "stderr",
          "output_type": "stream",
          "text": [
            "\n",
            "\n",
            "====== WebDriver manager ======\n",
            "Current google-chrome version is 100.0.4896\n",
            "Get LATEST chromedriver version for 100.0.4896 google-chrome\n",
            "Driver [C:\\Users\\ynk99\\.wdm\\drivers\\chromedriver\\win32\\100.0.4896.60\\chromedriver.exe] found in cache\n"
          ]
        },
        {
          "name": "stdout",
          "output_type": "stream",
          "text": [
            "130 14 3\n",
            "step1 loop\n",
            "step 마지막 loop\n"
          ]
        },
        {
          "name": "stderr",
          "output_type": "stream",
          "text": [
            "\n",
            "\n",
            "====== WebDriver manager ======\n",
            "Current google-chrome version is 100.0.4896\n",
            "Get LATEST chromedriver version for 100.0.4896 google-chrome\n",
            "Driver [C:\\Users\\ynk99\\.wdm\\drivers\\chromedriver\\win32\\100.0.4896.60\\chromedriver.exe] found in cache\n"
          ]
        },
        {
          "name": "stdout",
          "output_type": "stream",
          "text": [
            "91 10 2\n",
            "step1 loop\n",
            "step 마지막 loop\n"
          ]
        },
        {
          "name": "stderr",
          "output_type": "stream",
          "text": [
            "\n",
            "\n",
            "====== WebDriver manager ======\n",
            "Current google-chrome version is 100.0.4896\n",
            "Get LATEST chromedriver version for 100.0.4896 google-chrome\n",
            "Driver [C:\\Users\\ynk99\\.wdm\\drivers\\chromedriver\\win32\\100.0.4896.60\\chromedriver.exe] found in cache\n"
          ]
        },
        {
          "name": "stdout",
          "output_type": "stream",
          "text": [
            "27 3 1\n",
            "step1 loop\n"
          ]
        },
        {
          "name": "stderr",
          "output_type": "stream",
          "text": [
            "\n",
            "\n",
            "====== WebDriver manager ======\n",
            "Current google-chrome version is 100.0.4896\n",
            "Get LATEST chromedriver version for 100.0.4896 google-chrome\n",
            "Driver [C:\\Users\\ynk99\\.wdm\\drivers\\chromedriver\\win32\\100.0.4896.60\\chromedriver.exe] found in cache\n"
          ]
        },
        {
          "name": "stdout",
          "output_type": "stream",
          "text": [
            "67 7 2\n",
            "step1 loop\n",
            "step 마지막 loop\n"
          ]
        },
        {
          "name": "stderr",
          "output_type": "stream",
          "text": [
            "\n",
            "\n",
            "====== WebDriver manager ======\n",
            "Current google-chrome version is 100.0.4896\n",
            "Get LATEST chromedriver version for 100.0.4896 google-chrome\n",
            "Driver [C:\\Users\\ynk99\\.wdm\\drivers\\chromedriver\\win32\\100.0.4896.60\\chromedriver.exe] found in cache\n"
          ]
        },
        {
          "name": "stdout",
          "output_type": "stream",
          "text": [
            "17 2 1\n",
            "step1 loop\n"
          ]
        },
        {
          "name": "stderr",
          "output_type": "stream",
          "text": [
            "\n",
            "\n",
            "====== WebDriver manager ======\n",
            "Current google-chrome version is 100.0.4896\n",
            "Get LATEST chromedriver version for 100.0.4896 google-chrome\n",
            "Driver [C:\\Users\\ynk99\\.wdm\\drivers\\chromedriver\\win32\\100.0.4896.60\\chromedriver.exe] found in cache\n"
          ]
        },
        {
          "name": "stdout",
          "output_type": "stream",
          "text": [
            "38 4 1\n",
            "step1 loop\n"
          ]
        },
        {
          "name": "stderr",
          "output_type": "stream",
          "text": [
            "\n",
            "\n",
            "====== WebDriver manager ======\n",
            "Current google-chrome version is 100.0.4896\n",
            "Get LATEST chromedriver version for 100.0.4896 google-chrome\n",
            "Driver [C:\\Users\\ynk99\\.wdm\\drivers\\chromedriver\\win32\\100.0.4896.60\\chromedriver.exe] found in cache\n"
          ]
        },
        {
          "name": "stdout",
          "output_type": "stream",
          "text": [
            "156 16 4\n",
            "step1 loop\n"
          ]
        },
        {
          "name": "stderr",
          "output_type": "stream",
          "text": [
            "\n",
            "\n",
            "====== WebDriver manager ======\n"
          ]
        },
        {
          "name": "stdout",
          "output_type": "stream",
          "text": [
            "step 마지막 loop\n"
          ]
        },
        {
          "name": "stderr",
          "output_type": "stream",
          "text": [
            "Current google-chrome version is 100.0.4896\n",
            "Get LATEST chromedriver version for 100.0.4896 google-chrome\n",
            "Driver [C:\\Users\\ynk99\\.wdm\\drivers\\chromedriver\\win32\\100.0.4896.60\\chromedriver.exe] found in cache\n"
          ]
        },
        {
          "name": "stdout",
          "output_type": "stream",
          "text": [
            "554 56 12\n",
            "step1 loop\n"
          ]
        },
        {
          "name": "stderr",
          "output_type": "stream",
          "text": [
            "\n",
            "\n",
            "====== WebDriver manager ======\n"
          ]
        },
        {
          "name": "stdout",
          "output_type": "stream",
          "text": [
            "step 마지막 loop\n"
          ]
        },
        {
          "name": "stderr",
          "output_type": "stream",
          "text": [
            "Current google-chrome version is 100.0.4896\n",
            "Get LATEST chromedriver version for 100.0.4896 google-chrome\n",
            "Driver [C:\\Users\\ynk99\\.wdm\\drivers\\chromedriver\\win32\\100.0.4896.60\\chromedriver.exe] found in cache\n"
          ]
        },
        {
          "name": "stdout",
          "output_type": "stream",
          "text": [
            "4 1 1\n",
            "step1 loop\n"
          ]
        },
        {
          "name": "stderr",
          "output_type": "stream",
          "text": [
            "\n",
            "\n",
            "====== WebDriver manager ======\n",
            "Current google-chrome version is 100.0.4896\n",
            "Get LATEST chromedriver version for 100.0.4896 google-chrome\n",
            "Driver [C:\\Users\\ynk99\\.wdm\\drivers\\chromedriver\\win32\\100.0.4896.60\\chromedriver.exe] found in cache\n"
          ]
        },
        {
          "name": "stdout",
          "output_type": "stream",
          "text": [
            "52 6 2\n",
            "step1 loop\n"
          ]
        },
        {
          "name": "stderr",
          "output_type": "stream",
          "text": [
            "\n",
            "\n",
            "====== WebDriver manager ======\n"
          ]
        },
        {
          "name": "stdout",
          "output_type": "stream",
          "text": [
            "step 마지막 loop\n"
          ]
        },
        {
          "name": "stderr",
          "output_type": "stream",
          "text": [
            "Current google-chrome version is 100.0.4896\n",
            "Get LATEST chromedriver version for 100.0.4896 google-chrome\n",
            "Driver [C:\\Users\\ynk99\\.wdm\\drivers\\chromedriver\\win32\\100.0.4896.60\\chromedriver.exe] found in cache\n"
          ]
        },
        {
          "name": "stdout",
          "output_type": "stream",
          "text": [
            "26 3 1\n",
            "step1 loop\n"
          ]
        },
        {
          "name": "stderr",
          "output_type": "stream",
          "text": [
            "\n",
            "\n",
            "====== WebDriver manager ======\n",
            "Current google-chrome version is 100.0.4896\n",
            "Get LATEST chromedriver version for 100.0.4896 google-chrome\n",
            "Driver [C:\\Users\\ynk99\\.wdm\\drivers\\chromedriver\\win32\\100.0.4896.60\\chromedriver.exe] found in cache\n"
          ]
        },
        {
          "name": "stdout",
          "output_type": "stream",
          "text": [
            "100 11 3\n",
            "step1 loop\n"
          ]
        },
        {
          "name": "stderr",
          "output_type": "stream",
          "text": [
            "\n",
            "\n",
            "====== WebDriver manager ======\n",
            "Current google-chrome version is 100.0.4896\n",
            "Get LATEST chromedriver version for 100.0.4896 google-chrome\n",
            "Driver [C:\\Users\\ynk99\\.wdm\\drivers\\chromedriver\\win32\\100.0.4896.60\\chromedriver.exe] found in cache\n"
          ]
        },
        {
          "name": "stdout",
          "output_type": "stream",
          "text": [
            "23 3 1\n",
            "step1 loop\n"
          ]
        },
        {
          "name": "stderr",
          "output_type": "stream",
          "text": [
            "\n",
            "\n",
            "====== WebDriver manager ======\n",
            "Current google-chrome version is 100.0.4896\n",
            "Get LATEST chromedriver version for 100.0.4896 google-chrome\n",
            "Driver [C:\\Users\\ynk99\\.wdm\\drivers\\chromedriver\\win32\\100.0.4896.60\\chromedriver.exe] found in cache\n"
          ]
        },
        {
          "name": "stdout",
          "output_type": "stream",
          "text": [
            "822 83 17\n",
            "step1 loop\n",
            "step 마지막 loop\n"
          ]
        },
        {
          "name": "stderr",
          "output_type": "stream",
          "text": [
            "\n",
            "\n",
            "====== WebDriver manager ======\n",
            "Current google-chrome version is 100.0.4896\n",
            "Get LATEST chromedriver version for 100.0.4896 google-chrome\n",
            "Driver [C:\\Users\\ynk99\\.wdm\\drivers\\chromedriver\\win32\\100.0.4896.60\\chromedriver.exe] found in cache\n"
          ]
        },
        {
          "name": "stdout",
          "output_type": "stream",
          "text": [
            "944 95 19\n",
            "step1 loop\n",
            "step 마지막 loop\n"
          ]
        },
        {
          "name": "stderr",
          "output_type": "stream",
          "text": [
            "\n",
            "\n",
            "====== WebDriver manager ======\n",
            "Current google-chrome version is 100.0.4896\n",
            "Get LATEST chromedriver version for 100.0.4896 google-chrome\n",
            "Driver [C:\\Users\\ynk99\\.wdm\\drivers\\chromedriver\\win32\\100.0.4896.60\\chromedriver.exe] found in cache\n"
          ]
        },
        {
          "name": "stdout",
          "output_type": "stream",
          "text": [
            "408 41 9\n",
            "step1 loop\n",
            "step 마지막 loop\n"
          ]
        },
        {
          "name": "stderr",
          "output_type": "stream",
          "text": [
            "\n",
            "\n",
            "====== WebDriver manager ======\n",
            "Current google-chrome version is 100.0.4896\n",
            "Get LATEST chromedriver version for 100.0.4896 google-chrome\n",
            "Driver [C:\\Users\\ynk99\\.wdm\\drivers\\chromedriver\\win32\\100.0.4896.60\\chromedriver.exe] found in cache\n"
          ]
        },
        {
          "name": "stdout",
          "output_type": "stream",
          "text": [
            "103 11 3\n",
            "step1 loop\n",
            "step 마지막 loop\n"
          ]
        },
        {
          "name": "stderr",
          "output_type": "stream",
          "text": [
            "\n",
            "\n",
            "====== WebDriver manager ======\n",
            "Current google-chrome version is 100.0.4896\n",
            "Get LATEST chromedriver version for 100.0.4896 google-chrome\n",
            "Driver [C:\\Users\\ynk99\\.wdm\\drivers\\chromedriver\\win32\\100.0.4896.60\\chromedriver.exe] found in cache\n"
          ]
        },
        {
          "name": "stdout",
          "output_type": "stream",
          "text": [
            "853 86 18\n",
            "step1 loop\n",
            "step 마지막 loop\n"
          ]
        },
        {
          "name": "stderr",
          "output_type": "stream",
          "text": [
            "\n",
            "\n",
            "====== WebDriver manager ======\n",
            "Current google-chrome version is 100.0.4896\n",
            "Get LATEST chromedriver version for 100.0.4896 google-chrome\n",
            "Driver [C:\\Users\\ynk99\\.wdm\\drivers\\chromedriver\\win32\\100.0.4896.60\\chromedriver.exe] found in cache\n"
          ]
        },
        {
          "name": "stdout",
          "output_type": "stream",
          "text": [
            "1082 109 22\n",
            "step1 loop\n",
            "step 마지막 loop\n"
          ]
        },
        {
          "name": "stderr",
          "output_type": "stream",
          "text": [
            "\n",
            "\n",
            "====== WebDriver manager ======\n",
            "Current google-chrome version is 100.0.4896\n",
            "Get LATEST chromedriver version for 100.0.4896 google-chrome\n",
            "Driver [C:\\Users\\ynk99\\.wdm\\drivers\\chromedriver\\win32\\100.0.4896.60\\chromedriver.exe] found in cache\n"
          ]
        },
        {
          "name": "stdout",
          "output_type": "stream",
          "text": [
            "980 99 20\n",
            "step1 loop\n",
            "step 마지막 loop\n"
          ]
        },
        {
          "name": "stderr",
          "output_type": "stream",
          "text": [
            "\n",
            "\n",
            "====== WebDriver manager ======\n",
            "Current google-chrome version is 100.0.4896\n",
            "Get LATEST chromedriver version for 100.0.4896 google-chrome\n",
            "Driver [C:\\Users\\ynk99\\.wdm\\drivers\\chromedriver\\win32\\100.0.4896.60\\chromedriver.exe] found in cache\n"
          ]
        },
        {
          "name": "stdout",
          "output_type": "stream",
          "text": [
            "293 30 6\n",
            "step1 loop\n",
            "step 마지막 loop\n"
          ]
        },
        {
          "name": "stderr",
          "output_type": "stream",
          "text": [
            "\n",
            "\n",
            "====== WebDriver manager ======\n",
            "Current google-chrome version is 100.0.4896\n",
            "Get LATEST chromedriver version for 100.0.4896 google-chrome\n",
            "Driver [C:\\Users\\ynk99\\.wdm\\drivers\\chromedriver\\win32\\100.0.4896.60\\chromedriver.exe] found in cache\n"
          ]
        },
        {
          "name": "stdout",
          "output_type": "stream",
          "text": [
            "134 14 3\n",
            "step1 loop\n",
            "step 마지막 loop\n"
          ]
        },
        {
          "name": "stderr",
          "output_type": "stream",
          "text": [
            "\n",
            "\n",
            "====== WebDriver manager ======\n",
            "Current google-chrome version is 100.0.4896\n",
            "Get LATEST chromedriver version for 100.0.4896 google-chrome\n",
            "Driver [C:\\Users\\ynk99\\.wdm\\drivers\\chromedriver\\win32\\100.0.4896.60\\chromedriver.exe] found in cache\n"
          ]
        },
        {
          "name": "stdout",
          "output_type": "stream",
          "text": [
            "255 26 6\n",
            "step1 loop\n",
            "step 마지막 loop\n"
          ]
        },
        {
          "name": "stderr",
          "output_type": "stream",
          "text": [
            "\n",
            "\n",
            "====== WebDriver manager ======\n",
            "Current google-chrome version is 100.0.4896\n",
            "Get LATEST chromedriver version for 100.0.4896 google-chrome\n",
            "Driver [C:\\Users\\ynk99\\.wdm\\drivers\\chromedriver\\win32\\100.0.4896.60\\chromedriver.exe] found in cache\n"
          ]
        },
        {
          "name": "stdout",
          "output_type": "stream",
          "text": [
            "869 87 18\n",
            "step1 loop\n",
            "step 마지막 loop\n"
          ]
        },
        {
          "name": "stderr",
          "output_type": "stream",
          "text": [
            "\n",
            "\n",
            "====== WebDriver manager ======\n",
            "Current google-chrome version is 100.0.4896\n",
            "Get LATEST chromedriver version for 100.0.4896 google-chrome\n",
            "Driver [C:\\Users\\ynk99\\.wdm\\drivers\\chromedriver\\win32\\100.0.4896.60\\chromedriver.exe] found in cache\n"
          ]
        },
        {
          "name": "stdout",
          "output_type": "stream",
          "text": [
            "153 16 4\n",
            "step1 loop\n"
          ]
        },
        {
          "name": "stderr",
          "output_type": "stream",
          "text": [
            "\n",
            "\n"
          ]
        },
        {
          "name": "stdout",
          "output_type": "stream",
          "text": [
            "step 마지막 loop\n"
          ]
        },
        {
          "name": "stderr",
          "output_type": "stream",
          "text": [
            "====== WebDriver manager ======\n",
            "Current google-chrome version is 100.0.4896\n",
            "Get LATEST chromedriver version for 100.0.4896 google-chrome\n",
            "Driver [C:\\Users\\ynk99\\.wdm\\drivers\\chromedriver\\win32\\100.0.4896.60\\chromedriver.exe] found in cache\n"
          ]
        },
        {
          "name": "stdout",
          "output_type": "stream",
          "text": [
            "189 19 4\n",
            "step1 loop\n",
            "step 마지막 loop\n"
          ]
        },
        {
          "name": "stderr",
          "output_type": "stream",
          "text": [
            "\n",
            "\n",
            "====== WebDriver manager ======\n",
            "Current google-chrome version is 100.0.4896\n",
            "Get LATEST chromedriver version for 100.0.4896 google-chrome\n",
            "Driver [C:\\Users\\ynk99\\.wdm\\drivers\\chromedriver\\win32\\100.0.4896.60\\chromedriver.exe] found in cache\n"
          ]
        },
        {
          "name": "stdout",
          "output_type": "stream",
          "text": [
            "237 24 5\n",
            "step1 loop\n",
            "step 마지막 loop\n"
          ]
        },
        {
          "name": "stderr",
          "output_type": "stream",
          "text": [
            "\n",
            "\n",
            "====== WebDriver manager ======\n",
            "Current google-chrome version is 100.0.4896\n",
            "Get LATEST chromedriver version for 100.0.4896 google-chrome\n",
            "Driver [C:\\Users\\ynk99\\.wdm\\drivers\\chromedriver\\win32\\100.0.4896.60\\chromedriver.exe] found in cache\n"
          ]
        },
        {
          "name": "stdout",
          "output_type": "stream",
          "text": [
            "218 22 5\n",
            "step1 loop\n",
            "step 마지막 loop\n"
          ]
        },
        {
          "name": "stderr",
          "output_type": "stream",
          "text": [
            "\n",
            "\n",
            "====== WebDriver manager ======\n",
            "Current google-chrome version is 100.0.4896\n",
            "Get LATEST chromedriver version for 100.0.4896 google-chrome\n",
            "Driver [C:\\Users\\ynk99\\.wdm\\drivers\\chromedriver\\win32\\100.0.4896.60\\chromedriver.exe] found in cache\n"
          ]
        },
        {
          "name": "stdout",
          "output_type": "stream",
          "text": [
            "620 63 13\n",
            "step1 loop\n",
            "step 마지막 loop\n"
          ]
        },
        {
          "name": "stderr",
          "output_type": "stream",
          "text": [
            "\n",
            "\n",
            "====== WebDriver manager ======\n",
            "Current google-chrome version is 100.0.4896\n",
            "Get LATEST chromedriver version for 100.0.4896 google-chrome\n",
            "Driver [C:\\Users\\ynk99\\.wdm\\drivers\\chromedriver\\win32\\100.0.4896.60\\chromedriver.exe] found in cache\n"
          ]
        },
        {
          "name": "stdout",
          "output_type": "stream",
          "text": [
            "177 18 4\n",
            "step1 loop\n",
            "step 마지막 loop\n"
          ]
        },
        {
          "name": "stderr",
          "output_type": "stream",
          "text": [
            "\n",
            "\n",
            "====== WebDriver manager ======\n",
            "Current google-chrome version is 100.0.4896\n",
            "Get LATEST chromedriver version for 100.0.4896 google-chrome\n",
            "Driver [C:\\Users\\ynk99\\.wdm\\drivers\\chromedriver\\win32\\100.0.4896.60\\chromedriver.exe] found in cache\n"
          ]
        },
        {
          "name": "stdout",
          "output_type": "stream",
          "text": [
            "122 13 3\n",
            "step1 loop\n",
            "step 마지막 loop\n"
          ]
        },
        {
          "name": "stderr",
          "output_type": "stream",
          "text": [
            "\n",
            "\n",
            "====== WebDriver manager ======\n",
            "Current google-chrome version is 100.0.4896\n",
            "Get LATEST chromedriver version for 100.0.4896 google-chrome\n",
            "Driver [C:\\Users\\ynk99\\.wdm\\drivers\\chromedriver\\win32\\100.0.4896.60\\chromedriver.exe] found in cache\n"
          ]
        },
        {
          "name": "stdout",
          "output_type": "stream",
          "text": [
            "37 4 1\n",
            "step1 loop\n"
          ]
        },
        {
          "name": "stderr",
          "output_type": "stream",
          "text": [
            "\n",
            "\n",
            "====== WebDriver manager ======\n",
            "Current google-chrome version is 100.0.4896\n",
            "Get LATEST chromedriver version for 100.0.4896 google-chrome\n",
            "Driver [C:\\Users\\ynk99\\.wdm\\drivers\\chromedriver\\win32\\100.0.4896.60\\chromedriver.exe] found in cache\n"
          ]
        },
        {
          "name": "stdout",
          "output_type": "stream",
          "text": [
            "26 3 1\n",
            "step1 loop\n"
          ]
        },
        {
          "name": "stderr",
          "output_type": "stream",
          "text": [
            "\n",
            "\n",
            "====== WebDriver manager ======\n",
            "Current google-chrome version is 100.0.4896\n",
            "Get LATEST chromedriver version for 100.0.4896 google-chrome\n",
            "Driver [C:\\Users\\ynk99\\.wdm\\drivers\\chromedriver\\win32\\100.0.4896.60\\chromedriver.exe] found in cache\n"
          ]
        },
        {
          "name": "stdout",
          "output_type": "stream",
          "text": [
            "25 3 1\n",
            "step1 loop\n"
          ]
        },
        {
          "name": "stderr",
          "output_type": "stream",
          "text": [
            "\n",
            "\n",
            "====== WebDriver manager ======\n",
            "Current google-chrome version is 100.0.4896\n",
            "Get LATEST chromedriver version for 100.0.4896 google-chrome\n",
            "Driver [C:\\Users\\ynk99\\.wdm\\drivers\\chromedriver\\win32\\100.0.4896.60\\chromedriver.exe] found in cache\n"
          ]
        },
        {
          "name": "stdout",
          "output_type": "stream",
          "text": [
            "402 41 9\n",
            "step1 loop\n"
          ]
        },
        {
          "name": "stderr",
          "output_type": "stream",
          "text": [
            "\n",
            "\n",
            "====== WebDriver manager ======\n"
          ]
        },
        {
          "name": "stdout",
          "output_type": "stream",
          "text": [
            "step 마지막 loop\n"
          ]
        },
        {
          "name": "stderr",
          "output_type": "stream",
          "text": [
            "Current google-chrome version is 100.0.4896\n",
            "Get LATEST chromedriver version for 100.0.4896 google-chrome\n",
            "Driver [C:\\Users\\ynk99\\.wdm\\drivers\\chromedriver\\win32\\100.0.4896.60\\chromedriver.exe] found in cache\n"
          ]
        },
        {
          "name": "stdout",
          "output_type": "stream",
          "text": [
            "27 3 1\n",
            "step1 loop\n"
          ]
        },
        {
          "name": "stderr",
          "output_type": "stream",
          "text": [
            "\n",
            "\n",
            "====== WebDriver manager ======\n",
            "Current google-chrome version is 100.0.4896\n",
            "Get LATEST chromedriver version for 100.0.4896 google-chrome\n",
            "Driver [C:\\Users\\ynk99\\.wdm\\drivers\\chromedriver\\win32\\100.0.4896.60\\chromedriver.exe] found in cache\n"
          ]
        },
        {
          "name": "stdout",
          "output_type": "stream",
          "text": [
            "12 2 1\n",
            "step1 loop\n"
          ]
        },
        {
          "name": "stderr",
          "output_type": "stream",
          "text": [
            "\n",
            "\n",
            "====== WebDriver manager ======\n",
            "Current google-chrome version is 100.0.4896\n",
            "Get LATEST chromedriver version for 100.0.4896 google-chrome\n",
            "Driver [C:\\Users\\ynk99\\.wdm\\drivers\\chromedriver\\win32\\100.0.4896.60\\chromedriver.exe] found in cache\n",
            "\n",
            "\n",
            "====== WebDriver manager ======\n",
            "Current google-chrome version is 100.0.4896\n",
            "Get LATEST chromedriver version for 100.0.4896 google-chrome\n",
            "Driver [C:\\Users\\ynk99\\.wdm\\drivers\\chromedriver\\win32\\100.0.4896.60\\chromedriver.exe] found in cache\n",
            "\n",
            "\n"
          ]
        },
        {
          "name": "stdout",
          "output_type": "stream",
          "text": [
            "1 1 1\n",
            "step1 loop\n"
          ]
        },
        {
          "name": "stderr",
          "output_type": "stream",
          "text": [
            "====== WebDriver manager ======\n",
            "Current google-chrome version is 100.0.4896\n",
            "Get LATEST chromedriver version for 100.0.4896 google-chrome\n",
            "Driver [C:\\Users\\ynk99\\.wdm\\drivers\\chromedriver\\win32\\100.0.4896.60\\chromedriver.exe] found in cache\n"
          ]
        },
        {
          "name": "stdout",
          "output_type": "stream",
          "text": [
            "256 26 6\n",
            "step1 loop\n",
            "step 마지막 loop\n"
          ]
        },
        {
          "name": "stderr",
          "output_type": "stream",
          "text": [
            "\n",
            "\n",
            "====== WebDriver manager ======\n",
            "Current google-chrome version is 100.0.4896\n",
            "Get LATEST chromedriver version for 100.0.4896 google-chrome\n",
            "Driver [C:\\Users\\ynk99\\.wdm\\drivers\\chromedriver\\win32\\100.0.4896.60\\chromedriver.exe] found in cache\n"
          ]
        },
        {
          "name": "stdout",
          "output_type": "stream",
          "text": [
            "56 6 2\n",
            "step1 loop\n",
            "step 마지막 loop\n"
          ]
        },
        {
          "name": "stderr",
          "output_type": "stream",
          "text": [
            "\n",
            "\n",
            "====== WebDriver manager ======\n",
            "Current google-chrome version is 100.0.4896\n",
            "Get LATEST chromedriver version for 100.0.4896 google-chrome\n",
            "Driver [C:\\Users\\ynk99\\.wdm\\drivers\\chromedriver\\win32\\100.0.4896.60\\chromedriver.exe] found in cache\n"
          ]
        },
        {
          "name": "stdout",
          "output_type": "stream",
          "text": [
            "1193 120 24\n",
            "step1 loop\n",
            "step 마지막 loop\n"
          ]
        },
        {
          "name": "stderr",
          "output_type": "stream",
          "text": [
            "\n",
            "\n",
            "====== WebDriver manager ======\n",
            "Current google-chrome version is 100.0.4896\n",
            "Get LATEST chromedriver version for 100.0.4896 google-chrome\n",
            "Driver [C:\\Users\\ynk99\\.wdm\\drivers\\chromedriver\\win32\\100.0.4896.60\\chromedriver.exe] found in cache\n"
          ]
        },
        {
          "name": "stdout",
          "output_type": "stream",
          "text": [
            "18 2 1\n",
            "step1 loop\n"
          ]
        },
        {
          "name": "stderr",
          "output_type": "stream",
          "text": [
            "\n",
            "\n",
            "====== WebDriver manager ======\n",
            "Current google-chrome version is 100.0.4896\n",
            "Get LATEST chromedriver version for 100.0.4896 google-chrome\n",
            "Driver [C:\\Users\\ynk99\\.wdm\\drivers\\chromedriver\\win32\\100.0.4896.60\\chromedriver.exe] found in cache\n"
          ]
        },
        {
          "name": "stdout",
          "output_type": "stream",
          "text": [
            "71 8 2\n",
            "step1 loop\n",
            "step 마지막 loop\n"
          ]
        },
        {
          "name": "stderr",
          "output_type": "stream",
          "text": [
            "\n",
            "\n",
            "====== WebDriver manager ======\n",
            "Current google-chrome version is 100.0.4896\n",
            "Get LATEST chromedriver version for 100.0.4896 google-chrome\n",
            "Driver [C:\\Users\\ynk99\\.wdm\\drivers\\chromedriver\\win32\\100.0.4896.60\\chromedriver.exe] found in cache\n"
          ]
        },
        {
          "name": "stdout",
          "output_type": "stream",
          "text": [
            "217 22 5\n",
            "step1 loop\n",
            "step 마지막 loop\n"
          ]
        },
        {
          "name": "stderr",
          "output_type": "stream",
          "text": [
            "\n",
            "\n",
            "====== WebDriver manager ======\n",
            "Current google-chrome version is 100.0.4896\n",
            "Get LATEST chromedriver version for 100.0.4896 google-chrome\n",
            "Driver [C:\\Users\\ynk99\\.wdm\\drivers\\chromedriver\\win32\\100.0.4896.60\\chromedriver.exe] found in cache\n"
          ]
        },
        {
          "name": "stdout",
          "output_type": "stream",
          "text": [
            "299 30 6\n",
            "step1 loop\n",
            "step 마지막 loop\n"
          ]
        },
        {
          "name": "stderr",
          "output_type": "stream",
          "text": [
            "\n",
            "\n",
            "====== WebDriver manager ======\n",
            "Current google-chrome version is 100.0.4896\n",
            "Get LATEST chromedriver version for 100.0.4896 google-chrome\n",
            "Driver [C:\\Users\\ynk99\\.wdm\\drivers\\chromedriver\\win32\\100.0.4896.60\\chromedriver.exe] found in cache\n"
          ]
        },
        {
          "name": "stdout",
          "output_type": "stream",
          "text": [
            "17 2 1\n",
            "step1 loop\n"
          ]
        },
        {
          "name": "stderr",
          "output_type": "stream",
          "text": [
            "\n",
            "\n",
            "====== WebDriver manager ======\n",
            "Current google-chrome version is 100.0.4896\n",
            "Get LATEST chromedriver version for 100.0.4896 google-chrome\n",
            "Driver [C:\\Users\\ynk99\\.wdm\\drivers\\chromedriver\\win32\\100.0.4896.60\\chromedriver.exe] found in cache\n"
          ]
        },
        {
          "name": "stdout",
          "output_type": "stream",
          "text": [
            "1101 111 23\n",
            "step1 loop\n"
          ]
        },
        {
          "name": "stderr",
          "output_type": "stream",
          "text": [
            "\n",
            "\n"
          ]
        },
        {
          "name": "stdout",
          "output_type": "stream",
          "text": [
            "step 마지막 loop\n"
          ]
        },
        {
          "name": "stderr",
          "output_type": "stream",
          "text": [
            "====== WebDriver manager ======\n",
            "Current google-chrome version is 100.0.4896\n",
            "Get LATEST chromedriver version for 100.0.4896 google-chrome\n",
            "Driver [C:\\Users\\ynk99\\.wdm\\drivers\\chromedriver\\win32\\100.0.4896.60\\chromedriver.exe] found in cache\n"
          ]
        },
        {
          "name": "stdout",
          "output_type": "stream",
          "text": [
            "1114 112 23\n",
            "step1 loop\n",
            "step 마지막 loop\n"
          ]
        },
        {
          "name": "stderr",
          "output_type": "stream",
          "text": [
            "\n",
            "\n",
            "====== WebDriver manager ======\n",
            "Current google-chrome version is 100.0.4896\n",
            "Get LATEST chromedriver version for 100.0.4896 google-chrome\n",
            "Driver [C:\\Users\\ynk99\\.wdm\\drivers\\chromedriver\\win32\\100.0.4896.60\\chromedriver.exe] found in cache\n"
          ]
        },
        {
          "name": "stdout",
          "output_type": "stream",
          "text": [
            "1086 109 22\n",
            "step1 loop\n",
            "step 마지막 loop\n"
          ]
        },
        {
          "name": "stderr",
          "output_type": "stream",
          "text": [
            "\n",
            "\n",
            "====== WebDriver manager ======\n",
            "Current google-chrome version is 100.0.4896\n",
            "Get LATEST chromedriver version for 100.0.4896 google-chrome\n",
            "Driver [C:\\Users\\ynk99\\.wdm\\drivers\\chromedriver\\win32\\100.0.4896.60\\chromedriver.exe] found in cache\n"
          ]
        },
        {
          "name": "stdout",
          "output_type": "stream",
          "text": [
            "336 34 7\n",
            "step1 loop\n",
            "step 마지막 loop\n"
          ]
        },
        {
          "name": "stderr",
          "output_type": "stream",
          "text": [
            "\n",
            "\n",
            "====== WebDriver manager ======\n",
            "Current google-chrome version is 100.0.4896\n",
            "Get LATEST chromedriver version for 100.0.4896 google-chrome\n",
            "Driver [C:\\Users\\ynk99\\.wdm\\drivers\\chromedriver\\win32\\100.0.4896.60\\chromedriver.exe] found in cache\n"
          ]
        },
        {
          "name": "stdout",
          "output_type": "stream",
          "text": [
            "419 42 9\n",
            "step1 loop\n",
            "step 마지막 loop\n"
          ]
        },
        {
          "name": "stderr",
          "output_type": "stream",
          "text": [
            "\n",
            "\n",
            "====== WebDriver manager ======\n",
            "Current google-chrome version is 100.0.4896\n",
            "Get LATEST chromedriver version for 100.0.4896 google-chrome\n",
            "Driver [C:\\Users\\ynk99\\.wdm\\drivers\\chromedriver\\win32\\100.0.4896.60\\chromedriver.exe] found in cache\n"
          ]
        },
        {
          "name": "stdout",
          "output_type": "stream",
          "text": [
            "312 32 7\n",
            "step1 loop\n",
            "step 마지막 loop\n"
          ]
        },
        {
          "name": "stderr",
          "output_type": "stream",
          "text": [
            "\n",
            "\n",
            "====== WebDriver manager ======\n",
            "Current google-chrome version is 100.0.4896\n",
            "Get LATEST chromedriver version for 100.0.4896 google-chrome\n",
            "Driver [C:\\Users\\ynk99\\.wdm\\drivers\\chromedriver\\win32\\100.0.4896.60\\chromedriver.exe] found in cache\n"
          ]
        },
        {
          "name": "stdout",
          "output_type": "stream",
          "text": [
            "261 27 6\n",
            "step1 loop\n",
            "step 마지막 loop\n"
          ]
        },
        {
          "name": "stderr",
          "output_type": "stream",
          "text": [
            "\n",
            "\n",
            "====== WebDriver manager ======\n",
            "Current google-chrome version is 100.0.4896\n",
            "Get LATEST chromedriver version for 100.0.4896 google-chrome\n",
            "Driver [C:\\Users\\ynk99\\.wdm\\drivers\\chromedriver\\win32\\100.0.4896.60\\chromedriver.exe] found in cache\n"
          ]
        },
        {
          "name": "stdout",
          "output_type": "stream",
          "text": [
            "334 34 7\n",
            "step1 loop\n",
            "step 마지막 loop\n"
          ]
        },
        {
          "name": "stderr",
          "output_type": "stream",
          "text": [
            "\n",
            "\n",
            "====== WebDriver manager ======\n",
            "Current google-chrome version is 100.0.4896\n",
            "Get LATEST chromedriver version for 100.0.4896 google-chrome\n",
            "Driver [C:\\Users\\ynk99\\.wdm\\drivers\\chromedriver\\win32\\100.0.4896.60\\chromedriver.exe] found in cache\n"
          ]
        },
        {
          "name": "stdout",
          "output_type": "stream",
          "text": [
            "137 14 3\n",
            "step1 loop\n",
            "step 마지막 loop\n"
          ]
        },
        {
          "name": "stderr",
          "output_type": "stream",
          "text": [
            "\n",
            "\n",
            "====== WebDriver manager ======\n",
            "Current google-chrome version is 100.0.4896\n",
            "Get LATEST chromedriver version for 100.0.4896 google-chrome\n",
            "Driver [C:\\Users\\ynk99\\.wdm\\drivers\\chromedriver\\win32\\100.0.4896.60\\chromedriver.exe] found in cache\n"
          ]
        },
        {
          "name": "stdout",
          "output_type": "stream",
          "text": [
            "94 10 2\n",
            "step1 loop\n",
            "step 마지막 loop\n"
          ]
        },
        {
          "name": "stderr",
          "output_type": "stream",
          "text": [
            "\n",
            "\n",
            "====== WebDriver manager ======\n",
            "Current google-chrome version is 100.0.4896\n",
            "Get LATEST chromedriver version for 100.0.4896 google-chrome\n",
            "Driver [C:\\Users\\ynk99\\.wdm\\drivers\\chromedriver\\win32\\100.0.4896.60\\chromedriver.exe] found in cache\n"
          ]
        },
        {
          "name": "stdout",
          "output_type": "stream",
          "text": [
            "688 69 14\n",
            "step1 loop\n",
            "step 마지막 loop\n"
          ]
        },
        {
          "name": "stderr",
          "output_type": "stream",
          "text": [
            "\n",
            "\n",
            "====== WebDriver manager ======\n",
            "Current google-chrome version is 100.0.4896\n",
            "Get LATEST chromedriver version for 100.0.4896 google-chrome\n",
            "Driver [C:\\Users\\ynk99\\.wdm\\drivers\\chromedriver\\win32\\100.0.4896.60\\chromedriver.exe] found in cache\n"
          ]
        },
        {
          "name": "stdout",
          "output_type": "stream",
          "text": [
            "1828 183 37\n",
            "step1 loop\n",
            "step 마지막 loop\n"
          ]
        },
        {
          "name": "stderr",
          "output_type": "stream",
          "text": [
            "\n",
            "\n",
            "====== WebDriver manager ======\n",
            "Current google-chrome version is 100.0.4896\n",
            "Get LATEST chromedriver version for 100.0.4896 google-chrome\n",
            "Driver [C:\\Users\\ynk99\\.wdm\\drivers\\chromedriver\\win32\\100.0.4896.60\\chromedriver.exe] found in cache\n"
          ]
        },
        {
          "name": "stdout",
          "output_type": "stream",
          "text": [
            "563 57 12\n",
            "step1 loop\n",
            "step 마지막 loop\n"
          ]
        },
        {
          "name": "stderr",
          "output_type": "stream",
          "text": [
            "\n",
            "\n",
            "====== WebDriver manager ======\n",
            "Current google-chrome version is 100.0.4896\n",
            "Get LATEST chromedriver version for 100.0.4896 google-chrome\n",
            "Driver [C:\\Users\\ynk99\\.wdm\\drivers\\chromedriver\\win32\\100.0.4896.60\\chromedriver.exe] found in cache\n"
          ]
        },
        {
          "name": "stdout",
          "output_type": "stream",
          "text": [
            "1319 132 27\n",
            "step1 loop\n",
            "step 마지막 loop\n"
          ]
        },
        {
          "name": "stderr",
          "output_type": "stream",
          "text": [
            "\n",
            "\n",
            "====== WebDriver manager ======\n",
            "Current google-chrome version is 100.0.4896\n",
            "Get LATEST chromedriver version for 100.0.4896 google-chrome\n",
            "Driver [C:\\Users\\ynk99\\.wdm\\drivers\\chromedriver\\win32\\100.0.4896.60\\chromedriver.exe] found in cache\n"
          ]
        },
        {
          "name": "stdout",
          "output_type": "stream",
          "text": [
            "1421 143 29\n",
            "step1 loop\n",
            "step 마지막 loop\n"
          ]
        },
        {
          "name": "stderr",
          "output_type": "stream",
          "text": [
            "\n",
            "\n",
            "====== WebDriver manager ======\n",
            "Current google-chrome version is 100.0.4896\n",
            "Get LATEST chromedriver version for 100.0.4896 google-chrome\n",
            "Driver [C:\\Users\\ynk99\\.wdm\\drivers\\chromedriver\\win32\\100.0.4896.60\\chromedriver.exe] found in cache\n"
          ]
        },
        {
          "name": "stdout",
          "output_type": "stream",
          "text": [
            "1370 138 28\n",
            "step1 loop\n",
            "step 마지막 loop\n"
          ]
        },
        {
          "name": "stderr",
          "output_type": "stream",
          "text": [
            "\n",
            "\n",
            "====== WebDriver manager ======\n",
            "Current google-chrome version is 100.0.4896\n",
            "Get LATEST chromedriver version for 100.0.4896 google-chrome\n",
            "Driver [C:\\Users\\ynk99\\.wdm\\drivers\\chromedriver\\win32\\100.0.4896.60\\chromedriver.exe] found in cache\n"
          ]
        },
        {
          "name": "stdout",
          "output_type": "stream",
          "text": [
            "839 84 17\n",
            "step1 loop\n",
            "step 마지막 loop\n"
          ]
        },
        {
          "name": "stderr",
          "output_type": "stream",
          "text": [
            "\n",
            "\n",
            "====== WebDriver manager ======\n",
            "Current google-chrome version is 100.0.4896\n",
            "Get LATEST chromedriver version for 100.0.4896 google-chrome\n",
            "Driver [C:\\Users\\ynk99\\.wdm\\drivers\\chromedriver\\win32\\100.0.4896.60\\chromedriver.exe] found in cache\n"
          ]
        },
        {
          "name": "stdout",
          "output_type": "stream",
          "text": [
            "572 58 12\n",
            "step1 loop\n",
            "step 마지막 loop\n"
          ]
        },
        {
          "name": "stderr",
          "output_type": "stream",
          "text": [
            "\n",
            "\n",
            "====== WebDriver manager ======\n",
            "Current google-chrome version is 100.0.4896\n",
            "Get LATEST chromedriver version for 100.0.4896 google-chrome\n",
            "Driver [C:\\Users\\ynk99\\.wdm\\drivers\\chromedriver\\win32\\100.0.4896.60\\chromedriver.exe] found in cache\n"
          ]
        },
        {
          "name": "stdout",
          "output_type": "stream",
          "text": [
            "1284 129 26\n",
            "step1 loop\n",
            "step 마지막 loop\n"
          ]
        },
        {
          "name": "stderr",
          "output_type": "stream",
          "text": [
            "\n",
            "\n",
            "====== WebDriver manager ======\n",
            "Current google-chrome version is 100.0.4896\n",
            "Get LATEST chromedriver version for 100.0.4896 google-chrome\n",
            "Driver [C:\\Users\\ynk99\\.wdm\\drivers\\chromedriver\\win32\\100.0.4896.60\\chromedriver.exe] found in cache\n"
          ]
        },
        {
          "name": "stdout",
          "output_type": "stream",
          "text": [
            "2018 202 41\n",
            "step1 loop\n",
            "step 마지막 loop\n"
          ]
        },
        {
          "name": "stderr",
          "output_type": "stream",
          "text": [
            "\n",
            "\n",
            "====== WebDriver manager ======\n",
            "Current google-chrome version is 100.0.4896\n",
            "Get LATEST chromedriver version for 100.0.4896 google-chrome\n",
            "Driver [C:\\Users\\ynk99\\.wdm\\drivers\\chromedriver\\win32\\100.0.4896.60\\chromedriver.exe] found in cache\n"
          ]
        },
        {
          "name": "stdout",
          "output_type": "stream",
          "text": [
            "740 75 15\n",
            "step1 loop\n",
            "step 마지막 loop\n"
          ]
        },
        {
          "name": "stderr",
          "output_type": "stream",
          "text": [
            "\n",
            "\n",
            "====== WebDriver manager ======\n",
            "Current google-chrome version is 100.0.4896\n",
            "Get LATEST chromedriver version for 100.0.4896 google-chrome\n",
            "Driver [C:\\Users\\ynk99\\.wdm\\drivers\\chromedriver\\win32\\100.0.4896.60\\chromedriver.exe] found in cache\n"
          ]
        },
        {
          "name": "stdout",
          "output_type": "stream",
          "text": [
            "410 42 9\n",
            "step1 loop\n",
            "step 마지막 loop\n"
          ]
        },
        {
          "name": "stderr",
          "output_type": "stream",
          "text": [
            "\n",
            "\n",
            "====== WebDriver manager ======\n",
            "Current google-chrome version is 100.0.4896\n",
            "Get LATEST chromedriver version for 100.0.4896 google-chrome\n",
            "Driver [C:\\Users\\ynk99\\.wdm\\drivers\\chromedriver\\win32\\100.0.4896.60\\chromedriver.exe] found in cache\n"
          ]
        },
        {
          "name": "stdout",
          "output_type": "stream",
          "text": [
            "151 16 4\n",
            "step1 loop\n",
            "step 마지막 loop\n"
          ]
        },
        {
          "name": "stderr",
          "output_type": "stream",
          "text": [
            "\n",
            "\n",
            "====== WebDriver manager ======\n",
            "Current google-chrome version is 100.0.4896\n",
            "Get LATEST chromedriver version for 100.0.4896 google-chrome\n",
            "Driver [C:\\Users\\ynk99\\.wdm\\drivers\\chromedriver\\win32\\100.0.4896.60\\chromedriver.exe] found in cache\n"
          ]
        },
        {
          "name": "stdout",
          "output_type": "stream",
          "text": [
            "107 11 3\n",
            "step1 loop\n"
          ]
        },
        {
          "name": "stderr",
          "output_type": "stream",
          "text": [
            "\n",
            "\n",
            "====== WebDriver manager ======\n"
          ]
        },
        {
          "name": "stdout",
          "output_type": "stream",
          "text": [
            "step 마지막 loop\n"
          ]
        },
        {
          "name": "stderr",
          "output_type": "stream",
          "text": [
            "Current google-chrome version is 100.0.4896\n",
            "Get LATEST chromedriver version for 100.0.4896 google-chrome\n",
            "Driver [C:\\Users\\ynk99\\.wdm\\drivers\\chromedriver\\win32\\100.0.4896.60\\chromedriver.exe] found in cache\n"
          ]
        },
        {
          "name": "stdout",
          "output_type": "stream",
          "text": [
            "118 12 3\n",
            "step1 loop\n",
            "step 마지막 loop\n"
          ]
        },
        {
          "name": "stderr",
          "output_type": "stream",
          "text": [
            "\n",
            "\n",
            "====== WebDriver manager ======\n",
            "Current google-chrome version is 100.0.4896\n",
            "Get LATEST chromedriver version for 100.0.4896 google-chrome\n",
            "Driver [C:\\Users\\ynk99\\.wdm\\drivers\\chromedriver\\win32\\100.0.4896.60\\chromedriver.exe] found in cache\n"
          ]
        },
        {
          "name": "stdout",
          "output_type": "stream",
          "text": [
            "31 4 1\n",
            "step1 loop\n"
          ]
        },
        {
          "name": "stderr",
          "output_type": "stream",
          "text": [
            "\n",
            "\n",
            "====== WebDriver manager ======\n",
            "Current google-chrome version is 100.0.4896\n",
            "Get LATEST chromedriver version for 100.0.4896 google-chrome\n",
            "Driver [C:\\Users\\ynk99\\.wdm\\drivers\\chromedriver\\win32\\100.0.4896.60\\chromedriver.exe] found in cache\n"
          ]
        },
        {
          "name": "stdout",
          "output_type": "stream",
          "text": [
            "1176 118 24\n",
            "step1 loop\n",
            "step 마지막 loop\n"
          ]
        },
        {
          "name": "stderr",
          "output_type": "stream",
          "text": [
            "\n",
            "\n",
            "====== WebDriver manager ======\n",
            "Current google-chrome version is 100.0.4896\n",
            "Get LATEST chromedriver version for 100.0.4896 google-chrome\n",
            "Driver [C:\\Users\\ynk99\\.wdm\\drivers\\chromedriver\\win32\\100.0.4896.60\\chromedriver.exe] found in cache\n"
          ]
        },
        {
          "name": "stdout",
          "output_type": "stream",
          "text": [
            "49 5 1\n",
            "step1 loop\n"
          ]
        },
        {
          "name": "stderr",
          "output_type": "stream",
          "text": [
            "\n",
            "\n",
            "====== WebDriver manager ======\n",
            "Current google-chrome version is 100.0.4896\n",
            "Get LATEST chromedriver version for 100.0.4896 google-chrome\n",
            "Driver [C:\\Users\\ynk99\\.wdm\\drivers\\chromedriver\\win32\\100.0.4896.60\\chromedriver.exe] found in cache\n"
          ]
        },
        {
          "name": "stdout",
          "output_type": "stream",
          "text": [
            "8 1 1\n",
            "step1 loop\n"
          ]
        },
        {
          "name": "stderr",
          "output_type": "stream",
          "text": [
            "\n",
            "\n",
            "====== WebDriver manager ======\n",
            "Current google-chrome version is 100.0.4896\n",
            "Get LATEST chromedriver version for 100.0.4896 google-chrome\n",
            "Driver [C:\\Users\\ynk99\\.wdm\\drivers\\chromedriver\\win32\\100.0.4896.60\\chromedriver.exe] found in cache\n"
          ]
        },
        {
          "name": "stdout",
          "output_type": "stream",
          "text": [
            "154 16 4\n",
            "step1 loop\n"
          ]
        },
        {
          "name": "stderr",
          "output_type": "stream",
          "text": [
            "\n",
            "\n",
            "====== WebDriver manager ======\n"
          ]
        },
        {
          "name": "stdout",
          "output_type": "stream",
          "text": [
            "step 마지막 loop\n"
          ]
        },
        {
          "name": "stderr",
          "output_type": "stream",
          "text": [
            "Current google-chrome version is 100.0.4896\n",
            "Get LATEST chromedriver version for 100.0.4896 google-chrome\n",
            "Driver [C:\\Users\\ynk99\\.wdm\\drivers\\chromedriver\\win32\\100.0.4896.60\\chromedriver.exe] found in cache\n"
          ]
        },
        {
          "name": "stdout",
          "output_type": "stream",
          "text": [
            "289 29 6\n",
            "step1 loop\n",
            "step 마지막 loop\n"
          ]
        },
        {
          "name": "stderr",
          "output_type": "stream",
          "text": [
            "\n",
            "\n",
            "====== WebDriver manager ======\n",
            "Current google-chrome version is 100.0.4896\n",
            "Get LATEST chromedriver version for 100.0.4896 google-chrome\n",
            "Driver [C:\\Users\\ynk99\\.wdm\\drivers\\chromedriver\\win32\\100.0.4896.60\\chromedriver.exe] found in cache\n"
          ]
        },
        {
          "name": "stdout",
          "output_type": "stream",
          "text": [
            "37 4 1\n",
            "step1 loop\n"
          ]
        },
        {
          "name": "stderr",
          "output_type": "stream",
          "text": [
            "\n",
            "\n",
            "====== WebDriver manager ======\n",
            "Current google-chrome version is 100.0.4896\n",
            "Get LATEST chromedriver version for 100.0.4896 google-chrome\n",
            "Driver [C:\\Users\\ynk99\\.wdm\\drivers\\chromedriver\\win32\\100.0.4896.60\\chromedriver.exe] found in cache\n"
          ]
        },
        {
          "name": "stdout",
          "output_type": "stream",
          "text": [
            "54 6 2\n",
            "step1 loop\n",
            "step 마지막 loop\n"
          ]
        },
        {
          "name": "stderr",
          "output_type": "stream",
          "text": [
            "\n",
            "\n",
            "====== WebDriver manager ======\n",
            "Current google-chrome version is 100.0.4896\n",
            "Get LATEST chromedriver version for 100.0.4896 google-chrome\n",
            "Driver [C:\\Users\\ynk99\\.wdm\\drivers\\chromedriver\\win32\\100.0.4896.60\\chromedriver.exe] found in cache\n"
          ]
        },
        {
          "name": "stdout",
          "output_type": "stream",
          "text": [
            "2565 257 52\n",
            "step1 loop\n",
            "step 마지막 loop\n"
          ]
        },
        {
          "name": "stderr",
          "output_type": "stream",
          "text": [
            "\n",
            "\n",
            "====== WebDriver manager ======\n",
            "Current google-chrome version is 100.0.4896\n",
            "Get LATEST chromedriver version for 100.0.4896 google-chrome\n",
            "Driver [C:\\Users\\ynk99\\.wdm\\drivers\\chromedriver\\win32\\100.0.4896.60\\chromedriver.exe] found in cache\n"
          ]
        },
        {
          "name": "stdout",
          "output_type": "stream",
          "text": [
            "467 47 10\n",
            "step1 loop\n",
            "step 마지막 loop\n"
          ]
        },
        {
          "name": "stderr",
          "output_type": "stream",
          "text": [
            "\n",
            "\n",
            "====== WebDriver manager ======\n",
            "Current google-chrome version is 100.0.4896\n",
            "Get LATEST chromedriver version for 100.0.4896 google-chrome\n",
            "Driver [C:\\Users\\ynk99\\.wdm\\drivers\\chromedriver\\win32\\100.0.4896.60\\chromedriver.exe] found in cache\n"
          ]
        },
        {
          "name": "stdout",
          "output_type": "stream",
          "text": [
            "3710 372 75\n",
            "step1 loop\n",
            "step 마지막 loop\n"
          ]
        },
        {
          "name": "stderr",
          "output_type": "stream",
          "text": [
            "\n",
            "\n",
            "====== WebDriver manager ======\n",
            "Current google-chrome version is 100.0.4896\n",
            "Get LATEST chromedriver version for 100.0.4896 google-chrome\n",
            "Trying to download new driver from https://chromedriver.storage.googleapis.com/100.0.4896.60/chromedriver_win32.zip\n",
            "Driver has been saved in cache [C:\\Users\\ynk99\\.wdm\\drivers\\chromedriver\\win32\\100.0.4896.60]\n"
          ]
        },
        {
          "name": "stdout",
          "output_type": "stream",
          "text": [
            "1622 163 33\n",
            "step1 loop\n",
            "step 마지막 loop\n"
          ]
        },
        {
          "name": "stderr",
          "output_type": "stream",
          "text": [
            "\n",
            "\n",
            "====== WebDriver manager ======\n",
            "Current google-chrome version is 100.0.4896\n",
            "Get LATEST chromedriver version for 100.0.4896 google-chrome\n",
            "Driver [C:\\Users\\ynk99\\.wdm\\drivers\\chromedriver\\win32\\100.0.4896.60\\chromedriver.exe] found in cache\n"
          ]
        },
        {
          "name": "stdout",
          "output_type": "stream",
          "text": [
            "959 96 20\n",
            "step1 loop\n"
          ]
        },
        {
          "name": "stderr",
          "output_type": "stream",
          "text": [
            "\n",
            "\n",
            "====== WebDriver manager ======\n"
          ]
        },
        {
          "name": "stdout",
          "output_type": "stream",
          "text": [
            "step 마지막 loop\n"
          ]
        },
        {
          "name": "stderr",
          "output_type": "stream",
          "text": [
            "Current google-chrome version is 100.0.4896\n",
            "Get LATEST chromedriver version for 100.0.4896 google-chrome\n",
            "Driver [C:\\Users\\ynk99\\.wdm\\drivers\\chromedriver\\win32\\100.0.4896.60\\chromedriver.exe] found in cache\n"
          ]
        },
        {
          "name": "stdout",
          "output_type": "stream",
          "text": [
            "1269 127 26\n",
            "step1 loop\n",
            "step 마지막 loop\n"
          ]
        },
        {
          "name": "stderr",
          "output_type": "stream",
          "text": [
            "\n",
            "\n",
            "====== WebDriver manager ======\n",
            "Current google-chrome version is 100.0.4896\n",
            "Get LATEST chromedriver version for 100.0.4896 google-chrome\n",
            "Driver [C:\\Users\\ynk99\\.wdm\\drivers\\chromedriver\\win32\\100.0.4896.60\\chromedriver.exe] found in cache\n"
          ]
        },
        {
          "name": "stdout",
          "output_type": "stream",
          "text": [
            "69 7 2\n",
            "step1 loop\n",
            "step 마지막 loop\n"
          ]
        },
        {
          "name": "stderr",
          "output_type": "stream",
          "text": [
            "\n",
            "\n",
            "====== WebDriver manager ======\n",
            "Current google-chrome version is 100.0.4896\n",
            "Get LATEST chromedriver version for 100.0.4896 google-chrome\n",
            "Driver [C:\\Users\\ynk99\\.wdm\\drivers\\chromedriver\\win32\\100.0.4896.60\\chromedriver.exe] found in cache\n"
          ]
        },
        {
          "name": "stdout",
          "output_type": "stream",
          "text": [
            "70 8 2\n",
            "step1 loop\n",
            "step 마지막 loop\n"
          ]
        },
        {
          "name": "stderr",
          "output_type": "stream",
          "text": [
            "\n",
            "\n",
            "====== WebDriver manager ======\n",
            "Current google-chrome version is 100.0.4896\n",
            "Get LATEST chromedriver version for 100.0.4896 google-chrome\n",
            "Driver [C:\\Users\\ynk99\\.wdm\\drivers\\chromedriver\\win32\\100.0.4896.60\\chromedriver.exe] found in cache\n"
          ]
        },
        {
          "name": "stdout",
          "output_type": "stream",
          "text": [
            "417 42 9\n",
            "step1 loop\n",
            "step 마지막 loop\n"
          ]
        },
        {
          "name": "stderr",
          "output_type": "stream",
          "text": [
            "\n",
            "\n",
            "====== WebDriver manager ======\n",
            "Current google-chrome version is 100.0.4896\n",
            "Get LATEST chromedriver version for 100.0.4896 google-chrome\n",
            "Driver [C:\\Users\\ynk99\\.wdm\\drivers\\chromedriver\\win32\\100.0.4896.60\\chromedriver.exe] found in cache\n"
          ]
        },
        {
          "name": "stdout",
          "output_type": "stream",
          "text": [
            "1532 154 31\n",
            "step1 loop\n",
            "step 마지막 loop\n"
          ]
        },
        {
          "name": "stderr",
          "output_type": "stream",
          "text": [
            "\n",
            "\n",
            "====== WebDriver manager ======\n",
            "Current google-chrome version is 100.0.4896\n",
            "Get LATEST chromedriver version for 100.0.4896 google-chrome\n",
            "Driver [C:\\Users\\ynk99\\.wdm\\drivers\\chromedriver\\win32\\100.0.4896.60\\chromedriver.exe] found in cache\n"
          ]
        },
        {
          "name": "stdout",
          "output_type": "stream",
          "text": [
            "133 14 3\n",
            "step1 loop\n",
            "step 마지막 loop\n"
          ]
        },
        {
          "name": "stderr",
          "output_type": "stream",
          "text": [
            "\n",
            "\n",
            "====== WebDriver manager ======\n",
            "Current google-chrome version is 100.0.4896\n",
            "Get LATEST chromedriver version for 100.0.4896 google-chrome\n",
            "Driver [C:\\Users\\ynk99\\.wdm\\drivers\\chromedriver\\win32\\100.0.4896.60\\chromedriver.exe] found in cache\n"
          ]
        },
        {
          "name": "stdout",
          "output_type": "stream",
          "text": [
            "351 36 8\n",
            "step1 loop\n"
          ]
        },
        {
          "name": "stderr",
          "output_type": "stream",
          "text": [
            "\n",
            "\n",
            "====== WebDriver manager ======\n"
          ]
        },
        {
          "name": "stdout",
          "output_type": "stream",
          "text": [
            "step 마지막 loop\n"
          ]
        },
        {
          "name": "stderr",
          "output_type": "stream",
          "text": [
            "Current google-chrome version is 100.0.4896\n",
            "Get LATEST chromedriver version for 100.0.4896 google-chrome\n",
            "Driver [C:\\Users\\ynk99\\.wdm\\drivers\\chromedriver\\win32\\100.0.4896.60\\chromedriver.exe] found in cache\n"
          ]
        },
        {
          "name": "stdout",
          "output_type": "stream",
          "text": [
            "692 70 14\n",
            "step1 loop\n",
            "step 마지막 loop\n"
          ]
        },
        {
          "name": "stderr",
          "output_type": "stream",
          "text": [
            "\n",
            "\n",
            "====== WebDriver manager ======\n",
            "Current google-chrome version is 100.0.4896\n",
            "Get LATEST chromedriver version for 100.0.4896 google-chrome\n",
            "Driver [C:\\Users\\ynk99\\.wdm\\drivers\\chromedriver\\win32\\100.0.4896.60\\chromedriver.exe] found in cache\n"
          ]
        },
        {
          "name": "stdout",
          "output_type": "stream",
          "text": [
            "360 37 8\n",
            "step1 loop\n"
          ]
        },
        {
          "name": "stderr",
          "output_type": "stream",
          "text": [
            "\n",
            "\n",
            "====== WebDriver manager ======\n"
          ]
        },
        {
          "name": "stdout",
          "output_type": "stream",
          "text": [
            "step 마지막 loop\n"
          ]
        },
        {
          "name": "stderr",
          "output_type": "stream",
          "text": [
            "Current google-chrome version is 100.0.4896\n",
            "Get LATEST chromedriver version for 100.0.4896 google-chrome\n",
            "Driver [C:\\Users\\ynk99\\.wdm\\drivers\\chromedriver\\win32\\100.0.4896.60\\chromedriver.exe] found in cache\n"
          ]
        },
        {
          "name": "stdout",
          "output_type": "stream",
          "text": [
            "277 28 6\n",
            "step1 loop\n",
            "step 마지막 loop\n"
          ]
        },
        {
          "name": "stderr",
          "output_type": "stream",
          "text": [
            "\n",
            "\n",
            "====== WebDriver manager ======\n",
            "Current google-chrome version is 100.0.4896\n",
            "Get LATEST chromedriver version for 100.0.4896 google-chrome\n",
            "Driver [C:\\Users\\ynk99\\.wdm\\drivers\\chromedriver\\win32\\100.0.4896.60\\chromedriver.exe] found in cache\n"
          ]
        },
        {
          "name": "stdout",
          "output_type": "stream",
          "text": [
            "230 24 5\n",
            "step1 loop\n",
            "step 마지막 loop\n"
          ]
        },
        {
          "name": "stderr",
          "output_type": "stream",
          "text": [
            "\n",
            "\n",
            "====== WebDriver manager ======\n",
            "Current google-chrome version is 100.0.4896\n",
            "Get LATEST chromedriver version for 100.0.4896 google-chrome\n",
            "Driver [C:\\Users\\ynk99\\.wdm\\drivers\\chromedriver\\win32\\100.0.4896.60\\chromedriver.exe] found in cache\n"
          ]
        },
        {
          "name": "stdout",
          "output_type": "stream",
          "text": [
            "266 27 6\n",
            "step1 loop\n",
            "step 마지막 loop\n"
          ]
        },
        {
          "name": "stderr",
          "output_type": "stream",
          "text": [
            "\n",
            "\n",
            "====== WebDriver manager ======\n",
            "Current google-chrome version is 100.0.4896\n",
            "Get LATEST chromedriver version for 100.0.4896 google-chrome\n",
            "Driver [C:\\Users\\ynk99\\.wdm\\drivers\\chromedriver\\win32\\100.0.4896.60\\chromedriver.exe] found in cache\n"
          ]
        },
        {
          "name": "stdout",
          "output_type": "stream",
          "text": [
            "155 16 4\n",
            "step1 loop\n"
          ]
        },
        {
          "name": "stderr",
          "output_type": "stream",
          "text": [
            "\n",
            "\n",
            "====== WebDriver manager ======\n"
          ]
        },
        {
          "name": "stdout",
          "output_type": "stream",
          "text": [
            "step 마지막 loop\n"
          ]
        },
        {
          "name": "stderr",
          "output_type": "stream",
          "text": [
            "Current google-chrome version is 100.0.4896\n",
            "Get LATEST chromedriver version for 100.0.4896 google-chrome\n",
            "Driver [C:\\Users\\ynk99\\.wdm\\drivers\\chromedriver\\win32\\100.0.4896.60\\chromedriver.exe] found in cache\n"
          ]
        },
        {
          "name": "stdout",
          "output_type": "stream",
          "text": [
            "63 7 2\n",
            "step1 loop\n",
            "step 마지막 loop\n"
          ]
        },
        {
          "name": "stderr",
          "output_type": "stream",
          "text": [
            "\n",
            "\n",
            "====== WebDriver manager ======\n",
            "Current google-chrome version is 100.0.4896\n",
            "Get LATEST chromedriver version for 100.0.4896 google-chrome\n",
            "Driver [C:\\Users\\ynk99\\.wdm\\drivers\\chromedriver\\win32\\100.0.4896.60\\chromedriver.exe] found in cache\n"
          ]
        },
        {
          "name": "stdout",
          "output_type": "stream",
          "text": [
            "256 26 6\n",
            "step1 loop\n"
          ]
        },
        {
          "name": "stderr",
          "output_type": "stream",
          "text": [
            "\n",
            "\n",
            "====== WebDriver manager ======\n"
          ]
        },
        {
          "name": "stdout",
          "output_type": "stream",
          "text": [
            "step 마지막 loop\n"
          ]
        },
        {
          "name": "stderr",
          "output_type": "stream",
          "text": [
            "Current google-chrome version is 100.0.4896\n",
            "Get LATEST chromedriver version for 100.0.4896 google-chrome\n",
            "Driver [C:\\Users\\ynk99\\.wdm\\drivers\\chromedriver\\win32\\100.0.4896.60\\chromedriver.exe] found in cache\n"
          ]
        },
        {
          "name": "stdout",
          "output_type": "stream",
          "text": [
            "735 74 15\n",
            "step1 loop\n",
            "step 마지막 loop\n"
          ]
        },
        {
          "name": "stderr",
          "output_type": "stream",
          "text": [
            "\n",
            "\n",
            "====== WebDriver manager ======\n",
            "Current google-chrome version is 100.0.4896\n",
            "Get LATEST chromedriver version for 100.0.4896 google-chrome\n",
            "Driver [C:\\Users\\ynk99\\.wdm\\drivers\\chromedriver\\win32\\100.0.4896.60\\chromedriver.exe] found in cache\n"
          ]
        },
        {
          "name": "stdout",
          "output_type": "stream",
          "text": [
            "607 61 13\n",
            "step1 loop\n"
          ]
        },
        {
          "name": "stderr",
          "output_type": "stream",
          "text": [
            "\n",
            "\n",
            "====== WebDriver manager ======\n"
          ]
        },
        {
          "name": "stdout",
          "output_type": "stream",
          "text": [
            "step 마지막 loop\n"
          ]
        },
        {
          "name": "stderr",
          "output_type": "stream",
          "text": [
            "Current google-chrome version is 100.0.4896\n",
            "Get LATEST chromedriver version for 100.0.4896 google-chrome\n",
            "Driver [C:\\Users\\ynk99\\.wdm\\drivers\\chromedriver\\win32\\100.0.4896.60\\chromedriver.exe] found in cache\n"
          ]
        },
        {
          "name": "stdout",
          "output_type": "stream",
          "text": [
            "118 12 3\n",
            "step1 loop\n",
            "step 마지막 loop\n"
          ]
        },
        {
          "name": "stderr",
          "output_type": "stream",
          "text": [
            "\n",
            "\n",
            "====== WebDriver manager ======\n",
            "Current google-chrome version is 100.0.4896\n",
            "Get LATEST chromedriver version for 100.0.4896 google-chrome\n",
            "Driver [C:\\Users\\ynk99\\.wdm\\drivers\\chromedriver\\win32\\100.0.4896.60\\chromedriver.exe] found in cache\n"
          ]
        },
        {
          "name": "stdout",
          "output_type": "stream",
          "text": [
            "906 91 19\n",
            "step1 loop\n"
          ]
        },
        {
          "name": "stderr",
          "output_type": "stream",
          "text": [
            "\n",
            "\n"
          ]
        },
        {
          "name": "stdout",
          "output_type": "stream",
          "text": [
            "step 마지막 loop\n"
          ]
        },
        {
          "name": "stderr",
          "output_type": "stream",
          "text": [
            "====== WebDriver manager ======\n",
            "Current google-chrome version is 100.0.4896\n",
            "Get LATEST chromedriver version for 100.0.4896 google-chrome\n",
            "Driver [C:\\Users\\ynk99\\.wdm\\drivers\\chromedriver\\win32\\100.0.4896.60\\chromedriver.exe] found in cache\n"
          ]
        },
        {
          "name": "stdout",
          "output_type": "stream",
          "text": [
            "458 46 10\n",
            "step1 loop\n"
          ]
        },
        {
          "name": "stderr",
          "output_type": "stream",
          "text": [
            "\n",
            "\n"
          ]
        },
        {
          "name": "stdout",
          "output_type": "stream",
          "text": [
            "step 마지막 loop\n"
          ]
        },
        {
          "name": "stderr",
          "output_type": "stream",
          "text": [
            "====== WebDriver manager ======\n",
            "Current google-chrome version is 100.0.4896\n",
            "Get LATEST chromedriver version for 100.0.4896 google-chrome\n",
            "Driver [C:\\Users\\ynk99\\.wdm\\drivers\\chromedriver\\win32\\100.0.4896.60\\chromedriver.exe] found in cache\n"
          ]
        },
        {
          "name": "stdout",
          "output_type": "stream",
          "text": [
            "349 35 7\n",
            "step1 loop\n",
            "step 마지막 loop\n"
          ]
        },
        {
          "name": "stderr",
          "output_type": "stream",
          "text": [
            "\n",
            "\n",
            "====== WebDriver manager ======\n",
            "Current google-chrome version is 100.0.4896\n",
            "Get LATEST chromedriver version for 100.0.4896 google-chrome\n",
            "Driver [C:\\Users\\ynk99\\.wdm\\drivers\\chromedriver\\win32\\100.0.4896.60\\chromedriver.exe] found in cache\n"
          ]
        },
        {
          "name": "stdout",
          "output_type": "stream",
          "text": [
            "213 22 5\n",
            "step1 loop\n",
            "step 마지막 loop\n"
          ]
        },
        {
          "name": "stderr",
          "output_type": "stream",
          "text": [
            "\n",
            "\n",
            "====== WebDriver manager ======\n",
            "Current google-chrome version is 100.0.4896\n",
            "Get LATEST chromedriver version for 100.0.4896 google-chrome\n",
            "Driver [C:\\Users\\ynk99\\.wdm\\drivers\\chromedriver\\win32\\100.0.4896.60\\chromedriver.exe] found in cache\n"
          ]
        },
        {
          "name": "stdout",
          "output_type": "stream",
          "text": [
            "975 98 20\n",
            "step1 loop\n",
            "step 마지막 loop\n"
          ]
        },
        {
          "name": "stderr",
          "output_type": "stream",
          "text": [
            "\n",
            "\n",
            "====== WebDriver manager ======\n",
            "Current google-chrome version is 100.0.4896\n",
            "Get LATEST chromedriver version for 100.0.4896 google-chrome\n",
            "Driver [C:\\Users\\ynk99\\.wdm\\drivers\\chromedriver\\win32\\100.0.4896.60\\chromedriver.exe] found in cache\n"
          ]
        },
        {
          "name": "stdout",
          "output_type": "stream",
          "text": [
            "2133 214 43\n",
            "step1 loop\n",
            "step 마지막 loop\n"
          ]
        },
        {
          "name": "stderr",
          "output_type": "stream",
          "text": [
            "\n",
            "\n",
            "====== WebDriver manager ======\n",
            "Current google-chrome version is 100.0.4896\n",
            "Get LATEST chromedriver version for 100.0.4896 google-chrome\n",
            "Driver [C:\\Users\\ynk99\\.wdm\\drivers\\chromedriver\\win32\\100.0.4896.60\\chromedriver.exe] found in cache\n"
          ]
        },
        {
          "name": "stdout",
          "output_type": "stream",
          "text": [
            "409 41 9\n",
            "step1 loop\n"
          ]
        },
        {
          "name": "stderr",
          "output_type": "stream",
          "text": [
            "\n",
            "\n",
            "====== WebDriver manager ======\n"
          ]
        },
        {
          "name": "stdout",
          "output_type": "stream",
          "text": [
            "step 마지막 loop\n"
          ]
        },
        {
          "name": "stderr",
          "output_type": "stream",
          "text": [
            "Current google-chrome version is 100.0.4896\n",
            "Get LATEST chromedriver version for 100.0.4896 google-chrome\n",
            "Driver [C:\\Users\\ynk99\\.wdm\\drivers\\chromedriver\\win32\\100.0.4896.60\\chromedriver.exe] found in cache\n"
          ]
        },
        {
          "name": "stdout",
          "output_type": "stream",
          "text": [
            "3453 346 70\n",
            "step1 loop\n",
            "step 마지막 loop\n"
          ]
        },
        {
          "name": "stderr",
          "output_type": "stream",
          "text": [
            "\n",
            "\n",
            "====== WebDriver manager ======\n",
            "Current google-chrome version is 100.0.4896\n",
            "Get LATEST chromedriver version for 100.0.4896 google-chrome\n",
            "Driver [C:\\Users\\ynk99\\.wdm\\drivers\\chromedriver\\win32\\100.0.4896.60\\chromedriver.exe] found in cache\n"
          ]
        },
        {
          "name": "stdout",
          "output_type": "stream",
          "text": [
            "1522 153 31\n",
            "step1 loop\n",
            "step 마지막 loop\n"
          ]
        },
        {
          "name": "stderr",
          "output_type": "stream",
          "text": [
            "\n",
            "\n",
            "====== WebDriver manager ======\n",
            "Current google-chrome version is 100.0.4896\n",
            "Get LATEST chromedriver version for 100.0.4896 google-chrome\n",
            "Driver [C:\\Users\\ynk99\\.wdm\\drivers\\chromedriver\\win32\\100.0.4896.60\\chromedriver.exe] found in cache\n"
          ]
        },
        {
          "name": "stdout",
          "output_type": "stream",
          "text": [
            "1852 186 38\n",
            "step1 loop\n",
            "step 마지막 loop\n"
          ]
        },
        {
          "name": "stderr",
          "output_type": "stream",
          "text": [
            "\n",
            "\n",
            "====== WebDriver manager ======\n",
            "Current google-chrome version is 100.0.4896\n",
            "Get LATEST chromedriver version for 100.0.4896 google-chrome\n",
            "Driver [C:\\Users\\ynk99\\.wdm\\drivers\\chromedriver\\win32\\100.0.4896.60\\chromedriver.exe] found in cache\n"
          ]
        },
        {
          "name": "stdout",
          "output_type": "stream",
          "text": [
            "337 34 7\n",
            "step1 loop\n",
            "step 마지막 loop\n"
          ]
        },
        {
          "name": "stderr",
          "output_type": "stream",
          "text": [
            "\n",
            "\n",
            "====== WebDriver manager ======\n",
            "Current google-chrome version is 100.0.4896\n",
            "Get LATEST chromedriver version for 100.0.4896 google-chrome\n",
            "Driver [C:\\Users\\ynk99\\.wdm\\drivers\\chromedriver\\win32\\100.0.4896.60\\chromedriver.exe] found in cache\n"
          ]
        },
        {
          "name": "stdout",
          "output_type": "stream",
          "text": [
            "242 25 5\n",
            "step1 loop\n",
            "step 마지막 loop\n"
          ]
        },
        {
          "name": "stderr",
          "output_type": "stream",
          "text": [
            "\n",
            "\n",
            "====== WebDriver manager ======\n",
            "Current google-chrome version is 100.0.4896\n",
            "Get LATEST chromedriver version for 100.0.4896 google-chrome\n",
            "Driver [C:\\Users\\ynk99\\.wdm\\drivers\\chromedriver\\win32\\100.0.4896.60\\chromedriver.exe] found in cache\n"
          ]
        },
        {
          "name": "stdout",
          "output_type": "stream",
          "text": [
            "74 8 2\n",
            "step1 loop\n",
            "step 마지막 loop\n"
          ]
        },
        {
          "name": "stderr",
          "output_type": "stream",
          "text": [
            "\n",
            "\n",
            "====== WebDriver manager ======\n",
            "Current google-chrome version is 100.0.4896\n",
            "Get LATEST chromedriver version for 100.0.4896 google-chrome\n",
            "Driver [C:\\Users\\ynk99\\.wdm\\drivers\\chromedriver\\win32\\100.0.4896.60\\chromedriver.exe] found in cache\n"
          ]
        },
        {
          "name": "stdout",
          "output_type": "stream",
          "text": [
            "1231 124 25\n",
            "step1 loop\n",
            "step 마지막 loop\n"
          ]
        },
        {
          "name": "stderr",
          "output_type": "stream",
          "text": [
            "\n",
            "\n",
            "====== WebDriver manager ======\n",
            "Current google-chrome version is 100.0.4896\n",
            "Get LATEST chromedriver version for 100.0.4896 google-chrome\n",
            "Driver [C:\\Users\\ynk99\\.wdm\\drivers\\chromedriver\\win32\\100.0.4896.60\\chromedriver.exe] found in cache\n"
          ]
        },
        {
          "name": "stdout",
          "output_type": "stream",
          "text": [
            "217 22 5\n",
            "step1 loop\n",
            "step 마지막 loop\n"
          ]
        },
        {
          "name": "stderr",
          "output_type": "stream",
          "text": [
            "\n",
            "\n",
            "====== WebDriver manager ======\n",
            "Current google-chrome version is 100.0.4896\n",
            "Get LATEST chromedriver version for 100.0.4896 google-chrome\n",
            "Driver [C:\\Users\\ynk99\\.wdm\\drivers\\chromedriver\\win32\\100.0.4896.60\\chromedriver.exe] found in cache\n"
          ]
        },
        {
          "name": "stdout",
          "output_type": "stream",
          "text": [
            "5 1 1\n",
            "step1 loop\n"
          ]
        },
        {
          "name": "stderr",
          "output_type": "stream",
          "text": [
            "\n",
            "\n",
            "====== WebDriver manager ======\n",
            "Current google-chrome version is 100.0.4896\n",
            "Get LATEST chromedriver version for 100.0.4896 google-chrome\n",
            "Driver [C:\\Users\\ynk99\\.wdm\\drivers\\chromedriver\\win32\\100.0.4896.60\\chromedriver.exe] found in cache\n"
          ]
        },
        {
          "name": "stdout",
          "output_type": "stream",
          "text": [
            "199 20 4\n",
            "step1 loop\n",
            "step 마지막 loop\n"
          ]
        },
        {
          "name": "stderr",
          "output_type": "stream",
          "text": [
            "\n",
            "\n",
            "====== WebDriver manager ======\n",
            "Current google-chrome version is 100.0.4896\n",
            "Get LATEST chromedriver version for 100.0.4896 google-chrome\n",
            "Driver [C:\\Users\\ynk99\\.wdm\\drivers\\chromedriver\\win32\\100.0.4896.60\\chromedriver.exe] found in cache\n"
          ]
        },
        {
          "name": "stdout",
          "output_type": "stream",
          "text": [
            "11 2 1\n",
            "step1 loop\n"
          ]
        },
        {
          "name": "stderr",
          "output_type": "stream",
          "text": [
            "\n",
            "\n",
            "====== WebDriver manager ======\n",
            "Current google-chrome version is 100.0.4896\n",
            "Get LATEST chromedriver version for 100.0.4896 google-chrome\n",
            "Driver [C:\\Users\\ynk99\\.wdm\\drivers\\chromedriver\\win32\\100.0.4896.60\\chromedriver.exe] found in cache\n"
          ]
        },
        {
          "name": "stdout",
          "output_type": "stream",
          "text": [
            "589 59 12\n",
            "step1 loop\n",
            "step 마지막 loop\n"
          ]
        },
        {
          "name": "stderr",
          "output_type": "stream",
          "text": [
            "\n",
            "\n",
            "====== WebDriver manager ======\n",
            "Current google-chrome version is 100.0.4896\n",
            "Get LATEST chromedriver version for 100.0.4896 google-chrome\n",
            "Driver [C:\\Users\\ynk99\\.wdm\\drivers\\chromedriver\\win32\\100.0.4896.60\\chromedriver.exe] found in cache\n"
          ]
        },
        {
          "name": "stdout",
          "output_type": "stream",
          "text": [
            "260 27 6\n",
            "step1 loop\n",
            "step 마지막 loop\n"
          ]
        }
      ],
      "source": [
        "review = []\n",
        "star = []\n",
        "hotels = []\n",
        "date = []\n",
        "ex = []\n",
        "\n",
        "for u in hotelurl:\n",
        "  # 페이지 로딩 3초 대기\n",
        "    driver = webdriver.Chrome(ChromeDriverManager().install())\n",
        "    try:\n",
        "        make_review_crawl(u)\n",
        "    except:\n",
        "        ex.append(u)\n",
        "    driver.close()"
      ]
    },
    {
      "cell_type": "code",
      "execution_count": null,
      "metadata": {
        "id": "uka-tcef6aY5",
        "scrolled": true,
        "outputId": "3b2f7af0-2e03-4827-9bda-4f55fa724fdb"
      },
      "outputs": [
        {
          "data": {
            "text/html": [
              "<div>\n",
              "<style scoped>\n",
              "    .dataframe tbody tr th:only-of-type {\n",
              "        vertical-align: middle;\n",
              "    }\n",
              "\n",
              "    .dataframe tbody tr th {\n",
              "        vertical-align: top;\n",
              "    }\n",
              "\n",
              "    .dataframe thead th {\n",
              "        text-align: right;\n",
              "    }\n",
              "</style>\n",
              "<table border=\"1\" class=\"dataframe\">\n",
              "  <thead>\n",
              "    <tr style=\"text-align: right;\">\n",
              "      <th></th>\n",
              "      <th>hotel</th>\n",
              "      <th>star</th>\n",
              "      <th>review</th>\n",
              "      <th>date</th>\n",
              "    </tr>\n",
              "  </thead>\n",
              "  <tbody>\n",
              "    <tr>\n",
              "      <th>0</th>\n",
              "      <td>신라스테이 역삼</td>\n",
              "      <td>8.0</td>\n",
              "      <td>출장으로 역삼 근처 호텔 찾아보다가 신라스테이 근처에 센터필드도 있고 밥집 카페도 ...</td>\n",
              "      <td>20시간 전</td>\n",
              "    </tr>\n",
              "    <tr>\n",
              "      <th>1</th>\n",
              "      <td>신라스테이 역삼</td>\n",
              "      <td>10.0</td>\n",
              "      <td>잘쉬디ㅡ으ㅡㅁ잘쉬디ㅡ으ㅡㅁ잘쉬디ㅡ으ㅡㅁ잘쉬디ㅡ으ㅡㅁ잘쉬디ㅡ으ㅡㅁ잘쉬디ㅡ으ㅡㅁ잘쉬디ㅡ...</td>\n",
              "      <td>10일 전</td>\n",
              "    </tr>\n",
              "    <tr>\n",
              "      <th>2</th>\n",
              "      <td>신라스테이 역삼</td>\n",
              "      <td>10.0</td>\n",
              "      <td>깔끔하고 고급스러웠습니다 가격대비 만족했던곳이라 넘넘 만족스러웠어요 로비도 깔끔하고...</td>\n",
              "      <td>12일 전</td>\n",
              "    </tr>\n",
              "    <tr>\n",
              "      <th>3</th>\n",
              "      <td>신라스테이 역삼</td>\n",
              "      <td>10.0</td>\n",
              "      <td>직원분들 너무 친절하십니다 안내데스크가 넓어서 잠시 쉬기에도 편합니다 편의점이 바로...</td>\n",
              "      <td>24일 전</td>\n",
              "    </tr>\n",
              "    <tr>\n",
              "      <th>4</th>\n",
              "      <td>신라스테이 역삼</td>\n",
              "      <td>10.0</td>\n",
              "      <td>깔끔하고 서울에서 갑자기 일이 있거나 놀게 되었을 때 가장 합리적인 선택이라고 생각...</td>\n",
              "      <td>24일 전</td>\n",
              "    </tr>\n",
              "    <tr>\n",
              "      <th>...</th>\n",
              "      <td>...</td>\n",
              "      <td>...</td>\n",
              "      <td>...</td>\n",
              "      <td>...</td>\n",
              "    </tr>\n",
              "    <tr>\n",
              "      <th>143896</th>\n",
              "      <td>뜨랑블루 호텔</td>\n",
              "      <td>4.3</td>\n",
              "      <td>시설 깨끗하고 다 좋은데퇴실도 안햇는데 청소하시는분인지 입구문을 맘대로 여시더라구요...</td>\n",
              "      <td>5년 전</td>\n",
              "    </tr>\n",
              "    <tr>\n",
              "      <th>143897</th>\n",
              "      <td>뜨랑블루 호텔</td>\n",
              "      <td>10.0</td>\n",
              "      <td>깔끔하고 친철하고 모두 만족해요꼭 한번더 오고 싶은 숙박업소입니다.</td>\n",
              "      <td>5년 전</td>\n",
              "    </tr>\n",
              "    <tr>\n",
              "      <th>143898</th>\n",
              "      <td>뜨랑블루 호텔</td>\n",
              "      <td>10.0</td>\n",
              "      <td>괜찮았어요 좋더라구요 마음에 들었어요냄새도 안나드러구요</td>\n",
              "      <td>5년 전</td>\n",
              "    </tr>\n",
              "    <tr>\n",
              "      <th>143899</th>\n",
              "      <td>뜨랑블루 호텔</td>\n",
              "      <td>10.0</td>\n",
              "      <td>시설 신림권에서 최고청결하고 수건에서 냄새도 안나고흠이라면 1000원받는 일회용품이...</td>\n",
              "      <td>5년 전</td>\n",
              "    </tr>\n",
              "    <tr>\n",
              "      <th>143900</th>\n",
              "      <td>뜨랑블루 호텔</td>\n",
              "      <td>9.0</td>\n",
              "      <td>일단 조식이 포함되어있어서 좋았구요 방도 깨끗하고~하루정도 지내기엔 좋은거 같네요~...</td>\n",
              "      <td>5년 전</td>\n",
              "    </tr>\n",
              "  </tbody>\n",
              "</table>\n",
              "<p>143901 rows × 4 columns</p>\n",
              "</div>"
            ],
            "text/plain": [
              "           hotel  star                                             review  \\\n",
              "0       신라스테이 역삼   8.0  출장으로 역삼 근처 호텔 찾아보다가 신라스테이 근처에 센터필드도 있고 밥집 카페도 ...   \n",
              "1       신라스테이 역삼  10.0  잘쉬디ㅡ으ㅡㅁ잘쉬디ㅡ으ㅡㅁ잘쉬디ㅡ으ㅡㅁ잘쉬디ㅡ으ㅡㅁ잘쉬디ㅡ으ㅡㅁ잘쉬디ㅡ으ㅡㅁ잘쉬디ㅡ...   \n",
              "2       신라스테이 역삼  10.0  깔끔하고 고급스러웠습니다 가격대비 만족했던곳이라 넘넘 만족스러웠어요 로비도 깔끔하고...   \n",
              "3       신라스테이 역삼  10.0  직원분들 너무 친절하십니다 안내데스크가 넓어서 잠시 쉬기에도 편합니다 편의점이 바로...   \n",
              "4       신라스테이 역삼  10.0  깔끔하고 서울에서 갑자기 일이 있거나 놀게 되었을 때 가장 합리적인 선택이라고 생각...   \n",
              "...          ...   ...                                                ...   \n",
              "143896   뜨랑블루 호텔   4.3  시설 깨끗하고 다 좋은데퇴실도 안햇는데 청소하시는분인지 입구문을 맘대로 여시더라구요...   \n",
              "143897   뜨랑블루 호텔  10.0              깔끔하고 친철하고 모두 만족해요꼭 한번더 오고 싶은 숙박업소입니다.   \n",
              "143898   뜨랑블루 호텔  10.0                     괜찮았어요 좋더라구요 마음에 들었어요냄새도 안나드러구요   \n",
              "143899   뜨랑블루 호텔  10.0  시설 신림권에서 최고청결하고 수건에서 냄새도 안나고흠이라면 1000원받는 일회용품이...   \n",
              "143900   뜨랑블루 호텔   9.0  일단 조식이 포함되어있어서 좋았구요 방도 깨끗하고~하루정도 지내기엔 좋은거 같네요~...   \n",
              "\n",
              "          date  \n",
              "0       20시간 전  \n",
              "1        10일 전  \n",
              "2        12일 전  \n",
              "3        24일 전  \n",
              "4        24일 전  \n",
              "...        ...  \n",
              "143896    5년 전  \n",
              "143897    5년 전  \n",
              "143898    5년 전  \n",
              "143899    5년 전  \n",
              "143900    5년 전  \n",
              "\n",
              "[143901 rows x 4 columns]"
            ]
          },
          "execution_count": 53,
          "metadata": {},
          "output_type": "execute_result"
        }
      ],
      "source": [
        "df"
      ]
    },
    {
      "cell_type": "code",
      "execution_count": null,
      "metadata": {
        "id": "cEIkuU8YnPL_"
      },
      "outputs": [],
      "source": [
        "df.to_csv(\"여기어때_크롤링.csv\", index = False)"
      ]
    }
  ],
  "metadata": {
    "colab": {
      "collapsed_sections": [],
      "name": "여기어때크롤링제출용.ipynb",
      "provenance": [],
      "include_colab_link": true
    },
    "kernelspec": {
      "display_name": "Python 3",
      "language": "python",
      "name": "python3"
    },
    "language_info": {
      "codemirror_mode": {
        "name": "ipython",
        "version": 3
      },
      "file_extension": ".py",
      "mimetype": "text/x-python",
      "name": "python",
      "nbconvert_exporter": "python",
      "pygments_lexer": "ipython3",
      "version": "3.6.12"
    }
  },
  "nbformat": 4,
  "nbformat_minor": 0
}